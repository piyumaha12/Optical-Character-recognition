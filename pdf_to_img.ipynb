{
 "cells": [
  {
   "cell_type": "code",
   "execution_count": 9,
   "metadata": {},
   "outputs": [],
   "source": [
    "from pdf2image import convert_from_path\n",
    "import os\n",
    "import re"
   ]
  },
  {
   "cell_type": "code",
   "execution_count": 2,
   "metadata": {},
   "outputs": [],
   "source": [
    "PATH_IMG = 'H:\\\\Interviews\\\\Masters india\\\\mlassignmentmastersindia\\\\'"
   ]
  },
  {
   "cell_type": "code",
   "execution_count": 25,
   "metadata": {},
   "outputs": [],
   "source": [
    "pdf_file_names = os.listdir(PATH_IMG)\n",
    "pdf_file_names = [x for x in pdf_file_names if x.endswith('.pdf')]\n",
    "pdf_path = [os.path.join(PATH_IMG, x) for x in pdf_file_names]"
   ]
  },
  {
   "cell_type": "code",
   "execution_count": 27,
   "metadata": {},
   "outputs": [
    {
     "data": {
      "text/plain": [
       "'H:\\\\Interviews\\\\Masters india\\\\mlassignmentmastersindia\\\\1291908241.pdf'"
      ]
     },
     "execution_count": 27,
     "metadata": {},
     "output_type": "execute_result"
    }
   ],
   "source": [
    "pdf_path[0]"
   ]
  },
  {
   "cell_type": "code",
   "execution_count": 16,
   "metadata": {},
   "outputs": [],
   "source": [
    "ty = convert_from_path('H:\\\\Interviews\\\\Masters india\\\\mlassignmentmastersindia\\\\19019155.pdf')"
   ]
  },
  {
   "cell_type": "code",
   "execution_count": 8,
   "metadata": {},
   "outputs": [],
   "source": [
    "convert_from_path(pdf_file_names[1])[0].save('out.jpg')"
   ]
  },
  {
   "cell_type": "code",
   "execution_count": 22,
   "metadata": {},
   "outputs": [],
   "source": [
    "x = 'H:\\\\Interviews\\\\Masters india\\\\mlassignmentmastersindia\\\\1291908241.pdf'"
   ]
  },
  {
   "cell_type": "code",
   "execution_count": 24,
   "metadata": {},
   "outputs": [
    {
     "data": {
      "text/plain": [
       "'H:\\\\Interviews\\\\Masters india\\\\mlassignmentmastersindia\\\\1291908241.jpg'"
      ]
     },
     "execution_count": 24,
     "metadata": {},
     "output_type": "execute_result"
    }
   ],
   "source": [
    "x.removesuffix('.pdf')+'.jpg'"
   ]
  },
  {
   "cell_type": "code",
   "execution_count": 36,
   "metadata": {},
   "outputs": [],
   "source": [
    "def pdf_to_image(path_lst):\n",
    "    for path in path_lst:\n",
    "        print(path)\n",
    "        img_lst = convert_from_path(path)\n",
    "        img_lst[0].save(path.removesuffix('.pdf')+'.jpg')"
   ]
  },
  {
   "cell_type": "code",
   "execution_count": 37,
   "metadata": {},
   "outputs": [
    {
     "name": "stdout",
     "output_type": "stream",
     "text": [
      "H:\\Interviews\\Masters india\\mlassignmentmastersindia\\1291908241.pdf\n",
      "H:\\Interviews\\Masters india\\mlassignmentmastersindia\\19019155.pdf\n",
      "H:\\Interviews\\Masters india\\mlassignmentmastersindia\\IGST NO.333.pdf\n",
      "H:\\Interviews\\Masters india\\mlassignmentmastersindia\\IGST NO.334.pdf\n",
      "H:\\Interviews\\Masters india\\mlassignmentmastersindia\\Invoice  - 10001.pdf\n",
      "H:\\Interviews\\Masters india\\mlassignmentmastersindia\\Invoice - 20004.pdf\n",
      "H:\\Interviews\\Masters india\\mlassignmentmastersindia\\Sales_Invoice_1EOU192001343.pdf\n",
      "H:\\Interviews\\Masters india\\mlassignmentmastersindia\\Sales_Invoice_1EOU192001344.pdf\n"
     ]
    }
   ],
   "source": [
    "pdf_to_image(pdf_path) "
   ]
  },
  {
   "cell_type": "code",
   "execution_count": null,
   "metadata": {},
   "outputs": [],
   "source": []
  }
 ],
 "metadata": {
  "interpreter": {
   "hash": "f4e04f42c045def5aa7d79311fcd976240163128e37e7a373751b42951a60e82"
  },
  "kernelspec": {
   "display_name": "Python 3.9.7",
   "language": "python",
   "name": "python3"
  },
  "language_info": {
   "codemirror_mode": {
    "name": "ipython",
    "version": 3
   },
   "file_extension": ".py",
   "mimetype": "text/x-python",
   "name": "python",
   "nbconvert_exporter": "python",
   "pygments_lexer": "ipython3",
   "version": "3.9.7"
  },
  "orig_nbformat": 4
 },
 "nbformat": 4,
 "nbformat_minor": 2
}
