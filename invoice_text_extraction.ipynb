{
 "cells": [
  {
   "cell_type": "markdown",
   "metadata": {},
   "source": [
    "# <span style= 'color:blue'>Imports </span>"
   ]
  },
  {
   "cell_type": "code",
   "execution_count": 1,
   "metadata": {},
   "outputs": [],
   "source": [
    "import pytesseract\n",
    "# pytesseract.pytesseract.tesseract_cmd = r'C:\\\\Program Files\\\\Tesseract-OCR\\\\tesseract.exe'\n",
    "import cv2 \n",
    "import os\n",
    "import matplotlib.pyplot as plt\n",
    "import seaborn as sns\n",
    "import numpy as np\n",
    "import re\n",
    "\n",
    "import pandas as pd\n",
    "\n",
    "\n",
    "from sklearn.preprocessing import MinMaxScaler\n",
    "from sklearn.cluster import AgglomerativeClustering, KMeans, DBSCAN\n",
    "from pytesseract import Output\n",
    "from colorama import Fore, Back, Style\n",
    "y_ = Fore.YELLOW\n",
    "r_ = Fore.RED\n",
    "g_ = Fore.GREEN\n",
    "b_ = Fore.BLUE\n",
    "m_ = Fore.MAGENTA\n",
    "bl_ = Fore.BLACK\n",
    "\n",
    "# plt.rcParams['figure.figsize'] = (20,12)"
   ]
  },
  {
   "cell_type": "code",
   "execution_count": 2,
   "metadata": {},
   "outputs": [],
   "source": [
    "PATH_IMG = 'H:\\\\Interviews\\\\Masters india assignment\\\\mlassignmentmastersindia\\\\'"
   ]
  },
  {
   "cell_type": "code",
   "execution_count": 3,
   "metadata": {},
   "outputs": [
    {
     "data": {
      "text/plain": [
       "['1291908241.jpg',\n",
       " '19019155.jpg',\n",
       " 'Decathlon Invoice.jpg',\n",
       " 'Decathlon Tax Invoice.jpg',\n",
       " 'IGST NO.333.jpg',\n",
       " 'IGST NO.334.jpg',\n",
       " 'Invoice  - 10001.jpg',\n",
       " 'Invoice - 20004.jpg',\n",
       " 'Sales_Invoice_1EOU192001343.jpg',\n",
       " 'Sales_Invoice_1EOU192001344.jpg']"
      ]
     },
     "execution_count": 3,
     "metadata": {},
     "output_type": "execute_result"
    }
   ],
   "source": [
    "os.listdir(PATH_IMG)"
   ]
  },
  {
   "cell_type": "code",
   "execution_count": 4,
   "metadata": {},
   "outputs": [],
   "source": [
    "image_paths = [os.path.join(PATH_IMG, x) for x in os.listdir(PATH_IMG)]"
   ]
  },
  {
   "cell_type": "code",
   "execution_count": 5,
   "metadata": {},
   "outputs": [],
   "source": [
    "bad_image_path = image_paths[2]\n",
    "good_image_path = image_paths[0]"
   ]
  },
  {
   "cell_type": "code",
   "execution_count": 6,
   "metadata": {},
   "outputs": [
    {
     "data": {
      "text/plain": [
       "'H:\\\\Interviews\\\\Masters india assignment\\\\mlassignmentmastersindia\\\\1291908241.jpg'"
      ]
     },
     "execution_count": 6,
     "metadata": {},
     "output_type": "execute_result"
    }
   ],
   "source": [
    "good_image_path"
   ]
  },
  {
   "cell_type": "markdown",
   "metadata": {},
   "source": [
    "# <span style = 'color: blue'> OpenCV </span>"
   ]
  },
  {
   "cell_type": "markdown",
   "metadata": {},
   "source": [
    "## 2.0 Functions"
   ]
  },
  {
   "cell_type": "code",
   "execution_count": 7,
   "metadata": {},
   "outputs": [],
   "source": [
    "def read_img(path):\n",
    "    img = cv2.imread(path)\n",
    "    img = cv2.cvtColor(img, cv2.COLOR_BGR2RGB)\n",
    "    return img\n",
    "\n",
    "def plot_image(image, figsize = (25,15), gray = True):\n",
    "    plt.figure(figsize=figsize)\n",
    "    if gray:\n",
    "        plt.imshow(image, label = 'Original', cmap = 'gray')\n",
    "    else:\n",
    "        plt.imshow(image, label = 'Original')\n",
    "    plt.title('Original')\n",
    "\n",
    "def display(image):\n",
    "    dpi = 80\n",
    "    # image = plt.imread(im_path)\n",
    "\n",
    "    height, width  = image.shape[:2]\n",
    "    \n",
    "    # What size does the figure need to be in inches to fit the image?\n",
    "    figsize = width / float(dpi), height / float(dpi)\n",
    "\n",
    "    # Create a figure of the right size with one axes that takes up the full figure\n",
    "    fig = plt.figure(figsize=figsize)\n",
    "    ax = fig.add_axes([0, 0, 1, 1])\n",
    "\n",
    "    # Hide spines, ticks, etc.\n",
    "    ax.axis('off')\n",
    "\n",
    "    # Display the image.\n",
    "    ax.imshow(image, cmap='gray')\n",
    "\n",
    "    plt.show()\n",
    "\n",
    "\n",
    "def invert_image(image):\n",
    "    image = cv2.bitwise_not(image)\n",
    "    return image\n",
    "\n",
    "\n",
    "def grayscale(image):\n",
    "    return cv2.cvtColor(image, cv2.COLOR_BGR2GRAY)\n",
    "\n",
    "\n",
    "def binarization(image, thresh_val = 180, \n",
    "            maxval = 240, threshold_type = cv2.THRESH_TOZERO):\n",
    "    thresh, image_bw = cv2.threshold(\n",
    "        image, thresh_val, maxval, threshold_type\n",
    "    )\n",
    "    return thresh, image_bw\n",
    "\n",
    "\n",
    "def noise_removal(image, row_shape = 1, col_shape = 1):\n",
    "    kernel = np.ones((row_shape, col_shape), np.uint8)\n",
    "    image = cv2.dilate(image, kernel, iterations = 1)\n",
    "    kernel_1 = np.ones((row_shape, col_shape), np.uint8)\n",
    "    image = cv2.erode(image, kernel_1, iterations= 1)\n",
    "    image = cv2.morphologyEx(image, cv2.MORPH_CLOSE, kernel_1)\n",
    "    image = cv2.medianBlur(image, 3)\n",
    "    return image\n",
    "\n",
    "\n",
    "def thin_font(image, row_shape = 1, col_shape = 1):\n",
    "    image = invert_image(image)\n",
    "    kernel = np.ones((row_shape, col_shape), np.uint8)\n",
    "    image = cv2.erode(image, kernel, iterations = 1)\n",
    "    image = invert_image(image)\n",
    "    return image\n",
    "\n",
    "\n",
    "def thick_font(image, row_shape = 1, col_shape = 1):\n",
    "    image = invert_image(image)\n",
    "    kernel = np.ones((row_shape, col_shape), np.uint8)\n",
    "    image = cv2.erode(image, kernel, iterations = 1)\n",
    "    image = invert_image(image)\n",
    "    return image\n",
    "\n",
    "\n",
    "def image_sharpening(image, i = 9):\n",
    "    kernel_sharpening = np.array([[-1,-1,-1], \n",
    "                              [-1,i,-1], \n",
    "                              [-1,-1,-1]])\n",
    "    sharpened = cv2.filter2D(image, -1, kernel_sharpening)\n",
    "    return sharpened\n",
    "\n",
    "\n",
    "def bounding_box(image):\n",
    "    blur = cv2.GaussianBlur(image, (9,9), 0)\n",
    "    thresh = cv2.threshold(blur, 0, 255, cv2.THRESH_BINARY_INV+cv2.THRESH_OTSU)[1]\n",
    "    kernel = cv2.getStructuringElement(cv2.MORPH_RECT, (6,13))\n",
    "    dilate = cv2.dilate(thresh, kernel, iterations= 1)\n",
    "    cnts = cv2.findContours(dilate, cv2.RETR_EXTERNAL, cv2.CHAIN_APPROX_SIMPLE)\n",
    "    cnts = cnts[0] if len(cnts) == 2 else cnts[1]\n",
    "    cnts = sorted(cnts, key = lambda x: cv2.boundingRect(x)[0])\n",
    "    return cnts"
   ]
  },
  {
   "cell_type": "markdown",
   "metadata": {},
   "source": [
    "## Bad image Image processing and OCR"
   ]
  },
  {
   "cell_type": "markdown",
   "metadata": {},
   "source": [
    "### Using only gray scale and Binarization"
   ]
  },
  {
   "cell_type": "code",
   "execution_count": null,
   "metadata": {},
   "outputs": [],
   "source": [
    "bad_image = read_img(bad_image_path)\n",
    "plot_image(bad_image, figsize= (25,15))"
   ]
  },
  {
   "cell_type": "code",
   "execution_count": null,
   "metadata": {},
   "outputs": [],
   "source": [
    "bad_image_gray = grayscale(bad_image)\n",
    "plt.figure(figsize = (25,15))\n",
    "plt.imshow(bad_image_gray, cmap='gray')"
   ]
  },
  {
   "cell_type": "code",
   "execution_count": null,
   "metadata": {},
   "outputs": [],
   "source": [
    "print(f'For Unprocessed image {y_}',pytesseract.image_to_string(bad_image))"
   ]
  },
  {
   "cell_type": "code",
   "execution_count": null,
   "metadata": {},
   "outputs": [],
   "source": [
    "print(f'For grayscale image {y_}',pytesseract.image_to_string(bad_image_gray))"
   ]
  },
  {
   "cell_type": "code",
   "execution_count": null,
   "metadata": {},
   "outputs": [],
   "source": [
    "bad_image_thick = thick_font(bad_image_gray, row_shape= 1, col_shape= 1)\n",
    "_ , bad_image_thick = binarization(bad_image_thick, thresh_val= 180, maxval= 240)\n",
    "bad_image_thick = image_sharpening(bad_image_thick, i = 9)\n",
    "plot_image(bad_image_thick)"
   ]
  },
  {
   "cell_type": "code",
   "execution_count": null,
   "metadata": {},
   "outputs": [],
   "source": [
    "thresh_bad , bad_image_bin = binarization(bad_image_gray, thresh_val= 155, maxval= 220)\n",
    "plt.figure(figsize = (25,15))\n",
    "plt.imshow(bad_image_bin, cmap='gray')"
   ]
  },
  {
   "cell_type": "code",
   "execution_count": null,
   "metadata": {},
   "outputs": [],
   "source": [
    "print(f'For binarized image {y_}',pytesseract.image_to_string(bad_image_bin))"
   ]
  },
  {
   "cell_type": "code",
   "execution_count": null,
   "metadata": {},
   "outputs": [],
   "source": []
  },
  {
   "cell_type": "code",
   "execution_count": null,
   "metadata": {},
   "outputs": [],
   "source": []
  },
  {
   "cell_type": "code",
   "execution_count": null,
   "metadata": {},
   "outputs": [],
   "source": []
  },
  {
   "cell_type": "code",
   "execution_count": null,
   "metadata": {},
   "outputs": [],
   "source": []
  },
  {
   "cell_type": "code",
   "execution_count": null,
   "metadata": {},
   "outputs": [],
   "source": []
  },
  {
   "cell_type": "code",
   "execution_count": null,
   "metadata": {},
   "outputs": [],
   "source": []
  },
  {
   "cell_type": "code",
   "execution_count": null,
   "metadata": {},
   "outputs": [],
   "source": []
  },
  {
   "cell_type": "code",
   "execution_count": null,
   "metadata": {},
   "outputs": [],
   "source": []
  },
  {
   "cell_type": "markdown",
   "metadata": {},
   "source": [
    "## Good image processing"
   ]
  },
  {
   "cell_type": "code",
   "execution_count": null,
   "metadata": {},
   "outputs": [],
   "source": [
    "good_image = read_img(good_image_path)\n",
    "plot_image(good_image)"
   ]
  },
  {
   "cell_type": "code",
   "execution_count": null,
   "metadata": {},
   "outputs": [],
   "source": [
    "print(pytesseract.image_to_string(good_image))"
   ]
  },
  {
   "cell_type": "code",
   "execution_count": null,
   "metadata": {},
   "outputs": [],
   "source": []
  },
  {
   "cell_type": "code",
   "execution_count": null,
   "metadata": {},
   "outputs": [],
   "source": [
    "good_image_gray = grayscale(good_image)\n",
    "_, good_image_bin = binarization(good_image_gray)\n",
    "plot_image(good_image_bin)"
   ]
  },
  {
   "cell_type": "markdown",
   "metadata": {},
   "source": [
    "### Bounding box"
   ]
  },
  {
   "cell_type": "code",
   "execution_count": null,
   "metadata": {},
   "outputs": [],
   "source": [
    "blur = cv2.GaussianBlur(good_image_bin, (9,9), 0)\n",
    "thresh = cv2.threshold(blur, 0, 255, cv2.THRESH_BINARY_INV+cv2.THRESH_OTSU)[1]\n",
    "kernel = cv2.getStructuringElement(cv2.MORPH_RECT, (6,13))\n",
    "dilate = cv2.dilate(thresh, kernel, iterations= 1)\n",
    "cnts = cv2.findContours(dilate, cv2.RETR_EXTERNAL, cv2.CHAIN_APPROX_SIMPLE)\n",
    "cnts = cnts[0] if len(cnts) == 2 else cnts[1]\n",
    "cnts = sorted(cnts, key = lambda x: cv2.boundingRect(x)[0])"
   ]
  },
  {
   "cell_type": "code",
   "execution_count": null,
   "metadata": {},
   "outputs": [],
   "source": [
    "X,Y , W, H=cv2.boundingRect(cnts[0])\n",
    "X,Y,W,H"
   ]
  },
  {
   "cell_type": "code",
   "execution_count": null,
   "metadata": {},
   "outputs": [],
   "source": [
    "plot_image(good_image_bin)"
   ]
  },
  {
   "cell_type": "code",
   "execution_count": null,
   "metadata": {},
   "outputs": [],
   "source": [
    "plot_image(good_image_bin[Y+10:Y+H-10, X+10:X+W-10])"
   ]
  },
  {
   "cell_type": "code",
   "execution_count": null,
   "metadata": {},
   "outputs": [],
   "source": [
    "_, good_image_bin = binarization(good_image_gray)\n",
    "plot_image(good_image_bin)"
   ]
  },
  {
   "cell_type": "code",
   "execution_count": null,
   "metadata": {},
   "outputs": [],
   "source": [
    "img_exp=good_image_bin.copy()"
   ]
  },
  {
   "cell_type": "code",
   "execution_count": null,
   "metadata": {},
   "outputs": [],
   "source": [
    "exp = img_exp[Y+10:Y+H-10, X+10:X+W-10]"
   ]
  },
  {
   "cell_type": "code",
   "execution_count": null,
   "metadata": {},
   "outputs": [],
   "source": [
    "blur = cv2.GaussianBlur(exp, (5,11), 0)"
   ]
  },
  {
   "cell_type": "code",
   "execution_count": null,
   "metadata": {},
   "outputs": [],
   "source": [
    "thresh = cv2.threshold(blur, 0, 255, cv2.THRESH_BINARY_INV+cv2.THRESH_OTSU)[1]"
   ]
  },
  {
   "cell_type": "code",
   "execution_count": null,
   "metadata": {},
   "outputs": [],
   "source": [
    "kernel = cv2.getStructuringElement(cv2.MORPH_RECT, (6,13))\n",
    "dilate = cv2.dilate(thresh, kernel, iterations= 1)"
   ]
  },
  {
   "cell_type": "code",
   "execution_count": null,
   "metadata": {},
   "outputs": [],
   "source": [
    "plot_image(dilate)"
   ]
  },
  {
   "cell_type": "code",
   "execution_count": null,
   "metadata": {},
   "outputs": [],
   "source": [
    "cnts = cv2.findContours(dilate, cv2.RETR_EXTERNAL, cv2.CHAIN_APPROX_SIMPLE)\n",
    "cnts = cnts[0] if len(cnts) == 2 else cnts[1]\n",
    "# cnts = sorted(cnts, key = lambda x: cv2.boundingRect(x)[0])"
   ]
  },
  {
   "cell_type": "code",
   "execution_count": null,
   "metadata": {},
   "outputs": [],
   "source": [
    "rect = []\n",
    "for c in cnts:\n",
    "    size_rect = cv2.boundingRect(c)\n",
    "    rect.append(list(size_rect))"
   ]
  },
  {
   "cell_type": "code",
   "execution_count": null,
   "metadata": {},
   "outputs": [],
   "source": [
    "rect = np.array(rect)\n",
    "rect.shape"
   ]
  },
  {
   "cell_type": "code",
   "execution_count": null,
   "metadata": {},
   "outputs": [],
   "source": [
    "T = rect[rect[:,0].argsort()]"
   ]
  },
  {
   "cell_type": "code",
   "execution_count": null,
   "metadata": {},
   "outputs": [],
   "source": [
    "T=T[T[:,1].argsort(kind = 'mergesort')]"
   ]
  },
  {
   "cell_type": "code",
   "execution_count": null,
   "metadata": {},
   "outputs": [],
   "source": [
    "T"
   ]
  },
  {
   "cell_type": "markdown",
   "metadata": {},
   "source": [
    "### Clustering exp"
   ]
  },
  {
   "cell_type": "code",
   "execution_count": null,
   "metadata": {},
   "outputs": [],
   "source": [
    "clustering_data = T[:,0:2]"
   ]
  },
  {
   "cell_type": "code",
   "execution_count": null,
   "metadata": {},
   "outputs": [],
   "source": [
    "plt.scatter(x = clustering_data[:,0], y=clustering_data[:,1])"
   ]
  },
  {
   "cell_type": "code",
   "execution_count": null,
   "metadata": {},
   "outputs": [],
   "source": [
    "scaler = MinMaxScaler()\n",
    "data = scaler.fit_transform(clustering_data)"
   ]
  },
  {
   "cell_type": "code",
   "execution_count": null,
   "metadata": {},
   "outputs": [],
   "source": [
    "aggo_clustering = AgglomerativeClustering()\n",
    "aggo_clustering = aggo_clustering.fit(data)"
   ]
  },
  {
   "cell_type": "code",
   "execution_count": null,
   "metadata": {},
   "outputs": [],
   "source": [
    "aggo_clustering.fit_predict(data)"
   ]
  },
  {
   "cell_type": "code",
   "execution_count": null,
   "metadata": {},
   "outputs": [],
   "source": [
    "dbscan = DBSCAN(eps = 0.06, min_samples= 2).fit(data)\n",
    "dbscan.labels_"
   ]
  },
  {
   "cell_type": "code",
   "execution_count": null,
   "metadata": {},
   "outputs": [],
   "source": [
    "sns.scatterplot(x = clustering_data[:,0], y=clustering_data[:,1], hue = dbscan.labels_)"
   ]
  },
  {
   "cell_type": "code",
   "execution_count": null,
   "metadata": {},
   "outputs": [],
   "source": [
    "clustering_data"
   ]
  },
  {
   "cell_type": "code",
   "execution_count": null,
   "metadata": {},
   "outputs": [],
   "source": []
  },
  {
   "cell_type": "markdown",
   "metadata": {},
   "source": [
    "### Continue"
   ]
  },
  {
   "cell_type": "code",
   "execution_count": null,
   "metadata": {},
   "outputs": [],
   "source": [
    "first_4 = T[:4]"
   ]
  },
  {
   "cell_type": "code",
   "execution_count": null,
   "metadata": {},
   "outputs": [],
   "source": [
    "first_4  # x , y, w, h"
   ]
  },
  {
   "cell_type": "code",
   "execution_count": null,
   "metadata": {},
   "outputs": [],
   "source": [
    "first_4"
   ]
  },
  {
   "cell_type": "code",
   "execution_count": null,
   "metadata": {},
   "outputs": [],
   "source": [
    "2208-(2122+53)"
   ]
  },
  {
   "cell_type": "code",
   "execution_count": null,
   "metadata": {},
   "outputs": [],
   "source": [
    "new = []\n",
    "for i,arr in enumerate(first_4):\n",
    "    x, y, w, h = arr\n",
    "    try:\n",
    "        x_1, y_1, w_1, h_1 = first_4[i+1]\n",
    "        if x_1 - (x + w) < 50 and y == y_1:\n",
    "            x_new, y_new, w_new, h_new = x, y, (x_1-x+w_1), max(h, h_1)\n",
    "            new.append([x_new, y_new, w_new, h_new])\n",
    "    except:\n",
    "        pass"
   ]
  },
  {
   "cell_type": "code",
   "execution_count": null,
   "metadata": {},
   "outputs": [],
   "source": [
    "new = np.array(new)"
   ]
  },
  {
   "cell_type": "code",
   "execution_count": null,
   "metadata": {},
   "outputs": [],
   "source": [
    "for c in new:\n",
    "    print(c)\n",
    "    x, y, w, h = c\n",
    "    cv2.rectangle(exp, (x, y), (x+w, y+h), (36,255,12), 2)"
   ]
  },
  {
   "cell_type": "code",
   "execution_count": null,
   "metadata": {},
   "outputs": [],
   "source": [
    "for c in cnts:\n",
    "    print(c)\n",
    "    x, y, w, h = cv2.boundingRect(c)\n",
    "    if h>20 and w >20:\n",
    "        cv2.rectangle(exp, (x, y), (x+w, y+h), (36,255,12), 2)\n",
    "    "
   ]
  },
  {
   "cell_type": "code",
   "execution_count": null,
   "metadata": {},
   "outputs": [],
   "source": []
  },
  {
   "cell_type": "code",
   "execution_count": null,
   "metadata": {},
   "outputs": [],
   "source": []
  },
  {
   "cell_type": "code",
   "execution_count": null,
   "metadata": {},
   "outputs": [],
   "source": [
    "plot_image(exp)"
   ]
  },
  {
   "cell_type": "markdown",
   "metadata": {},
   "source": [
    "## 2.2 Binarization image"
   ]
  },
  {
   "cell_type": "code",
   "execution_count": null,
   "metadata": {},
   "outputs": [],
   "source": [
    "img =read_img(bad_image_path)"
   ]
  },
  {
   "cell_type": "code",
   "execution_count": null,
   "metadata": {},
   "outputs": [],
   "source": [
    "gray_img = cv2.cvtColor(img, cv2.COLOR_BGR2GRAY)\n",
    "plt.figure(figsize = (40,20))\n",
    "plt.imshow(gray_img, cmap= 'gray')"
   ]
  },
  {
   "cell_type": "code",
   "execution_count": null,
   "metadata": {},
   "outputs": [],
   "source": [
    "thresh, img_bw = cv2.threshold(gray_img, 180, 240,cv2.THRESH_TOZERO)"
   ]
  },
  {
   "cell_type": "code",
   "execution_count": null,
   "metadata": {},
   "outputs": [],
   "source": [
    "plt.figure(figsize = (40,20))\n",
    "plt.imshow(img_bw, cmap= 'Greys_r')"
   ]
  },
  {
   "cell_type": "code",
   "execution_count": null,
   "metadata": {},
   "outputs": [],
   "source": [
    "\n",
    "img_bw2 = cv2.adaptiveThreshold(gray_img, 255, cv2.ADAPTIVE_THRESH_GAUSSIAN_C,\n",
    "    cv2.THRESH_BINARY, 15,10\n",
    ")"
   ]
  },
  {
   "cell_type": "code",
   "execution_count": null,
   "metadata": {},
   "outputs": [],
   "source": [
    "plt.figure(figsize = (40,20))\n",
    "plt.imshow(img_bw2, cmap= 'Greys_r')"
   ]
  },
  {
   "cell_type": "code",
   "execution_count": null,
   "metadata": {},
   "outputs": [],
   "source": []
  },
  {
   "cell_type": "markdown",
   "metadata": {},
   "source": [
    "## 2.1 Image sharpening"
   ]
  },
  {
   "cell_type": "code",
   "execution_count": null,
   "metadata": {},
   "outputs": [],
   "source": [
    "kernel_sharpening = np.array([[-1,-1,-1], \n",
    "                              [-1,9,-1], \n",
    "                              [-1,-1,-1]])\n",
    "sharpened = cv2.filter2D(img, -1, kernel_sharpening)"
   ]
  },
  {
   "cell_type": "code",
   "execution_count": null,
   "metadata": {},
   "outputs": [],
   "source": [
    "plt.subplot(1,2,1)\n",
    "plt.imshow(sharpened)\n",
    "plt.title('Sharpened')\n",
    "plt.subplot(1,2,2)\n",
    "plt.imshow(img)"
   ]
  },
  {
   "cell_type": "markdown",
   "metadata": {},
   "source": [
    "## Image Erosion"
   ]
  },
  {
   "cell_type": "code",
   "execution_count": null,
   "metadata": {},
   "outputs": [],
   "source": [
    "kernel = np.ones((4,2), np.uint8)\n",
    "erosion = cv2.erode(img, kernel, iterations = 1)\n",
    "plt.subplot(1,2,1)\n",
    "plt.imshow(erosion)\n",
    "plt.subplot(1,2,2)\n",
    "plt.imshow(img)"
   ]
  },
  {
   "cell_type": "code",
   "execution_count": null,
   "metadata": {},
   "outputs": [],
   "source": [
    "kernel = np.ones((4,2), np.uint8)\n",
    "erosion = cv2.erode(img, kernel, iterations = 1)\n",
    "\n",
    "kernel_sharpening = np.array([[-1,-1,-1], \n",
    "                              [-1,9,-1], \n",
    "                              [-1,-1,-1]])\n",
    "sharpened = cv2.filter2D(erosion, -1, kernel_sharpening)\n",
    "\n",
    "plt.subplot(1,2,1)\n",
    "plt.imshow(sharpened)\n",
    "plt.subplot(1,2,2)\n",
    "plt.imshow(img)"
   ]
  },
  {
   "cell_type": "markdown",
   "metadata": {},
   "source": [
    "# <span style = 'color:blue'> Tesseract </span>"
   ]
  },
  {
   "cell_type": "code",
   "execution_count": 63,
   "metadata": {},
   "outputs": [],
   "source": [
    "img = read_img(good_image_path)"
   ]
  },
  {
   "cell_type": "code",
   "execution_count": 64,
   "metadata": {},
   "outputs": [],
   "source": [
    "# img = read_img(image_paths[6])"
   ]
  },
  {
   "cell_type": "code",
   "execution_count": 65,
   "metadata": {},
   "outputs": [
    {
     "data": {
      "image/png": "[encoded data removed]",
      "text/plain": [
       "<Figure size 1800x1080 with 1 Axes>"
      ]
     },
     "metadata": {
      "needs_background": "light"
     },
     "output_type": "display_data"
    }
   ],
   "source": [
    "plot_image(img)"
   ]
  },
  {
   "cell_type": "code",
   "execution_count": 66,
   "metadata": {},
   "outputs": [
    {
     "name": "stdout",
     "output_type": "stream",
     "text": [
      "TAX INVOICE ORIGINAL FOR BUYER WB: “5232125\n",
      "Manufacturer: Shahi Exports Pvt. Ltd. Transport Mode: SEA\n",
      "Ambalipura, Belandur Gate, Sarjapura Main Road,Bangalore, Invoice No: 1291908241 Vehicle No :\n",
      "Bengaluru Urban, Karnataka - 560102\n",
      "Invoice Date : 21/01/2020 Buyer Order No: 750557186\n",
      "STATE : KARNATAKA PAN : AAJCS1175L Payment Tem: “TT PAYMENT\n",
      "GSTIN : 29AAJCS1175L1ZU State Code: 29 60 DAYS FROM SHIPMENT BY RGTS/NEFT\n",
      "Ship To DECATHLON SPORTS INDIA PRIVATE LTD Bill To : DECATHLON SPORTS INDIA PVT LTD\n",
      "C/o DHL Supply Chain india Pvt Ltd, Survey# 41/2; Oblapura Survey Number- 78/10,A2 Bellary Road Chikkajala\n",
      "Village; Anugondonahalli, Hosakote Taluk; Bangalore - 560 Village,Bengaluru, Karnataka 562157 TIN - 29640215582,\n",
      "067 Karnataka PAN - AAACL9861H\n",
      "State : KARNATAKA\n",
      "GSTIN: 29AAACL9861H1Z2 State Code: 29 GSTIN: | 29AAACL9861H1Z2 State Code 29 State :KARNATAKA\n",
      "Sl# Description of Goods HSN Code Qty UOM Rate Amount] Discount| UP Taxable CGST SGST IGST Total Value\n",
      "(GST) (INR) Charges Value) % Amount] % Amount] % Amount\n",
      "1 READYMADE GARMENTS (100% POLYESTER MENS 62033300 4806 PCS 514.60 2473167.60 0.00} 0.00 | 2473167.60) 2.50 61829.19| 2.50 61829.19] 0.00 0.00 2596825.98\n",
      "JACKETS WITH LINING AND PADDING )\n",
      "ITEM # 2121844 - 1200 PCS,\n",
      "2121845- 1890 PCS,\n",
      "2121846- 1200 PCS,\n",
      "2121847 -516 PCS\n",
      "Net Net Weight: 0.000 TOTAL # 2473167.60 0.00 0.00] 2473167. 61829.19 61829.19 0.00 2596825.98\n",
      "Values in Words (INR) : Total Invoice Value: 2596825.98\n",
      "\n",
      "Twenty Five Lakh Ninety Six Thousand Eight Hundred Twenty Five And Ninety Eight Paise Only.\n",
      "\n",
      "Our Bank details for payment : YES, BANK, GR. FLOOR & SECOND FLOOR, SCO-4, SECTOR -16, FARIDABAD -121002,\n",
      "SWIFT CODE: YESBINBBDEL, IFSC CODE- YESB0000020, SHAHI EXPORTS PVT. LTD,\n",
      "\n",
      "Account Number- 002081400000088\n",
      "\n",
      "Declaration :\n",
      "2. Reverse charge applicable : NA\n",
      "\n",
      "1. We declare that this invoice shows the actual price of goods described and correct.\n",
      "\n",
      "Signature and Date\n",
      "\n",
      "For SHAHI EXPORTS PVT LTD\n",
      "\n",
      "\n"
     ]
    }
   ],
   "source": [
    "image_string = pytesseract.image_to_string(img)\n",
    "print(image_string)"
   ]
  },
  {
   "cell_type": "code",
   "execution_count": 67,
   "metadata": {},
   "outputs": [],
   "source": [
    "image_string = image_string.lower()"
   ]
  },
  {
   "cell_type": "code",
   "execution_count": 68,
   "metadata": {},
   "outputs": [],
   "source": [
    "text = image_string"
   ]
  },
  {
   "cell_type": "code",
   "execution_count": 69,
   "metadata": {},
   "outputs": [],
   "source": [
    "def pattern_extractor(expression):\n",
    "    pattern = re.compile(expression)\n",
    "    matches = pattern.finditer(text)\n",
    "    print(matches)\n",
    "    for match in matches:\n",
    "        print(match)"
   ]
  },
  {
   "cell_type": "code",
   "execution_count": 70,
   "metadata": {},
   "outputs": [
    {
     "name": "stdout",
     "output_type": "stream",
     "text": [
      "<callable_iterator object at 0x0000013BAE10FA00>\n",
      "<re.Match object; span=(170, 182), match=': 1291908241'>\n"
     ]
    }
   ],
   "source": [
    "pattern_extractor(r'(?<=invoice no) {,3}[:] {,3}[0-9a-z/]{1,}')"
   ]
  },
  {
   "cell_type": "code",
   "execution_count": 71,
   "metadata": {},
   "outputs": [
    {
     "name": "stdout",
     "output_type": "stream",
     "text": [
      "<callable_iterator object at 0x0000013BAE78C730>\n",
      "<re.Match object; span=(244, 244), match=''>\n"
     ]
    }
   ],
   "source": [
    "pattern_extractor(r'(?<=invoice date)|(?<=invoice date and time) {,3}[:-] {,3}[0-9a-z/]')"
   ]
  },
  {
   "cell_type": "code",
   "execution_count": 72,
   "metadata": {},
   "outputs": [
    {
     "name": "stdout",
     "output_type": "stream",
     "text": [
      "<callable_iterator object at 0x0000013BAE78C9A0>\n",
      "<re.Match object; span=(232, 257), match='invoice date : 21/01/2020'>\n"
     ]
    }
   ],
   "source": [
    "pattern_extractor('invoice date {,3}[:-] {,3}[0-9/]*|invoice date and time {,3}[:-] {,3}[0-9/]*')"
   ]
  },
  {
   "cell_type": "code",
   "execution_count": 73,
   "metadata": {},
   "outputs": [
    {
     "name": "stdout",
     "output_type": "stream",
     "text": [
      "<callable_iterator object at 0x0000013BAE78C940>\n",
      "<re.Match object; span=(244, 244), match=''>\n"
     ]
    }
   ],
   "source": [
    "pattern_extractor('(?<=invoice date [(and)&] time)|(?<=invoice date)')"
   ]
  },
  {
   "cell_type": "markdown",
   "metadata": {},
   "source": []
  },
  {
   "cell_type": "code",
   "execution_count": 74,
   "metadata": {},
   "outputs": [
    {
     "data": {
      "text/plain": [
       "160"
      ]
     },
     "execution_count": 74,
     "metadata": {},
     "output_type": "execute_result"
    }
   ],
   "source": [
    "image_string.find('invoice no')"
   ]
  },
  {
   "cell_type": "code",
   "execution_count": 75,
   "metadata": {},
   "outputs": [
    {
     "data": {
      "text/plain": [
       "'invoice no: 1291908241 vehicle no :\\nbengaluru urban, karnataka - 560102\\ninvoice date : 21/01/2020 buyer order no: 750557186\\nstate : karnataka pan : aajcs1175l payment tem: “tt payment\\ngstin : 29aajcs1175l1zu state code: 29 60 days from shipment by rgts/neft\\nship to decathlon sports india private ltd bill to : decathlon sports india pvt ltd\\nc/o dhl supply chain india pvt ltd, survey# 41/2; oblapura survey number- 78/10,a2 bellary road chikkajala\\nvillage; anugondonahalli, hosakote taluk; bangalore - 560 village,bengaluru, karnataka 562157 tin - 29640215582,\\n067 karnataka pan - aaacl9861h\\nstate : karnataka\\ngstin: 29aaacl9861h1z2 state code: 29 gstin: | 29aaacl9861h1z2 state code 29 state :karnataka\\nsl# description of goods hsn code qty uom rate amount] discount| up taxable cgst sgst igst total value\\n(gst) (inr) charges value) % amount] % amount] % amount\\n1 readymade garments (100% polyester mens 62033300 4806 pcs 514.60 2473167.60 0.00} 0.00 | 2473167.60) 2.50 61829.19| 2.50 61829.19] 0.00 0.00 2596825.98\\njackets with lining and padding )\\nitem # 2121844 - 1200 pcs,\\n2121845- 1890 pcs,\\n2121846- 1200 pcs,\\n2121847 -516 pcs\\nnet net weight: 0.000 total # 2473167.60 0.00 0.00] 2473167. 61829.19 61829.19 0.00 2596825.98\\nvalues in words (inr) : total invoice value: 2596825.98\\n\\ntwenty five lakh ninety six thousand eight hundred twenty five and ninety eight paise only.\\n\\nour bank details for payment : yes, bank, gr. floor & second floor, sco-4, sector -16, faridabad -121002,\\nswift code: yesbinbbdel, ifsc code- yesb0000020, shahi exports pvt. ltd,\\n\\naccount number- 002081400000088\\n\\ndeclaration :\\n2. reverse charge applicable : na\\n\\n1. we declare that this invoice shows the actual price of goods described and correct.\\n\\nsignature and date\\n\\nfor shahi exports pvt ltd\\n\\n'"
      ]
     },
     "execution_count": 75,
     "metadata": {},
     "output_type": "execute_result"
    }
   ],
   "source": [
    "image_string[160:]"
   ]
  },
  {
   "cell_type": "code",
   "execution_count": 76,
   "metadata": {},
   "outputs": [
    {
     "name": "stdout",
     "output_type": "stream",
     "text": [
      "b'<?xml version=\"1.0\" encoding=\"UTF-8\"?>\\n<alto xmlns=\"http://www.loc.gov/standards/alto/ns-v3#\" xmlns:xlink=\"http://www.w3.org/1999/xlink\" xmlns:xsi=\"http://www.w3.org/2001/XMLSchema-instance\" xsi:schemaLocation=\"http://www.loc.gov/standards/alto/ns-v3# http://www.loc.gov/alto/v3/alto-3-0.xsd\">\\n\\t<Description>\\n\\t\\t<MeasurementUnit>pixel</MeasurementUnit>\\n\\t\\t<sourceImageInformation>\\n\\t\\t\\t<fileName>C:\\\\Users\\\\HP\\\\AppData\\\\Local\\\\Temp\\\\tess_a_dk6f75.PNG</fileName>\\n\\t\\t</sourceImageInformation>\\n\\t\\t<OCRProcessing ID=\"OCR_0\">\\n\\t\\t\\t<ocrProcessingStep>\\n\\t\\t\\t\\t<processingSoftware>\\n\\t\\t\\t\\t\\t<softwareName>tesseract v5.0.1.20220118</softwareName>\\n\\t\\t\\t\\t</processingSoftware>\\n\\t\\t\\t</ocrProcessingStep>\\n\\t\\t</OCRProcessing>\\n\\t</Description>\\n\\t<Layout>\\n\\t\\t<Page WIDTH=\"2339\" HEIGHT=\"1584\" PHYSICAL_IMG_NR=\"0\" ID=\"page_0\">\\n\\t\\t\\t<PrintSpace HPOS=\"0\" VPOS=\"0\" WIDTH=\"2339\" HEIGHT=\"1584\">\\n\\t\\t\\t\\t<GraphicalElement ID=\"cblock_0\" HPOS=\"14\" VPOS=\"1\" WIDTH=\"2312\" HEIGHT=\"27\"></GraphicalElement >\\n\\t\\t\\t\\t<GraphicalElement ID=\"cblock_1\" HPOS=\"14\" VPOS=\"53\" WIDTH=\"2308\" HEIGHT=\"27\"></GraphicalElement >\\n\\t\\t\\t\\t<GraphicalElement ID=\"cblock_2\" HPOS=\"1542\" VPOS=\"66\" WIDTH=\"3\" HEIGHT=\"212\"></GraphicalElement >\\n\\t\\t\\t\\t<GraphicalElement ID=\"cblock_3\" HPOS=\"14\" VPOS=\"264\" WIDTH=\"2308\" HEIGHT=\"27\"></GraphicalElement >\\n\\t\\t\\t\\t<GraphicalElement ID=\"cblock_4\" HPOS=\"875\" VPOS=\"66\" WIDTH=\"7\" HEIGHT=\"426\"></GraphicalElement >\\n\\t\\t\\t\\t<GraphicalElement ID=\"cblock_5\" HPOS=\"875\" VPOS=\"66\" WIDTH=\"8\" HEIGHT=\"426\"></GraphicalElement >\\n\\t\\t\\t\\t<GraphicalElement ID=\"cblock_6\" HPOS=\"14\" VPOS=\"486\" WIDTH=\"864\" HEIGHT=\"11\"></GraphicalElement >\\n\\t\\t\\t\\t<GraphicalElement ID=\"cblock_7\" HPOS=\"6\" VPOS=\"14\" WIDTH=\"17\" HEIGHT=\"1556\"></GraphicalElement >\\n\\t\\t\\t\\t<GraphicalElement ID=\"cblock_8\" HPOS=\"14\" VPOS=\"482\" WIDTH=\"2312\" HEIGHT=\"27\"></GraphicalElement >\\n\\t\\t\\t\\t<GraphicalElement ID=\"cblock_9\" HPOS=\"1539\" VPOS=\"525\" WIDTH=\"597\" HEIGHT=\"9\"></GraphicalElement >\\n\\t\\t\\t\\t<GraphicalElement ID=\"cblock_10\" HPOS=\"14\" VPOS=\"549\" WIDTH=\"2312\" HEIGHT=\"27\"></GraphicalElement >\\n\\t\\t\\t\\t<GraphicalElement ID=\"cblock_11\" HPOS=\"14\" VPOS=\"1170\" WIDTH=\"2309\" HEIGHT=\"27\"></GraphicalElement >\\n\\t\\t\\t\\t<GraphicalElement ID=\"cblock_12\" HPOS=\"816\" VPOS=\"501\" WIDTH=\"9\" HEIGHT=\"719\"></GraphicalElement >\\n\\t\\t\\t\\t<GraphicalElement ID=\"cblock_13\" HPOS=\"1533\" VPOS=\"494\" WIDTH=\"9\" HEIGHT=\"723\"></GraphicalElement >\\n\\t\\t\\t\\t<GraphicalElement ID=\"cblock_14\" HPOS=\"961\" VPOS=\"501\" WIDTH=\"9\" HEIGHT=\"719\"></GraphicalElement >\\n\\t\\t\\t\\t<GraphicalElement ID=\"cblock_15\" HPOS=\"1083\" VPOS=\"501\" WIDTH=\"9\" HEIGHT=\"719\"></GraphicalElement >\\n\\t\\t\\t\\t<GraphicalElement ID=\"cblock_16\" HPOS=\"1208\" VPOS=\"501\" WIDTH=\"9\" HEIGHT=\"719\"></GraphicalElement >\\n\\t\\t\\t\\t<GraphicalElement ID=\"cblock_17\" HPOS=\"1308\" VPOS=\"501\" WIDTH=\"9\" HEIGHT=\"719\"></GraphicalElement >\\n\\t\\t\\t\\t<GraphicalElement ID=\"cblock_18\" HPOS=\"1408\" VPOS=\"501\" WIDTH=\"9\" HEIGHT=\"719\"></GraphicalElement >\\n\\t\\t\\t\\t<GraphicalElement ID=\"cblock_19\" HPOS=\"1736\" VPOS=\"494\" WIDTH=\"9\" HEIGHT=\"723\"></GraphicalElement >\\n\\t\\t\\t\\t<GraphicalElement ID=\"cblock_20\" HPOS=\"1933\" VPOS=\"494\" WIDTH=\"9\" HEIGHT=\"723\"></GraphicalElement >\\n\\t\\t\\t\\t<GraphicalElement ID=\"cblock_21\" HPOS=\"2136\" VPOS=\"494\" WIDTH=\"9\" HEIGHT=\"723\"></GraphicalElement >\\n\\t\\t\\t\\t<GraphicalElement ID=\"cblock_22\" HPOS=\"14\" VPOS=\"1206\" WIDTH=\"2309\" HEIGHT=\"27\"></GraphicalElement >\\n\\t\\t\\t\\t<ComposedBlock ID=\"cblock_23\" HPOS=\"23\" VPOS=\"18\" WIDTH=\"2293\" HEIGHT=\"1323\">\\n\\t\\t\\t\\t\\t<TextBlock ID=\"block_0\" HPOS=\"23\" VPOS=\"18\" WIDTH=\"2293\" HEIGHT=\"1323\">\\n\\t\\t\\t\\t\\t\\t<TextLine ID=\"line_0\" HPOS=\"1056\" VPOS=\"18\" WIDTH=\"1260\" HEIGHT=\"32\">\\n\\t\\t\\t\\t\\t\\t\\t<String ID=\"string_0\" HPOS=\"1056\" VPOS=\"23\" WIDTH=\"64\" HEIGHT=\"24\" WC=\"0.95\" CONTENT=\"TAX\"/><SP WIDTH=\"13\" VPOS=\"23\" HPOS=\"1120\"/>\\n\\t\\t\\t\\t\\t\\t\\t<String ID=\"string_1\" HPOS=\"1133\" VPOS=\"23\" WIDTH=\"132\" HEIGHT=\"24\" WC=\"0.95\" CONTENT=\"INVOICE\"/><SP WIDTH=\"442\" VPOS=\"23\" HPOS=\"1265\"/>\\n\\t\\t\\t\\t\\t\\t\\t<String ID=\"string_2\" HPOS=\"1707\" VPOS=\"28\" WIDTH=\"143\" HEIGHT=\"22\" WC=\"0.96\" CONTENT=\"ORIGINAL\"/><SP WIDTH=\"12\" VPOS=\"28\" HPOS=\"1850\"/>\\n\\t\\t\\t\\t\\t\\t\\t<String ID=\"string_3\" HPOS=\"1862\" VPOS=\"28\" WIDTH=\"62\" HEIGHT=\"22\" WC=\"0.96\" CONTENT=\"FOR\"/><SP WIDTH=\"11\" VPOS=\"28\" HPOS=\"1924\"/>\\n\\t\\t\\t\\t\\t\\t\\t<String ID=\"string_4\" HPOS=\"1935\" VPOS=\"28\" WIDTH=\"103\" HEIGHT=\"22\" WC=\"0.96\" CONTENT=\"BUYER\"/><SP WIDTH=\"108\" VPOS=\"28\" HPOS=\"2038\"/>\\n\\t\\t\\t\\t\\t\\t\\t<String ID=\"string_5\" HPOS=\"2146\" VPOS=\"18\" WIDTH=\"46\" HEIGHT=\"16\" WC=\"0.49\" CONTENT=\"WB:\"/><SP WIDTH=\"39\" VPOS=\"18\" HPOS=\"2192\"/>\\n\\t\\t\\t\\t\\t\\t\\t<String ID=\"string_6\" HPOS=\"2231\" VPOS=\"18\" WIDTH=\"85\" HEIGHT=\"16\" WC=\"0.51\" CONTENT=\"\\xe2\\x80\\x9c5232125\"/>\\n\\t\\t\\t\\t\\t\\t</TextLine>\\n\\t\\t\\t\\t\\t\\t<TextLine ID=\"line_1\" HPOS=\"24\" VPOS=\"76\" WIDTH=\"1792\" HEIGHT=\"26\">\\n\\t\\t\\t\\t\\t\\t\\t<String ID=\"string_7\" HPOS=\"24\" VPOS=\"76\" WIDTH=\"133\" HEIGHT=\"16\" WC=\"0.96\" CONTENT=\"Manufacturer:\"/><SP WIDTH=\"11\" VPOS=\"76\" HPOS=\"157\"/>\\n\\t\\t\\t\\t\\t\\t\\t<String ID=\"string_8\" HPOS=\"168\" VPOS=\"82\" WIDTH=\"54\" HEIGHT=\"16\" WC=\"0.83\" CONTENT=\"Shahi\"/><SP WIDTH=\"9\" VPOS=\"82\" HPOS=\"222\"/>\\n\\t\\t\\t\\t\\t\\t\\t<String ID=\"string_9\" HPOS=\"231\" VPOS=\"82\" WIDTH=\"73\" HEIGHT=\"20\" WC=\"0.96\" CONTENT=\"Exports\"/><SP WIDTH=\"9\" VPOS=\"82\" HPOS=\"304\"/>\\n\\t\\t\\t\\t\\t\\t\\t<String ID=\"string_10\" HPOS=\"313\" VPOS=\"82\" WIDTH=\"35\" HEIGHT=\"16\" WC=\"0.95\" CONTENT=\"Pvt.\"/><SP WIDTH=\"9\" VPOS=\"82\" HPOS=\"348\"/>\\n\\t\\t\\t\\t\\t\\t\\t<String ID=\"string_11\" HPOS=\"357\" VPOS=\"82\" WIDTH=\"34\" HEIGHT=\"16\" WC=\"0.96\" CONTENT=\"Ltd.\"/><SP WIDTH=\"1173\" VPOS=\"82\" HPOS=\"391\"/>\\n\\t\\t\\t\\t\\t\\t\\t<String ID=\"string_12\" HPOS=\"1564\" VPOS=\"79\" WIDTH=\"95\" HEIGHT=\"20\" WC=\"0.92\" CONTENT=\"Transport\"/><SP WIDTH=\"8\" VPOS=\"79\" HPOS=\"1659\"/>\\n\\t\\t\\t\\t\\t\\t\\t<String ID=\"string_13\" HPOS=\"1667\" VPOS=\"79\" WIDTH=\"64\" HEIGHT=\"16\" WC=\"0.92\" CONTENT=\"Mode:\"/><SP WIDTH=\"42\" VPOS=\"79\" HPOS=\"1731\"/>\\n\\t\\t\\t\\t\\t\\t\\t<String ID=\"string_14\" HPOS=\"1773\" VPOS=\"79\" WIDTH=\"43\" HEIGHT=\"16\" WC=\"0.88\" CONTENT=\"SEA\"/>\\n\\t\\t\\t\\t\\t\\t</TextLine>\\n\\t\\t\\t\\t\\t\\t<TextLine ID=\"line_2\" HPOS=\"169\" VPOS=\"110\" WIDTH=\"1516\" HEIGHT=\"21\">\\n\\t\\t\\t\\t\\t\\t\\t<String ID=\"string_15\" HPOS=\"169\" VPOS=\"112\" WIDTH=\"102\" HEIGHT=\"18\" WC=\"0.87\" CONTENT=\"Ambalipura,\"/><SP WIDTH=\"9\" VPOS=\"112\" HPOS=\"271\"/>\\n\\t\\t\\t\\t\\t\\t\\t<String ID=\"string_16\" HPOS=\"280\" VPOS=\"112\" WIDTH=\"76\" HEIGHT=\"14\" WC=\"0.93\" CONTENT=\"Belandur\"/><SP WIDTH=\"7\" VPOS=\"112\" HPOS=\"356\"/>\\n\\t\\t\\t\\t\\t\\t\\t<String ID=\"string_17\" HPOS=\"363\" VPOS=\"112\" WIDTH=\"45\" HEIGHT=\"16\" WC=\"0.93\" CONTENT=\"Gate,\"/><SP WIDTH=\"8\" VPOS=\"112\" HPOS=\"408\"/>\\n\\t\\t\\t\\t\\t\\t\\t<String ID=\"string_18\" HPOS=\"416\" VPOS=\"112\" WIDTH=\"82\" HEIGHT=\"18\" WC=\"0.92\" CONTENT=\"Sarjapura\"/><SP WIDTH=\"8\" VPOS=\"112\" HPOS=\"498\"/>\\n\\t\\t\\t\\t\\t\\t\\t<String ID=\"string_19\" HPOS=\"506\" VPOS=\"112\" WIDTH=\"39\" HEIGHT=\"14\" WC=\"0.92\" CONTENT=\"Main\"/><SP WIDTH=\"8\" VPOS=\"112\" HPOS=\"545\"/>\\n\\t\\t\\t\\t\\t\\t\\t<String ID=\"string_20\" HPOS=\"553\" VPOS=\"112\" WIDTH=\"143\" HEIGHT=\"18\" WC=\"0.91\" CONTENT=\"Road,Bangalore,\"/><SP WIDTH=\"292\" VPOS=\"112\" HPOS=\"696\"/>\\n\\t\\t\\t\\t\\t\\t\\t<String ID=\"string_21\" HPOS=\"988\" VPOS=\"110\" WIDTH=\"76\" HEIGHT=\"18\" WC=\"0.95\" CONTENT=\"Invoice\"/><SP WIDTH=\"10\" VPOS=\"110\" HPOS=\"1064\"/>\\n\\t\\t\\t\\t\\t\\t\\t<String ID=\"string_22\" HPOS=\"1074\" VPOS=\"110\" WIDTH=\"42\" HEIGHT=\"18\" WC=\"0.92\" CONTENT=\"No:\"/><SP WIDTH=\"78\" VPOS=\"110\" HPOS=\"1116\"/>\\n\\t\\t\\t\\t\\t\\t\\t<String ID=\"string_23\" HPOS=\"1194\" VPOS=\"110\" WIDTH=\"132\" HEIGHT=\"18\" WC=\"0.96\" CONTENT=\"1291908241\"/><SP WIDTH=\"241\" VPOS=\"110\" HPOS=\"1326\"/>\\n\\t\\t\\t\\t\\t\\t\\t<String ID=\"string_24\" HPOS=\"1567\" VPOS=\"115\" WIDTH=\"71\" HEIGHT=\"16\" WC=\"0.96\" CONTENT=\"Vehicle\"/><SP WIDTH=\"9\" VPOS=\"115\" HPOS=\"1638\"/>\\n\\t\\t\\t\\t\\t\\t\\t<String ID=\"string_25\" HPOS=\"1647\" VPOS=\"115\" WIDTH=\"26\" HEIGHT=\"16\" WC=\"0.90\" CONTENT=\"No\"/><SP WIDTH=\"9\" VPOS=\"115\" HPOS=\"1673\"/>\\n\\t\\t\\t\\t\\t\\t\\t<String ID=\"string_26\" HPOS=\"1682\" VPOS=\"119\" WIDTH=\"3\" HEIGHT=\"12\" WC=\"0.91\" CONTENT=\":\"/>\\n\\t\\t\\t\\t\\t\\t</TextLine>\\n\\t\\t\\t\\t\\t\\t<TextLine ID=\"line_3\" HPOS=\"171\" VPOS=\"135\" WIDTH=\"326\" HEIGHT=\"18\">\\n\\t\\t\\t\\t\\t\\t\\t<String ID=\"string_27\" HPOS=\"171\" VPOS=\"135\" WIDTH=\"86\" HEIGHT=\"18\" WC=\"0.96\" CONTENT=\"Bengaluru\"/><SP WIDTH=\"8\" VPOS=\"135\" HPOS=\"257\"/>\\n\\t\\t\\t\\t\\t\\t\\t<String ID=\"string_28\" HPOS=\"265\" VPOS=\"135\" WIDTH=\"55\" HEIGHT=\"17\" WC=\"0.96\" CONTENT=\"Urban,\"/><SP WIDTH=\"8\" VPOS=\"135\" HPOS=\"320\"/>\\n\\t\\t\\t\\t\\t\\t\\t<String ID=\"string_29\" HPOS=\"328\" VPOS=\"135\" WIDTH=\"87\" HEIGHT=\"14\" WC=\"0.93\" CONTENT=\"Karnataka\"/><SP WIDTH=\"7\" VPOS=\"135\" HPOS=\"415\"/>\\n\\t\\t\\t\\t\\t\\t\\t<String ID=\"string_30\" HPOS=\"422\" VPOS=\"143\" WIDTH=\"5\" HEIGHT=\"2\" WC=\"0.93\" CONTENT=\"-\"/><SP WIDTH=\"7\" VPOS=\"143\" HPOS=\"427\"/>\\n\\t\\t\\t\\t\\t\\t\\t<String ID=\"string_31\" HPOS=\"434\" VPOS=\"135\" WIDTH=\"63\" HEIGHT=\"14\" WC=\"0.96\" CONTENT=\"560102\"/>\\n\\t\\t\\t\\t\\t\\t</TextLine>\\n\\t\\t\\t\\t\\t\\t<TextLine ID=\"line_4\" HPOS=\"988\" VPOS=\"159\" WIDTH=\"886\" HEIGHT=\"24\">\\n\\t\\t\\t\\t\\t\\t\\t<String ID=\"string_32\" HPOS=\"988\" VPOS=\"165\" WIDTH=\"76\" HEIGHT=\"18\" WC=\"0.96\" CONTENT=\"Invoice\"/><SP WIDTH=\"10\" VPOS=\"165\" HPOS=\"1064\"/>\\n\\t\\t\\t\\t\\t\\t\\t<String ID=\"string_33\" HPOS=\"1074\" VPOS=\"165\" WIDTH=\"50\" HEIGHT=\"18\" WC=\"0.93\" CONTENT=\"Date\"/><SP WIDTH=\"10\" VPOS=\"165\" HPOS=\"1124\"/>\\n\\t\\t\\t\\t\\t\\t\\t<String ID=\"string_34\" HPOS=\"1134\" VPOS=\"170\" WIDTH=\"3\" HEIGHT=\"13\" WC=\"0.93\" CONTENT=\":\"/><SP WIDTH=\"61\" VPOS=\"170\" HPOS=\"1137\"/>\\n\\t\\t\\t\\t\\t\\t\\t<String ID=\"string_35\" HPOS=\"1198\" VPOS=\"165\" WIDTH=\"123\" HEIGHT=\"18\" WC=\"0.96\" CONTENT=\"21/01/2020\"/><SP WIDTH=\"247\" VPOS=\"165\" HPOS=\"1321\"/>\\n\\t\\t\\t\\t\\t\\t\\t<String ID=\"string_36\" HPOS=\"1568\" VPOS=\"159\" WIDTH=\"57\" HEIGHT=\"21\" WC=\"0.96\" CONTENT=\"Buyer\"/><SP WIDTH=\"7\" VPOS=\"159\" HPOS=\"1625\"/>\\n\\t\\t\\t\\t\\t\\t\\t<String ID=\"string_37\" HPOS=\"1632\" VPOS=\"159\" WIDTH=\"56\" HEIGHT=\"16\" WC=\"0.58\" CONTENT=\"Order\"/><SP WIDTH=\"7\" VPOS=\"159\" HPOS=\"1688\"/>\\n\\t\\t\\t\\t\\t\\t\\t<String ID=\"string_38\" HPOS=\"1695\" VPOS=\"159\" WIDTH=\"32\" HEIGHT=\"16\" WC=\"0.58\" CONTENT=\"No:\"/><SP WIDTH=\"38\" VPOS=\"159\" HPOS=\"1727\"/>\\n\\t\\t\\t\\t\\t\\t\\t<String ID=\"string_39\" HPOS=\"1765\" VPOS=\"159\" WIDTH=\"109\" HEIGHT=\"16\" WC=\"0.44\" CONTENT=\"750557186\"/>\\n\\t\\t\\t\\t\\t\\t</TextLine>\\n\\t\\t\\t\\t\\t\\t<TextLine ID=\"line_5\" HPOS=\"173\" VPOS=\"209\" WIDTH=\"1734\" HEIGHT=\"27\">\\n\\t\\t\\t\\t\\t\\t\\t<String ID=\"string_40\" HPOS=\"173\" VPOS=\"220\" WIDTH=\"70\" HEIGHT=\"16\" WC=\"0.92\" CONTENT=\"STATE\"/><SP WIDTH=\"9\" VPOS=\"220\" HPOS=\"243\"/>\\n\\t\\t\\t\\t\\t\\t\\t<String ID=\"string_41\" HPOS=\"252\" VPOS=\"224\" WIDTH=\"2\" HEIGHT=\"12\" WC=\"0.76\" CONTENT=\":\"/><SP WIDTH=\"10\" VPOS=\"224\" HPOS=\"254\"/>\\n\\t\\t\\t\\t\\t\\t\\t<String ID=\"string_42\" HPOS=\"264\" VPOS=\"220\" WIDTH=\"133\" HEIGHT=\"16\" WC=\"0.96\" CONTENT=\"KARNATAKA\"/><SP WIDTH=\"166\" VPOS=\"220\" HPOS=\"397\"/>\\n\\t\\t\\t\\t\\t\\t\\t<String ID=\"string_43\" HPOS=\"563\" VPOS=\"220\" WIDTH=\"42\" HEIGHT=\"16\" WC=\"0.92\" CONTENT=\"PAN\"/><SP WIDTH=\"10\" VPOS=\"220\" HPOS=\"605\"/>\\n\\t\\t\\t\\t\\t\\t\\t<String ID=\"string_44\" HPOS=\"615\" VPOS=\"224\" WIDTH=\"2\" HEIGHT=\"12\" WC=\"0.43\" CONTENT=\":\"/><SP WIDTH=\"8\" VPOS=\"224\" HPOS=\"617\"/>\\n\\t\\t\\t\\t\\t\\t\\t<String ID=\"string_45\" HPOS=\"625\" VPOS=\"220\" WIDTH=\"133\" HEIGHT=\"16\" WC=\"0.79\" CONTENT=\"AAJCS1175L\"/><SP WIDTH=\"810\" VPOS=\"220\" HPOS=\"758\"/>\\n\\t\\t\\t\\t\\t\\t\\t<String ID=\"string_46\" HPOS=\"1568\" VPOS=\"209\" WIDTH=\"86\" HEIGHT=\"21\" WC=\"0.0\" CONTENT=\"Payment\"/><SP WIDTH=\"7\" VPOS=\"209\" HPOS=\"1654\"/>\\n\\t\\t\\t\\t\\t\\t\\t<String ID=\"string_47\" HPOS=\"1661\" VPOS=\"209\" WIDTH=\"62\" HEIGHT=\"16\" WC=\"0.0\" CONTENT=\"Tem:\"/><SP WIDTH=\"44\" VPOS=\"209\" HPOS=\"1723\"/>\\n\\t\\t\\t\\t\\t\\t\\t<String ID=\"string_48\" HPOS=\"1767\" VPOS=\"209\" WIDTH=\"26\" HEIGHT=\"16\" WC=\"0.64\" CONTENT=\"\\xe2\\x80\\x9cTT\"/><SP WIDTH=\"9\" VPOS=\"209\" HPOS=\"1793\"/>\\n\\t\\t\\t\\t\\t\\t\\t<String ID=\"string_49\" HPOS=\"1802\" VPOS=\"209\" WIDTH=\"105\" HEIGHT=\"16\" WC=\"0.83\" CONTENT=\"PAYMENT\"/>\\n\\t\\t\\t\\t\\t\\t</TextLine>\\n\\t\\t\\t\\t\\t\\t<TextLine ID=\"line_6\" HPOS=\"170\" VPOS=\"243\" WIDTH=\"2048\" HEIGHT=\"22\">\\n\\t\\t\\t\\t\\t\\t\\t<String ID=\"string_50\" HPOS=\"170\" VPOS=\"248\" WIDTH=\"66\" HEIGHT=\"16\" WC=\"0.92\" CONTENT=\"GSTIN\"/><SP WIDTH=\"9\" VPOS=\"248\" HPOS=\"236\"/>\\n\\t\\t\\t\\t\\t\\t\\t<String ID=\"string_51\" HPOS=\"245\" VPOS=\"252\" WIDTH=\"3\" HEIGHT=\"12\" WC=\"0.91\" CONTENT=\":\"/><SP WIDTH=\"8\" VPOS=\"252\" HPOS=\"248\"/>\\n\\t\\t\\t\\t\\t\\t\\t<String ID=\"string_52\" HPOS=\"256\" VPOS=\"248\" WIDTH=\"198\" HEIGHT=\"16\" WC=\"0.90\" CONTENT=\"29AAJCS1175L1ZU\"/><SP WIDTH=\"108\" VPOS=\"248\" HPOS=\"454\"/>\\n\\t\\t\\t\\t\\t\\t\\t<String ID=\"string_53\" HPOS=\"562\" VPOS=\"248\" WIDTH=\"50\" HEIGHT=\"16\" WC=\"0.96\" CONTENT=\"State\"/><SP WIDTH=\"8\" VPOS=\"248\" HPOS=\"612\"/>\\n\\t\\t\\t\\t\\t\\t\\t<String ID=\"string_54\" HPOS=\"620\" VPOS=\"248\" WIDTH=\"57\" HEIGHT=\"16\" WC=\"0.96\" CONTENT=\"Code:\"/><SP WIDTH=\"10\" VPOS=\"248\" HPOS=\"677\"/>\\n\\t\\t\\t\\t\\t\\t\\t<String ID=\"string_55\" HPOS=\"687\" VPOS=\"249\" WIDTH=\"23\" HEIGHT=\"16\" WC=\"0.96\" CONTENT=\"29\"/><SP WIDTH=\"1057\" VPOS=\"249\" HPOS=\"710\"/>\\n\\t\\t\\t\\t\\t\\t\\t<String ID=\"string_56\" HPOS=\"1767\" VPOS=\"243\" WIDTH=\"23\" HEIGHT=\"16\" WC=\"0.96\" CONTENT=\"60\"/><SP WIDTH=\"9\" VPOS=\"243\" HPOS=\"1790\"/>\\n\\t\\t\\t\\t\\t\\t\\t<String ID=\"string_57\" HPOS=\"1799\" VPOS=\"243\" WIDTH=\"58\" HEIGHT=\"16\" WC=\"0.96\" CONTENT=\"DAYS\"/><SP WIDTH=\"9\" VPOS=\"243\" HPOS=\"1857\"/>\\n\\t\\t\\t\\t\\t\\t\\t<String ID=\"string_58\" HPOS=\"1866\" VPOS=\"243\" WIDTH=\"62\" HEIGHT=\"16\" WC=\"0.96\" CONTENT=\"FROM\"/><SP WIDTH=\"9\" VPOS=\"243\" HPOS=\"1928\"/>\\n\\t\\t\\t\\t\\t\\t\\t<String ID=\"string_59\" HPOS=\"1937\" VPOS=\"243\" WIDTH=\"113\" HEIGHT=\"16\" WC=\"0.96\" CONTENT=\"SHIPMENT\"/><SP WIDTH=\"8\" VPOS=\"243\" HPOS=\"2050\"/>\\n\\t\\t\\t\\t\\t\\t\\t<String ID=\"string_60\" HPOS=\"2058\" VPOS=\"243\" WIDTH=\"28\" HEIGHT=\"16\" WC=\"0.93\" CONTENT=\"BY\"/><SP WIDTH=\"8\" VPOS=\"243\" HPOS=\"2086\"/>\\n\\t\\t\\t\\t\\t\\t\\t<String ID=\"string_61\" HPOS=\"2094\" VPOS=\"243\" WIDTH=\"124\" HEIGHT=\"16\" WC=\"0.91\" CONTENT=\"RGTS/NEFT\"/>\\n\\t\\t\\t\\t\\t\\t</TextLine>\\n\\t\\t\\t\\t\\t\\t<TextLine ID=\"line_7\" HPOS=\"23\" VPOS=\"284\" WIDTH=\"1448\" HEIGHT=\"23\">\\n\\t\\t\\t\\t\\t\\t\\t<String ID=\"string_62\" HPOS=\"23\" VPOS=\"287\" WIDTH=\"43\" HEIGHT=\"20\" WC=\"0.96\" CONTENT=\"Ship\"/><SP WIDTH=\"7\" VPOS=\"287\" HPOS=\"66\"/>\\n\\t\\t\\t\\t\\t\\t\\t<String ID=\"string_63\" HPOS=\"73\" VPOS=\"287\" WIDTH=\"25\" HEIGHT=\"16\" WC=\"0.96\" CONTENT=\"To\"/><SP WIDTH=\"70\" VPOS=\"287\" HPOS=\"98\"/>\\n\\t\\t\\t\\t\\t\\t\\t<String ID=\"string_64\" HPOS=\"168\" VPOS=\"287\" WIDTH=\"134\" HEIGHT=\"16\" WC=\"0.96\" CONTENT=\"DECATHLON\"/><SP WIDTH=\"9\" VPOS=\"287\" HPOS=\"302\"/>\\n\\t\\t\\t\\t\\t\\t\\t<String ID=\"string_65\" HPOS=\"311\" VPOS=\"287\" WIDTH=\"89\" HEIGHT=\"16\" WC=\"0.96\" CONTENT=\"SPORTS\"/><SP WIDTH=\"9\" VPOS=\"287\" HPOS=\"400\"/>\\n\\t\\t\\t\\t\\t\\t\\t<String ID=\"string_66\" HPOS=\"409\" VPOS=\"287\" WIDTH=\"57\" HEIGHT=\"16\" WC=\"0.96\" CONTENT=\"INDIA\"/><SP WIDTH=\"8\" VPOS=\"287\" HPOS=\"466\"/>\\n\\t\\t\\t\\t\\t\\t\\t<String ID=\"string_67\" HPOS=\"474\" VPOS=\"287\" WIDTH=\"93\" HEIGHT=\"16\" WC=\"0.96\" CONTENT=\"PRIVATE\"/><SP WIDTH=\"9\" VPOS=\"287\" HPOS=\"567\"/>\\n\\t\\t\\t\\t\\t\\t\\t<String ID=\"string_68\" HPOS=\"576\" VPOS=\"287\" WIDTH=\"39\" HEIGHT=\"16\" WC=\"0.96\" CONTENT=\"LTD\"/><SP WIDTH=\"300\" VPOS=\"287\" HPOS=\"615\"/>\\n\\t\\t\\t\\t\\t\\t\\t<String ID=\"string_69\" HPOS=\"915\" VPOS=\"284\" WIDTH=\"27\" HEIGHT=\"16\" WC=\"0.96\" CONTENT=\"Bill\"/><SP WIDTH=\"14\" VPOS=\"284\" HPOS=\"942\"/>\\n\\t\\t\\t\\t\\t\\t\\t<String ID=\"string_70\" HPOS=\"956\" VPOS=\"284\" WIDTH=\"25\" HEIGHT=\"16\" WC=\"0.90\" CONTENT=\"To\"/><SP WIDTH=\"15\" VPOS=\"284\" HPOS=\"981\"/>\\n\\t\\t\\t\\t\\t\\t\\t<String ID=\"string_71\" HPOS=\"996\" VPOS=\"288\" WIDTH=\"2\" HEIGHT=\"12\" WC=\"0.86\" CONTENT=\":\"/><SP WIDTH=\"79\" VPOS=\"288\" HPOS=\"998\"/>\\n\\t\\t\\t\\t\\t\\t\\t<String ID=\"string_72\" HPOS=\"1077\" VPOS=\"287\" WIDTH=\"133\" HEIGHT=\"16\" WC=\"0.96\" CONTENT=\"DECATHLON\"/><SP WIDTH=\"9\" VPOS=\"287\" HPOS=\"1210\"/>\\n\\t\\t\\t\\t\\t\\t\\t<String ID=\"string_73\" HPOS=\"1219\" VPOS=\"287\" WIDTH=\"89\" HEIGHT=\"16\" WC=\"0.96\" CONTENT=\"SPORTS\"/><SP WIDTH=\"10\" VPOS=\"287\" HPOS=\"1308\"/>\\n\\t\\t\\t\\t\\t\\t\\t<String ID=\"string_74\" HPOS=\"1318\" VPOS=\"287\" WIDTH=\"57\" HEIGHT=\"16\" WC=\"0.95\" CONTENT=\"INDIA\"/><SP WIDTH=\"8\" VPOS=\"287\" HPOS=\"1375\"/>\\n\\t\\t\\t\\t\\t\\t\\t<String ID=\"string_75\" HPOS=\"1383\" VPOS=\"287\" WIDTH=\"41\" HEIGHT=\"16\" WC=\"0.96\" CONTENT=\"PVT\"/><SP WIDTH=\"8\" VPOS=\"287\" HPOS=\"1424\"/>\\n\\t\\t\\t\\t\\t\\t\\t<String ID=\"string_76\" HPOS=\"1432\" VPOS=\"287\" WIDTH=\"39\" HEIGHT=\"16\" WC=\"0.94\" CONTENT=\"LTD\"/>\\n\\t\\t\\t\\t\\t\\t</TextLine>\\n\\t\\t\\t\\t\\t\\t<TextLine ID=\"line_8\" HPOS=\"168\" VPOS=\"316\" WIDTH=\"1416\" HEIGHT=\"27\">\\n\\t\\t\\t\\t\\t\\t\\t<String ID=\"string_77\" HPOS=\"168\" VPOS=\"316\" WIDTH=\"32\" HEIGHT=\"27\" WC=\"0.90\" CONTENT=\"C/o\"/><SP WIDTH=\"9\" VPOS=\"316\" HPOS=\"200\"/>\\n\\t\\t\\t\\t\\t\\t\\t<String ID=\"string_78\" HPOS=\"209\" VPOS=\"316\" WIDTH=\"42\" HEIGHT=\"16\" WC=\"0.96\" CONTENT=\"DHL\"/><SP WIDTH=\"8\" VPOS=\"316\" HPOS=\"251\"/>\\n\\t\\t\\t\\t\\t\\t\\t<String ID=\"string_79\" HPOS=\"259\" VPOS=\"316\" WIDTH=\"66\" HEIGHT=\"21\" WC=\"0.96\" CONTENT=\"Supply\"/><SP WIDTH=\"8\" VPOS=\"316\" HPOS=\"325\"/>\\n\\t\\t\\t\\t\\t\\t\\t<String ID=\"string_80\" HPOS=\"333\" VPOS=\"316\" WIDTH=\"56\" HEIGHT=\"16\" WC=\"0.96\" CONTENT=\"Chain\"/><SP WIDTH=\"9\" VPOS=\"316\" HPOS=\"389\"/>\\n\\t\\t\\t\\t\\t\\t\\t<String ID=\"string_81\" HPOS=\"398\" VPOS=\"316\" WIDTH=\"44\" HEIGHT=\"27\" WC=\"0.96\" CONTENT=\"india\"/><SP WIDTH=\"9\" VPOS=\"316\" HPOS=\"442\"/>\\n\\t\\t\\t\\t\\t\\t\\t<String ID=\"string_82\" HPOS=\"451\" VPOS=\"316\" WIDTH=\"30\" HEIGHT=\"16\" WC=\"0.89\" CONTENT=\"Pvt\"/><SP WIDTH=\"8\" VPOS=\"316\" HPOS=\"481\"/>\\n\\t\\t\\t\\t\\t\\t\\t<String ID=\"string_83\" HPOS=\"489\" VPOS=\"316\" WIDTH=\"34\" HEIGHT=\"19\" WC=\"0.89\" CONTENT=\"Ltd,\"/><SP WIDTH=\"15\" VPOS=\"316\" HPOS=\"523\"/>\\n\\t\\t\\t\\t\\t\\t\\t<String ID=\"string_84\" HPOS=\"538\" VPOS=\"316\" WIDTH=\"80\" HEIGHT=\"21\" WC=\"0.89\" CONTENT=\"Survey#\"/><SP WIDTH=\"7\" VPOS=\"316\" HPOS=\"618\"/>\\n\\t\\t\\t\\t\\t\\t\\t<String ID=\"string_85\" HPOS=\"625\" VPOS=\"316\" WIDTH=\"47\" HEIGHT=\"19\" WC=\"0.92\" CONTENT=\"41/2;\"/><SP WIDTH=\"9\" VPOS=\"316\" HPOS=\"672\"/>\\n\\t\\t\\t\\t\\t\\t\\t<String ID=\"string_86\" HPOS=\"681\" VPOS=\"316\" WIDTH=\"90\" HEIGHT=\"20\" WC=\"0.92\" CONTENT=\"Oblapura\"/><SP WIDTH=\"311\" VPOS=\"316\" HPOS=\"771\"/>\\n\\t\\t\\t\\t\\t\\t\\t<String ID=\"string_87\" HPOS=\"1082\" VPOS=\"321\" WIDTH=\"67\" HEIGHT=\"21\" WC=\"0.93\" CONTENT=\"Survey\"/><SP WIDTH=\"8\" VPOS=\"321\" HPOS=\"1149\"/>\\n\\t\\t\\t\\t\\t\\t\\t<String ID=\"string_88\" HPOS=\"1157\" VPOS=\"321\" WIDTH=\"84\" HEIGHT=\"16\" WC=\"0.91\" CONTENT=\"Number-\"/><SP WIDTH=\"8\" VPOS=\"321\" HPOS=\"1241\"/>\\n\\t\\t\\t\\t\\t\\t\\t<String ID=\"string_89\" HPOS=\"1249\" VPOS=\"321\" WIDTH=\"87\" HEIGHT=\"19\" WC=\"0.92\" CONTENT=\"78/10,A2\"/><SP WIDTH=\"9\" VPOS=\"321\" HPOS=\"1336\"/>\\n\\t\\t\\t\\t\\t\\t\\t<String ID=\"string_90\" HPOS=\"1345\" VPOS=\"321\" WIDTH=\"66\" HEIGHT=\"21\" WC=\"0.96\" CONTENT=\"Bellary\"/><SP WIDTH=\"8\" VPOS=\"321\" HPOS=\"1411\"/>\\n\\t\\t\\t\\t\\t\\t\\t<String ID=\"string_91\" HPOS=\"1419\" VPOS=\"321\" WIDTH=\"50\" HEIGHT=\"16\" WC=\"0.78\" CONTENT=\"Road\"/><SP WIDTH=\"15\" VPOS=\"321\" HPOS=\"1469\"/>\\n\\t\\t\\t\\t\\t\\t\\t<String ID=\"string_92\" HPOS=\"1484\" VPOS=\"321\" WIDTH=\"100\" HEIGHT=\"21\" WC=\"0.78\" CONTENT=\"Chikkajala\"/>\\n\\t\\t\\t\\t\\t\\t</TextLine>\\n\\t\\t\\t\\t\\t\\t<TextLine ID=\"line_9\" HPOS=\"167\" VPOS=\"341\" WIDTH=\"1490\" HEIGHT=\"27\">\\n\\t\\t\\t\\t\\t\\t\\t<String ID=\"string_93\" HPOS=\"167\" VPOS=\"341\" WIDTH=\"71\" HEIGHT=\"21\" WC=\"0.92\" CONTENT=\"Village;\"/><SP WIDTH=\"14\" VPOS=\"341\" HPOS=\"238\"/>\\n\\t\\t\\t\\t\\t\\t\\t<String ID=\"string_94\" HPOS=\"252\" VPOS=\"341\" WIDTH=\"170\" HEIGHT=\"21\" WC=\"0.60\" CONTENT=\"Anugondonahalli,\"/><SP WIDTH=\"9\" VPOS=\"341\" HPOS=\"422\"/>\\n\\t\\t\\t\\t\\t\\t\\t<String ID=\"string_95\" HPOS=\"431\" VPOS=\"341\" WIDTH=\"92\" HEIGHT=\"16\" WC=\"0.92\" CONTENT=\"Hosakote\"/><SP WIDTH=\"7\" VPOS=\"341\" HPOS=\"523\"/>\\n\\t\\t\\t\\t\\t\\t\\t<String ID=\"string_96\" HPOS=\"530\" VPOS=\"341\" WIDTH=\"58\" HEIGHT=\"19\" WC=\"0.96\" CONTENT=\"Taluk;\"/><SP WIDTH=\"10\" VPOS=\"341\" HPOS=\"588\"/>\\n\\t\\t\\t\\t\\t\\t\\t<String ID=\"string_97\" HPOS=\"598\" VPOS=\"341\" WIDTH=\"99\" HEIGHT=\"21\" WC=\"0.93\" CONTENT=\"Bangalore\"/><SP WIDTH=\"7\" VPOS=\"341\" HPOS=\"697\"/>\\n\\t\\t\\t\\t\\t\\t\\t<String ID=\"string_98\" HPOS=\"704\" VPOS=\"350\" WIDTH=\"6\" HEIGHT=\"2\" WC=\"0.93\" CONTENT=\"-\"/><SP WIDTH=\"9\" VPOS=\"350\" HPOS=\"710\"/>\\n\\t\\t\\t\\t\\t\\t\\t<String ID=\"string_99\" HPOS=\"719\" VPOS=\"341\" WIDTH=\"35\" HEIGHT=\"16\" WC=\"0.95\" CONTENT=\"560\"/><SP WIDTH=\"327\" VPOS=\"341\" HPOS=\"754\"/>\\n\\t\\t\\t\\t\\t\\t\\t<String ID=\"string_100\" HPOS=\"1081\" VPOS=\"347\" WIDTH=\"178\" HEIGHT=\"21\" WC=\"0.90\" CONTENT=\"Village,Bengaluru,\"/><SP WIDTH=\"16\" VPOS=\"347\" HPOS=\"1259\"/>\\n\\t\\t\\t\\t\\t\\t\\t<String ID=\"string_101\" HPOS=\"1275\" VPOS=\"347\" WIDTH=\"98\" HEIGHT=\"16\" WC=\"0.96\" CONTENT=\"Karnataka\"/><SP WIDTH=\"9\" VPOS=\"347\" HPOS=\"1373\"/>\\n\\t\\t\\t\\t\\t\\t\\t<String ID=\"string_102\" HPOS=\"1382\" VPOS=\"347\" WIDTH=\"72\" HEIGHT=\"16\" WC=\"0.96\" CONTENT=\"562157\"/><SP WIDTH=\"7\" VPOS=\"347\" HPOS=\"1454\"/>\\n\\t\\t\\t\\t\\t\\t\\t<String ID=\"string_103\" HPOS=\"1461\" VPOS=\"347\" WIDTH=\"34\" HEIGHT=\"16\" WC=\"0.93\" CONTENT=\"TIN\"/><SP WIDTH=\"8\" VPOS=\"347\" HPOS=\"1495\"/>\\n\\t\\t\\t\\t\\t\\t\\t<String ID=\"string_104\" HPOS=\"1503\" VPOS=\"356\" WIDTH=\"7\" HEIGHT=\"2\" WC=\"0.93\" CONTENT=\"-\"/><SP WIDTH=\"7\" VPOS=\"356\" HPOS=\"1510\"/>\\n\\t\\t\\t\\t\\t\\t\\t<String ID=\"string_105\" HPOS=\"1517\" VPOS=\"347\" WIDTH=\"140\" HEIGHT=\"19\" WC=\"0.96\" CONTENT=\"29640215582,\"/>\\n\\t\\t\\t\\t\\t\\t</TextLine>\\n\\t\\t\\t\\t\\t\\t<TextLine ID=\"line_10\" HPOS=\"167\" VPOS=\"367\" WIDTH=\"1116\" HEIGHT=\"22\">\\n\\t\\t\\t\\t\\t\\t\\t<String ID=\"string_106\" HPOS=\"167\" VPOS=\"367\" WIDTH=\"36\" HEIGHT=\"16\" WC=\"0.96\" CONTENT=\"067\"/><SP WIDTH=\"8\" VPOS=\"367\" HPOS=\"203\"/>\\n\\t\\t\\t\\t\\t\\t\\t<String ID=\"string_107\" HPOS=\"211\" VPOS=\"367\" WIDTH=\"99\" HEIGHT=\"16\" WC=\"0.96\" CONTENT=\"Karnataka\"/><SP WIDTH=\"772\" VPOS=\"367\" HPOS=\"310\"/>\\n\\t\\t\\t\\t\\t\\t\\t<String ID=\"string_108\" HPOS=\"1082\" VPOS=\"373\" WIDTH=\"42\" HEIGHT=\"16\" WC=\"0.93\" CONTENT=\"PAN\"/><SP WIDTH=\"9\" VPOS=\"373\" HPOS=\"1124\"/>\\n\\t\\t\\t\\t\\t\\t\\t<String ID=\"string_109\" HPOS=\"1133\" VPOS=\"382\" WIDTH=\"6\" HEIGHT=\"2\" WC=\"0.91\" CONTENT=\"-\"/><SP WIDTH=\"7\" VPOS=\"382\" HPOS=\"1139\"/>\\n\\t\\t\\t\\t\\t\\t\\t<String ID=\"string_110\" HPOS=\"1146\" VPOS=\"373\" WIDTH=\"137\" HEIGHT=\"16\" WC=\"0.92\" CONTENT=\"AAACL9861H\"/>\\n\\t\\t\\t\\t\\t\\t</TextLine>\\n\\t\\t\\t\\t\\t\\t<TextLine ID=\"line_11\" HPOS=\"23\" VPOS=\"429\" WIDTH=\"283\" HEIGHT=\"16\">\\n\\t\\t\\t\\t\\t\\t\\t<String ID=\"string_111\" HPOS=\"23\" VPOS=\"429\" WIDTH=\"50\" HEIGHT=\"16\" WC=\"0.92\" CONTENT=\"State\"/><SP WIDTH=\"9\" VPOS=\"429\" HPOS=\"73\"/>\\n\\t\\t\\t\\t\\t\\t\\t<String ID=\"string_112\" HPOS=\"82\" VPOS=\"433\" WIDTH=\"3\" HEIGHT=\"12\" WC=\"0.83\" CONTENT=\":\"/><SP WIDTH=\"89\" VPOS=\"433\" HPOS=\"85\"/>\\n\\t\\t\\t\\t\\t\\t\\t<String ID=\"string_113\" HPOS=\"174\" VPOS=\"429\" WIDTH=\"132\" HEIGHT=\"16\" WC=\"0.96\" CONTENT=\"KARNATAKA\"/>\\n\\t\\t\\t\\t\\t\\t</TextLine>\\n\\t\\t\\t\\t\\t\\t<TextLine ID=\"line_12\" HPOS=\"23\" VPOS=\"450\" WIDTH=\"1856\" HEIGHT=\"29\">\\n\\t\\t\\t\\t\\t\\t\\t<String ID=\"string_114\" HPOS=\"23\" VPOS=\"459\" WIDTH=\"78\" HEIGHT=\"16\" WC=\"0.91\" CONTENT=\"GSTIN:\"/><SP WIDTH=\"69\" VPOS=\"459\" HPOS=\"101\"/>\\n\\t\\t\\t\\t\\t\\t\\t<String ID=\"string_115\" HPOS=\"170\" VPOS=\"450\" WIDTH=\"200\" HEIGHT=\"29\" WC=\"0.74\" CONTENT=\"29AAACL9861H1Z2\"/><SP WIDTH=\"156\" VPOS=\"450\" HPOS=\"370\"/>\\n\\t\\t\\t\\t\\t\\t\\t<String ID=\"string_116\" HPOS=\"526\" VPOS=\"459\" WIDTH=\"50\" HEIGHT=\"16\" WC=\"0.96\" CONTENT=\"State\"/><SP WIDTH=\"8\" VPOS=\"459\" HPOS=\"576\"/>\\n\\t\\t\\t\\t\\t\\t\\t<String ID=\"string_117\" HPOS=\"584\" VPOS=\"459\" WIDTH=\"56\" HEIGHT=\"16\" WC=\"0.95\" CONTENT=\"Code:\"/><SP WIDTH=\"24\" VPOS=\"459\" HPOS=\"640\"/>\\n\\t\\t\\t\\t\\t\\t\\t<String ID=\"string_118\" HPOS=\"664\" VPOS=\"457\" WIDTH=\"23\" HEIGHT=\"16\" WC=\"0.95\" CONTENT=\"29\"/><SP WIDTH=\"275\" VPOS=\"457\" HPOS=\"687\"/>\\n\\t\\t\\t\\t\\t\\t\\t<String ID=\"string_119\" HPOS=\"962\" VPOS=\"454\" WIDTH=\"77\" HEIGHT=\"16\" WC=\"0.92\" CONTENT=\"GSTIN:\"/><SP WIDTH=\"25\" VPOS=\"454\" HPOS=\"1039\"/>\\n\\t\\t\\t\\t\\t\\t\\t<String ID=\"string_120\" HPOS=\"1064\" VPOS=\"450\" WIDTH=\"10\" HEIGHT=\"29\" WC=\"0.11\" CONTENT=\"|\"/><SP WIDTH=\"7\" VPOS=\"450\" HPOS=\"1074\"/>\\n\\t\\t\\t\\t\\t\\t\\t<String ID=\"string_121\" HPOS=\"1081\" VPOS=\"454\" WIDTH=\"200\" HEIGHT=\"16\" WC=\"0.11\" CONTENT=\"29AAACL9861H1Z2\"/><SP WIDTH=\"189\" VPOS=\"454\" HPOS=\"1281\"/>\\n\\t\\t\\t\\t\\t\\t\\t<String ID=\"string_122\" HPOS=\"1470\" VPOS=\"454\" WIDTH=\"50\" HEIGHT=\"16\" WC=\"0.96\" CONTENT=\"State\"/><SP WIDTH=\"9\" VPOS=\"454\" HPOS=\"1520\"/>\\n\\t\\t\\t\\t\\t\\t\\t<String ID=\"string_123\" HPOS=\"1529\" VPOS=\"454\" WIDTH=\"51\" HEIGHT=\"16\" WC=\"0.96\" CONTENT=\"Code\"/><SP WIDTH=\"9\" VPOS=\"454\" HPOS=\"1580\"/>\\n\\t\\t\\t\\t\\t\\t\\t<String ID=\"string_124\" HPOS=\"1589\" VPOS=\"454\" WIDTH=\"23\" HEIGHT=\"16\" WC=\"0.96\" CONTENT=\"29\"/><SP WIDTH=\"67\" VPOS=\"454\" HPOS=\"1612\"/>\\n\\t\\t\\t\\t\\t\\t\\t<String ID=\"string_125\" HPOS=\"1679\" VPOS=\"454\" WIDTH=\"50\" HEIGHT=\"16\" WC=\"0.90\" CONTENT=\"State\"/><SP WIDTH=\"9\" VPOS=\"454\" HPOS=\"1729\"/>\\n\\t\\t\\t\\t\\t\\t\\t<String ID=\"string_126\" HPOS=\"1738\" VPOS=\"454\" WIDTH=\"141\" HEIGHT=\"16\" WC=\"0.79\" CONTENT=\":KARNATAKA\"/>\\n\\t\\t\\t\\t\\t\\t</TextLine>\\n\\t\\t\\t\\t\\t\\t<TextLine ID=\"line_13\" HPOS=\"41\" VPOS=\"493\" WIDTH=\"2247\" HEIGHT=\"33\">\\n\\t\\t\\t\\t\\t\\t\\t<String ID=\"string_127\" HPOS=\"41\" VPOS=\"501\" WIDTH=\"30\" HEIGHT=\"16\" WC=\"0.34\" CONTENT=\"Sl#\"/><SP WIDTH=\"25\" VPOS=\"501\" HPOS=\"71\"/>\\n\\t\\t\\t\\t\\t\\t\\t<String ID=\"string_128\" HPOS=\"96\" VPOS=\"501\" WIDTH=\"108\" HEIGHT=\"20\" WC=\"0.93\" CONTENT=\"Description\"/><SP WIDTH=\"8\" VPOS=\"501\" HPOS=\"204\"/>\\n\\t\\t\\t\\t\\t\\t\\t<String ID=\"string_129\" HPOS=\"212\" VPOS=\"501\" WIDTH=\"19\" HEIGHT=\"16\" WC=\"0.97\" CONTENT=\"of\"/><SP WIDTH=\"6\" VPOS=\"501\" HPOS=\"231\"/>\\n\\t\\t\\t\\t\\t\\t\\t<String ID=\"string_130\" HPOS=\"237\" VPOS=\"501\" WIDTH=\"64\" HEIGHT=\"16\" WC=\"0.96\" CONTENT=\"Goods\"/><SP WIDTH=\"371\" VPOS=\"501\" HPOS=\"301\"/>\\n\\t\\t\\t\\t\\t\\t\\t<String ID=\"string_131\" HPOS=\"672\" VPOS=\"502\" WIDTH=\"44\" HEIGHT=\"16\" WC=\"0.96\" CONTENT=\"HSN\"/><SP WIDTH=\"9\" VPOS=\"502\" HPOS=\"716\"/>\\n\\t\\t\\t\\t\\t\\t\\t<String ID=\"string_132\" HPOS=\"725\" VPOS=\"502\" WIDTH=\"51\" HEIGHT=\"16\" WC=\"0.96\" CONTENT=\"Code\"/><SP WIDTH=\"79\" VPOS=\"502\" HPOS=\"776\"/>\\n\\t\\t\\t\\t\\t\\t\\t<String ID=\"string_133\" HPOS=\"855\" VPOS=\"501\" WIDTH=\"33\" HEIGHT=\"21\" WC=\"0.91\" CONTENT=\"Qty\"/><SP WIDTH=\"17\" VPOS=\"501\" HPOS=\"888\"/>\\n\\t\\t\\t\\t\\t\\t\\t<String ID=\"string_134\" HPOS=\"905\" VPOS=\"501\" WIDTH=\"48\" HEIGHT=\"16\" WC=\"0.91\" CONTENT=\"UOM\"/><SP WIDTH=\"54\" VPOS=\"501\" HPOS=\"953\"/>\\n\\t\\t\\t\\t\\t\\t\\t<String ID=\"string_135\" HPOS=\"1007\" VPOS=\"493\" WIDTH=\"45\" HEIGHT=\"33\" WC=\"0.96\" CONTENT=\"Rate\"/><SP WIDTH=\"80\" VPOS=\"493\" HPOS=\"1052\"/>\\n\\t\\t\\t\\t\\t\\t\\t<String ID=\"string_136\" HPOS=\"1132\" VPOS=\"501\" WIDTH=\"76\" HEIGHT=\"16\" WC=\"0.10\" CONTENT=\"Amount]\"/><SP WIDTH=\"18\" VPOS=\"501\" HPOS=\"1208\"/>\\n\\t\\t\\t\\t\\t\\t\\t<String ID=\"string_137\" HPOS=\"1226\" VPOS=\"501\" WIDTH=\"85\" HEIGHT=\"16\" WC=\"0.89\" CONTENT=\"Discount|\"/><SP WIDTH=\"62\" VPOS=\"501\" HPOS=\"1311\"/>\\n\\t\\t\\t\\t\\t\\t\\t<String ID=\"string_138\" HPOS=\"1373\" VPOS=\"505\" WIDTH=\"29\" HEIGHT=\"16\" WC=\"0.94\" CONTENT=\"UP\"/><SP WIDTH=\"53\" VPOS=\"505\" HPOS=\"1402\"/>\\n\\t\\t\\t\\t\\t\\t\\t<String ID=\"string_139\" HPOS=\"1455\" VPOS=\"493\" WIDTH=\"77\" HEIGHT=\"33\" WC=\"0.95\" CONTENT=\"Taxable\"/><SP WIDTH=\"74\" VPOS=\"493\" HPOS=\"1532\"/>\\n\\t\\t\\t\\t\\t\\t\\t<String ID=\"string_140\" HPOS=\"1606\" VPOS=\"498\" WIDTH=\"60\" HEIGHT=\"16\" WC=\"0.91\" CONTENT=\"CGST\"/><SP WIDTH=\"139\" VPOS=\"498\" HPOS=\"1666\"/>\\n\\t\\t\\t\\t\\t\\t\\t<String ID=\"string_141\" HPOS=\"1805\" VPOS=\"501\" WIDTH=\"59\" HEIGHT=\"16\" WC=\"0.91\" CONTENT=\"SGST\"/><SP WIDTH=\"147\" VPOS=\"501\" HPOS=\"1864\"/>\\n\\t\\t\\t\\t\\t\\t\\t<String ID=\"string_142\" HPOS=\"2011\" VPOS=\"496\" WIDTH=\"49\" HEIGHT=\"15\" WC=\"0.85\" CONTENT=\"IGST\"/><SP WIDTH=\"117\" VPOS=\"496\" HPOS=\"2060\"/>\\n\\t\\t\\t\\t\\t\\t\\t<String ID=\"string_143\" HPOS=\"2177\" VPOS=\"501\" WIDTH=\"47\" HEIGHT=\"16\" WC=\"0.96\" CONTENT=\"Total\"/><SP WIDTH=\"8\" VPOS=\"501\" HPOS=\"2224\"/>\\n\\t\\t\\t\\t\\t\\t\\t<String ID=\"string_144\" HPOS=\"2232\" VPOS=\"501\" WIDTH=\"56\" HEIGHT=\"16\" WC=\"0.96\" CONTENT=\"Value\"/>\\n\\t\\t\\t\\t\\t\\t</TextLine>\\n\\t\\t\\t\\t\\t\\t<TextLine ID=\"line_14\" HPOS=\"695\" VPOS=\"526\" WIDTH=\"1441\" HEIGHT=\"33\">\\n\\t\\t\\t\\t\\t\\t\\t<String ID=\"string_145\" HPOS=\"695\" VPOS=\"528\" WIDTH=\"58\" HEIGHT=\"21\" WC=\"0.96\" CONTENT=\"(GST)\"/><SP WIDTH=\"248\" VPOS=\"528\" HPOS=\"753\"/>\\n\\t\\t\\t\\t\\t\\t\\t<String ID=\"string_146\" HPOS=\"1001\" VPOS=\"530\" WIDTH=\"51\" HEIGHT=\"21\" WC=\"0.96\" CONTENT=\"(INR)\"/><SP WIDTH=\"268\" VPOS=\"530\" HPOS=\"1052\"/>\\n\\t\\t\\t\\t\\t\\t\\t<String ID=\"string_147\" HPOS=\"1320\" VPOS=\"526\" WIDTH=\"82\" HEIGHT=\"33\" WC=\"0.96\" CONTENT=\"Charges\"/><SP WIDTH=\"75\" VPOS=\"526\" HPOS=\"1402\"/>\\n\\t\\t\\t\\t\\t\\t\\t<String ID=\"string_148\" HPOS=\"1477\" VPOS=\"528\" WIDTH=\"55\" HEIGHT=\"16\" WC=\"0.0\" CONTENT=\"Value)\"/><SP WIDTH=\"25\" VPOS=\"528\" HPOS=\"1532\"/>\\n\\t\\t\\t\\t\\t\\t\\t<String ID=\"string_149\" HPOS=\"1557\" VPOS=\"534\" WIDTH=\"17\" HEIGHT=\"17\" WC=\"0.0\" CONTENT=\"%\"/><SP WIDTH=\"86\" VPOS=\"534\" HPOS=\"1574\"/>\\n\\t\\t\\t\\t\\t\\t\\t<String ID=\"string_150\" HPOS=\"1660\" VPOS=\"534\" WIDTH=\"76\" HEIGHT=\"16\" WC=\"0.80\" CONTENT=\"Amount]\"/><SP WIDTH=\"23\" VPOS=\"534\" HPOS=\"1736\"/>\\n\\t\\t\\t\\t\\t\\t\\t<String ID=\"string_151\" HPOS=\"1759\" VPOS=\"534\" WIDTH=\"17\" HEIGHT=\"17\" WC=\"0.87\" CONTENT=\"%\"/><SP WIDTH=\"81\" VPOS=\"534\" HPOS=\"1776\"/>\\n\\t\\t\\t\\t\\t\\t\\t<String ID=\"string_152\" HPOS=\"1857\" VPOS=\"534\" WIDTH=\"76\" HEIGHT=\"16\" WC=\"0.58\" CONTENT=\"Amount]\"/><SP WIDTH=\"24\" VPOS=\"534\" HPOS=\"1933\"/>\\n\\t\\t\\t\\t\\t\\t\\t<String ID=\"string_153\" HPOS=\"1957\" VPOS=\"534\" WIDTH=\"17\" HEIGHT=\"17\" WC=\"0.82\" CONTENT=\"%\"/><SP WIDTH=\"86\" VPOS=\"534\" HPOS=\"1974\"/>\\n\\t\\t\\t\\t\\t\\t\\t<String ID=\"string_154\" HPOS=\"2060\" VPOS=\"534\" WIDTH=\"76\" HEIGHT=\"16\" WC=\"0.96\" CONTENT=\"Amount\"/>\\n\\t\\t\\t\\t\\t\\t</TextLine>\\n\\t\\t\\t\\t\\t\\t<TextLine ID=\"line_15\" HPOS=\"54\" VPOS=\"569\" WIDTH=\"2234\" HEIGHT=\"26\">\\n\\t\\t\\t\\t\\t\\t\\t<String ID=\"string_155\" HPOS=\"54\" VPOS=\"573\" WIDTH=\"5\" HEIGHT=\"14\" WC=\"0.96\" CONTENT=\"1\"/><SP WIDTH=\"37\" VPOS=\"573\" HPOS=\"59\"/>\\n\\t\\t\\t\\t\\t\\t\\t<String ID=\"string_156\" HPOS=\"96\" VPOS=\"574\" WIDTH=\"120\" HEIGHT=\"14\" WC=\"0.91\" CONTENT=\"READYMADE\"/><SP WIDTH=\"8\" VPOS=\"574\" HPOS=\"216\"/>\\n\\t\\t\\t\\t\\t\\t\\t<String ID=\"string_157\" HPOS=\"224\" VPOS=\"574\" WIDTH=\"108\" HEIGHT=\"14\" WC=\"0.96\" CONTENT=\"GARMENTS\"/><SP WIDTH=\"8\" VPOS=\"574\" HPOS=\"332\"/>\\n\\t\\t\\t\\t\\t\\t\\t<String ID=\"string_158\" HPOS=\"340\" VPOS=\"574\" WIDTH=\"54\" HEIGHT=\"18\" WC=\"0.96\" CONTENT=\"(100%\"/><SP WIDTH=\"7\" VPOS=\"574\" HPOS=\"394\"/>\\n\\t\\t\\t\\t\\t\\t\\t<String ID=\"string_159\" HPOS=\"401\" VPOS=\"574\" WIDTH=\"115\" HEIGHT=\"14\" WC=\"0.96\" CONTENT=\"POLYESTER\"/><SP WIDTH=\"8\" VPOS=\"574\" HPOS=\"516\"/>\\n\\t\\t\\t\\t\\t\\t\\t<String ID=\"string_160\" HPOS=\"524\" VPOS=\"574\" WIDTH=\"53\" HEIGHT=\"14\" WC=\"0.96\" CONTENT=\"MENS\"/><SP WIDTH=\"93\" VPOS=\"574\" HPOS=\"577\"/>\\n\\t\\t\\t\\t\\t\\t\\t<String ID=\"string_161\" HPOS=\"670\" VPOS=\"573\" WIDTH=\"85\" HEIGHT=\"14\" WC=\"0.95\" CONTENT=\"62033300\"/><SP WIDTH=\"91\" VPOS=\"573\" HPOS=\"755\"/>\\n\\t\\t\\t\\t\\t\\t\\t<String ID=\"string_162\" HPOS=\"846\" VPOS=\"573\" WIDTH=\"42\" HEIGHT=\"14\" WC=\"0.95\" CONTENT=\"4806\"/><SP WIDTH=\"22\" VPOS=\"573\" HPOS=\"888\"/>\\n\\t\\t\\t\\t\\t\\t\\t<String ID=\"string_163\" HPOS=\"910\" VPOS=\"573\" WIDTH=\"38\" HEIGHT=\"14\" WC=\"0.95\" CONTENT=\"PCS\"/><SP WIDTH=\"46\" VPOS=\"573\" HPOS=\"948\"/>\\n\\t\\t\\t\\t\\t\\t\\t<String ID=\"string_164\" HPOS=\"994\" VPOS=\"573\" WIDTH=\"58\" HEIGHT=\"14\" WC=\"0.95\" CONTENT=\"514.60\"/><SP WIDTH=\"54\" VPOS=\"573\" HPOS=\"1052\"/>\\n\\t\\t\\t\\t\\t\\t\\t<String ID=\"string_165\" HPOS=\"1106\" VPOS=\"573\" WIDTH=\"101\" HEIGHT=\"14\" WC=\"0.91\" CONTENT=\"2473167.60\"/><SP WIDTH=\"67\" VPOS=\"573\" HPOS=\"1207\"/>\\n\\t\\t\\t\\t\\t\\t\\t<String ID=\"string_166\" HPOS=\"1274\" VPOS=\"569\" WIDTH=\"40\" HEIGHT=\"26\" WC=\"0.37\" CONTENT=\"0.00}\"/><SP WIDTH=\"52\" VPOS=\"569\" HPOS=\"1314\"/>\\n\\t\\t\\t\\t\\t\\t\\t<String ID=\"string_167\" HPOS=\"1366\" VPOS=\"573\" WIDTH=\"36\" HEIGHT=\"14\" WC=\"0.92\" CONTENT=\"0.00\"/><SP WIDTH=\"9\" VPOS=\"573\" HPOS=\"1402\"/>\\n\\t\\t\\t\\t\\t\\t\\t<String ID=\"string_168\" HPOS=\"1411\" VPOS=\"569\" WIDTH=\"10\" HEIGHT=\"26\" WC=\"0.90\" CONTENT=\"|\"/><SP WIDTH=\"10\" VPOS=\"569\" HPOS=\"1421\"/>\\n\\t\\t\\t\\t\\t\\t\\t<String ID=\"string_169\" HPOS=\"1431\" VPOS=\"573\" WIDTH=\"101\" HEIGHT=\"14\" WC=\"0.86\" CONTENT=\"2473167.60)\"/><SP WIDTH=\"18\" VPOS=\"573\" HPOS=\"1532\"/>\\n\\t\\t\\t\\t\\t\\t\\t<String ID=\"string_170\" HPOS=\"1550\" VPOS=\"573\" WIDTH=\"36\" HEIGHT=\"14\" WC=\"0.96\" CONTENT=\"2.50\"/><SP WIDTH=\"70\" VPOS=\"573\" HPOS=\"1586\"/>\\n\\t\\t\\t\\t\\t\\t\\t<String ID=\"string_171\" HPOS=\"1656\" VPOS=\"573\" WIDTH=\"79\" HEIGHT=\"14\" WC=\"0.71\" CONTENT=\"61829.19|\"/><SP WIDTH=\"20\" VPOS=\"573\" HPOS=\"1735\"/>\\n\\t\\t\\t\\t\\t\\t\\t<String ID=\"string_172\" HPOS=\"1755\" VPOS=\"573\" WIDTH=\"36\" HEIGHT=\"14\" WC=\"0.96\" CONTENT=\"2.50\"/><SP WIDTH=\"62\" VPOS=\"573\" HPOS=\"1791\"/>\\n\\t\\t\\t\\t\\t\\t\\t<String ID=\"string_173\" HPOS=\"1853\" VPOS=\"573\" WIDTH=\"80\" HEIGHT=\"14\" WC=\"0.78\" CONTENT=\"61829.19]\"/><SP WIDTH=\"18\" VPOS=\"573\" HPOS=\"1933\"/>\\n\\t\\t\\t\\t\\t\\t\\t<String ID=\"string_174\" HPOS=\"1951\" VPOS=\"573\" WIDTH=\"36\" HEIGHT=\"14\" WC=\"0.96\" CONTENT=\"0.00\"/><SP WIDTH=\"106\" VPOS=\"573\" HPOS=\"1987\"/>\\n\\t\\t\\t\\t\\t\\t\\t<String ID=\"string_175\" HPOS=\"2093\" VPOS=\"573\" WIDTH=\"37\" HEIGHT=\"14\" WC=\"0.95\" CONTENT=\"0.00\"/><SP WIDTH=\"57\" VPOS=\"573\" HPOS=\"2130\"/>\\n\\t\\t\\t\\t\\t\\t\\t<String ID=\"string_176\" HPOS=\"2187\" VPOS=\"573\" WIDTH=\"101\" HEIGHT=\"14\" WC=\"0.92\" CONTENT=\"2596825.98\"/>\\n\\t\\t\\t\\t\\t\\t</TextLine>\\n\\t\\t\\t\\t\\t\\t<TextLine ID=\"line_16\" HPOS=\"95\" VPOS=\"596\" WIDTH=\"364\" HEIGHT=\"18\">\\n\\t\\t\\t\\t\\t\\t\\t<String ID=\"string_177\" HPOS=\"95\" VPOS=\"596\" WIDTH=\"86\" HEIGHT=\"14\" WC=\"0.96\" CONTENT=\"JACKETS\"/><SP WIDTH=\"7\" VPOS=\"596\" HPOS=\"181\"/>\\n\\t\\t\\t\\t\\t\\t\\t<String ID=\"string_178\" HPOS=\"188\" VPOS=\"596\" WIDTH=\"48\" HEIGHT=\"14\" WC=\"0.95\" CONTENT=\"WITH\"/><SP WIDTH=\"8\" VPOS=\"596\" HPOS=\"236\"/>\\n\\t\\t\\t\\t\\t\\t\\t<String ID=\"string_179\" HPOS=\"244\" VPOS=\"596\" WIDTH=\"62\" HEIGHT=\"14\" WC=\"0.95\" CONTENT=\"LINING\"/><SP WIDTH=\"7\" VPOS=\"596\" HPOS=\"306\"/>\\n\\t\\t\\t\\t\\t\\t\\t<String ID=\"string_180\" HPOS=\"313\" VPOS=\"596\" WIDTH=\"40\" HEIGHT=\"14\" WC=\"0.96\" CONTENT=\"AND\"/><SP WIDTH=\"7\" VPOS=\"596\" HPOS=\"353\"/>\\n\\t\\t\\t\\t\\t\\t\\t<String ID=\"string_181\" HPOS=\"360\" VPOS=\"596\" WIDTH=\"87\" HEIGHT=\"14\" WC=\"0.93\" CONTENT=\"PADDING\"/><SP WIDTH=\"8\" VPOS=\"596\" HPOS=\"447\"/>\\n\\t\\t\\t\\t\\t\\t\\t<String ID=\"string_182\" HPOS=\"455\" VPOS=\"596\" WIDTH=\"4\" HEIGHT=\"18\" WC=\"0.92\" CONTENT=\")\"/>\\n\\t\\t\\t\\t\\t\\t</TextLine>\\n\\t\\t\\t\\t\\t\\t<TextLine ID=\"line_17\" HPOS=\"27\" VPOS=\"899\" WIDTH=\"346\" HEIGHT=\"22\">\\n\\t\\t\\t\\t\\t\\t\\t<String ID=\"string_183\" HPOS=\"27\" VPOS=\"899\" WIDTH=\"62\" HEIGHT=\"20\" WC=\"0.90\" CONTENT=\"ITEM\"/><SP WIDTH=\"10\" VPOS=\"899\" HPOS=\"89\"/>\\n\\t\\t\\t\\t\\t\\t\\t<String ID=\"string_184\" HPOS=\"99\" VPOS=\"899\" WIDTH=\"15\" HEIGHT=\"20\" WC=\"0.90\" CONTENT=\"#\"/><SP WIDTH=\"14\" VPOS=\"899\" HPOS=\"114\"/>\\n\\t\\t\\t\\t\\t\\t\\t<String ID=\"string_185\" HPOS=\"128\" VPOS=\"900\" WIDTH=\"96\" HEIGHT=\"18\" WC=\"0.91\" CONTENT=\"2121844\"/><SP WIDTH=\"15\" VPOS=\"900\" HPOS=\"224\"/>\\n\\t\\t\\t\\t\\t\\t\\t<String ID=\"string_186\" HPOS=\"239\" VPOS=\"910\" WIDTH=\"7\" HEIGHT=\"3\" WC=\"0.59\" CONTENT=\"-\"/><SP WIDTH=\"11\" VPOS=\"910\" HPOS=\"246\"/>\\n\\t\\t\\t\\t\\t\\t\\t<String ID=\"string_187\" HPOS=\"257\" VPOS=\"900\" WIDTH=\"51\" HEIGHT=\"18\" WC=\"0.59\" CONTENT=\"1200\"/><SP WIDTH=\"10\" VPOS=\"900\" HPOS=\"308\"/>\\n\\t\\t\\t\\t\\t\\t\\t<String ID=\"string_188\" HPOS=\"318\" VPOS=\"900\" WIDTH=\"55\" HEIGHT=\"21\" WC=\"0.79\" CONTENT=\"PCS,\"/>\\n\\t\\t\\t\\t\\t\\t</TextLine>\\n\\t\\t\\t\\t\\t\\t<TextLine ID=\"line_18\" HPOS=\"128\" VPOS=\"929\" WIDTH=\"231\" HEIGHT=\"21\">\\n\\t\\t\\t\\t\\t\\t\\t<String ID=\"string_189\" HPOS=\"128\" VPOS=\"929\" WIDTH=\"105\" HEIGHT=\"18\" WC=\"0.92\" CONTENT=\"2121845-\"/><SP WIDTH=\"10\" VPOS=\"929\" HPOS=\"233\"/>\\n\\t\\t\\t\\t\\t\\t\\t<String ID=\"string_190\" HPOS=\"243\" VPOS=\"929\" WIDTH=\"52\" HEIGHT=\"18\" WC=\"0.96\" CONTENT=\"1890\"/><SP WIDTH=\"10\" VPOS=\"929\" HPOS=\"295\"/>\\n\\t\\t\\t\\t\\t\\t\\t<String ID=\"string_191\" HPOS=\"305\" VPOS=\"929\" WIDTH=\"54\" HEIGHT=\"21\" WC=\"0.96\" CONTENT=\"PCS,\"/>\\n\\t\\t\\t\\t\\t\\t</TextLine>\\n\\t\\t\\t\\t\\t\\t<TextLine ID=\"line_19\" HPOS=\"128\" VPOS=\"957\" WIDTH=\"231\" HEIGHT=\"21\">\\n\\t\\t\\t\\t\\t\\t\\t<String ID=\"string_192\" HPOS=\"128\" VPOS=\"957\" WIDTH=\"105\" HEIGHT=\"18\" WC=\"0.92\" CONTENT=\"2121846-\"/><SP WIDTH=\"10\" VPOS=\"957\" HPOS=\"233\"/>\\n\\t\\t\\t\\t\\t\\t\\t<String ID=\"string_193\" HPOS=\"243\" VPOS=\"957\" WIDTH=\"52\" HEIGHT=\"18\" WC=\"0.95\" CONTENT=\"1200\"/><SP WIDTH=\"10\" VPOS=\"957\" HPOS=\"295\"/>\\n\\t\\t\\t\\t\\t\\t\\t<String ID=\"string_194\" HPOS=\"305\" VPOS=\"957\" WIDTH=\"54\" HEIGHT=\"21\" WC=\"0.95\" CONTENT=\"PCS,\"/>\\n\\t\\t\\t\\t\\t\\t</TextLine>\\n\\t\\t\\t\\t\\t\\t<TextLine ID=\"line_20\" HPOS=\"128\" VPOS=\"986\" WIDTH=\"278\" HEIGHT=\"18\">\\n\\t\\t\\t\\t\\t\\t\\t<String ID=\"string_195\" HPOS=\"128\" VPOS=\"986\" WIDTH=\"96\" HEIGHT=\"18\" WC=\"0.96\" CONTENT=\"2121847\"/><SP WIDTH=\"68\" VPOS=\"986\" HPOS=\"224\"/>\\n\\t\\t\\t\\t\\t\\t\\t<String ID=\"string_196\" HPOS=\"292\" VPOS=\"986\" WIDTH=\"56\" HEIGHT=\"18\" WC=\"0.86\" CONTENT=\"-516\"/><SP WIDTH=\"9\" VPOS=\"986\" HPOS=\"348\"/>\\n\\t\\t\\t\\t\\t\\t\\t<String ID=\"string_197\" HPOS=\"357\" VPOS=\"986\" WIDTH=\"49\" HEIGHT=\"18\" WC=\"0.96\" CONTENT=\"PCS\"/>\\n\\t\\t\\t\\t\\t\\t</TextLine>\\n\\t\\t\\t\\t\\t\\t<TextLine ID=\"line_21\" HPOS=\"35\" VPOS=\"1187\" WIDTH=\"2256\" HEIGHT=\"24\">\\n\\t\\t\\t\\t\\t\\t\\t<String ID=\"string_198\" HPOS=\"35\" VPOS=\"1190\" WIDTH=\"33\" HEIGHT=\"16\" WC=\"0.96\" CONTENT=\"Net\"/><SP WIDTH=\"8\" VPOS=\"1190\" HPOS=\"68\"/>\\n\\t\\t\\t\\t\\t\\t\\t<String ID=\"string_199\" HPOS=\"76\" VPOS=\"1190\" WIDTH=\"32\" HEIGHT=\"16\" WC=\"0.96\" CONTENT=\"Net\"/><SP WIDTH=\"7\" VPOS=\"1190\" HPOS=\"108\"/>\\n\\t\\t\\t\\t\\t\\t\\t<String ID=\"string_200\" HPOS=\"115\" VPOS=\"1190\" WIDTH=\"73\" HEIGHT=\"21\" WC=\"0.96\" CONTENT=\"Weight:\"/><SP WIDTH=\"107\" VPOS=\"1190\" HPOS=\"188\"/>\\n\\t\\t\\t\\t\\t\\t\\t<String ID=\"string_201\" HPOS=\"295\" VPOS=\"1190\" WIDTH=\"54\" HEIGHT=\"16\" WC=\"0.96\" CONTENT=\"0.000\"/><SP WIDTH=\"501\" VPOS=\"1190\" HPOS=\"349\"/>\\n\\t\\t\\t\\t\\t\\t\\t<String ID=\"string_202\" HPOS=\"850\" VPOS=\"1188\" WIDTH=\"71\" HEIGHT=\"16\" WC=\"0.92\" CONTENT=\"TOTAL\"/><SP WIDTH=\"7\" VPOS=\"1188\" HPOS=\"921\"/>\\n\\t\\t\\t\\t\\t\\t\\t<String ID=\"string_203\" HPOS=\"928\" VPOS=\"1188\" WIDTH=\"12\" HEIGHT=\"16\" WC=\"0.92\" CONTENT=\"#\"/><SP WIDTH=\"148\" VPOS=\"1188\" HPOS=\"940\"/>\\n\\t\\t\\t\\t\\t\\t\\t<String ID=\"string_204\" HPOS=\"1088\" VPOS=\"1187\" WIDTH=\"114\" HEIGHT=\"16\" WC=\"0.45\" CONTENT=\"2473167.60\"/><SP WIDTH=\"61\" VPOS=\"1187\" HPOS=\"1202\"/>\\n\\t\\t\\t\\t\\t\\t\\t<String ID=\"string_205\" HPOS=\"1263\" VPOS=\"1187\" WIDTH=\"41\" HEIGHT=\"16\" WC=\"0.96\" CONTENT=\"0.00\"/><SP WIDTH=\"59\" VPOS=\"1187\" HPOS=\"1304\"/>\\n\\t\\t\\t\\t\\t\\t\\t<String ID=\"string_206\" HPOS=\"1363\" VPOS=\"1187\" WIDTH=\"41\" HEIGHT=\"16\" WC=\"0.85\" CONTENT=\"0.00]\"/><SP WIDTH=\"26\" VPOS=\"1187\" HPOS=\"1404\"/>\\n\\t\\t\\t\\t\\t\\t\\t<String ID=\"string_207\" HPOS=\"1430\" VPOS=\"1188\" WIDTH=\"90\" HEIGHT=\"16\" WC=\"0.93\" CONTENT=\"2473167.\"/><SP WIDTH=\"102\" VPOS=\"1188\" HPOS=\"1520\"/>\\n\\t\\t\\t\\t\\t\\t\\t<String ID=\"string_208\" HPOS=\"1622\" VPOS=\"1187\" WIDTH=\"91\" HEIGHT=\"16\" WC=\"0.92\" CONTENT=\"61829.19\"/><SP WIDTH=\"117\" VPOS=\"1187\" HPOS=\"1713\"/>\\n\\t\\t\\t\\t\\t\\t\\t<String ID=\"string_209\" HPOS=\"1830\" VPOS=\"1187\" WIDTH=\"91\" HEIGHT=\"16\" WC=\"0.90\" CONTENT=\"61829.19\"/><SP WIDTH=\"142\" VPOS=\"1187\" HPOS=\"1921\"/>\\n\\t\\t\\t\\t\\t\\t\\t<String ID=\"string_210\" HPOS=\"2063\" VPOS=\"1187\" WIDTH=\"41\" HEIGHT=\"16\" WC=\"0.96\" CONTENT=\"0.00\"/><SP WIDTH=\"71\" VPOS=\"1187\" HPOS=\"2104\"/>\\n\\t\\t\\t\\t\\t\\t\\t<String ID=\"string_211\" HPOS=\"2175\" VPOS=\"1187\" WIDTH=\"116\" HEIGHT=\"16\" WC=\"0.91\" CONTENT=\"2596825.98\"/>\\n\\t\\t\\t\\t\\t\\t</TextLine>\\n\\t\\t\\t\\t\\t\\t<TextLine ID=\"line_22\" HPOS=\"28\" VPOS=\"1305\" WIDTH=\"2271\" HEIGHT=\"36\">\\n\\t\\t\\t\\t\\t\\t\\t<String ID=\"string_212\" HPOS=\"28\" VPOS=\"1318\" WIDTH=\"75\" HEIGHT=\"18\" WC=\"0.96\" CONTENT=\"Values\"/><SP WIDTH=\"10\" VPOS=\"1318\" HPOS=\"103\"/>\\n\\t\\t\\t\\t\\t\\t\\t<String ID=\"string_213\" HPOS=\"113\" VPOS=\"1318\" WIDTH=\"16\" HEIGHT=\"18\" WC=\"0.94\" CONTENT=\"in\"/><SP WIDTH=\"9\" VPOS=\"1318\" HPOS=\"129\"/>\\n\\t\\t\\t\\t\\t\\t\\t<String ID=\"string_214\" HPOS=\"138\" VPOS=\"1318\" WIDTH=\"71\" HEIGHT=\"18\" WC=\"0.94\" CONTENT=\"Words\"/><SP WIDTH=\"9\" VPOS=\"1318\" HPOS=\"209\"/>\\n\\t\\t\\t\\t\\t\\t\\t<String ID=\"string_215\" HPOS=\"218\" VPOS=\"1318\" WIDTH=\"57\" HEIGHT=\"23\" WC=\"0.92\" CONTENT=\"(INR)\"/><SP WIDTH=\"10\" VPOS=\"1318\" HPOS=\"275\"/>\\n\\t\\t\\t\\t\\t\\t\\t<String ID=\"string_216\" HPOS=\"285\" VPOS=\"1323\" WIDTH=\"3\" HEIGHT=\"3\" WC=\"0.91\" CONTENT=\":\"/><SP WIDTH=\"1608\" VPOS=\"1323\" HPOS=\"288\"/>\\n\\t\\t\\t\\t\\t\\t\\t<String ID=\"string_217\" HPOS=\"1896\" VPOS=\"1307\" WIDTH=\"53\" HEIGHT=\"18\" WC=\"0.96\" CONTENT=\"Total\"/><SP WIDTH=\"11\" VPOS=\"1307\" HPOS=\"1949\"/>\\n\\t\\t\\t\\t\\t\\t\\t<String ID=\"string_218\" HPOS=\"1960\" VPOS=\"1307\" WIDTH=\"76\" HEIGHT=\"18\" WC=\"0.96\" CONTENT=\"Invoice\"/><SP WIDTH=\"9\" VPOS=\"1307\" HPOS=\"2036\"/>\\n\\t\\t\\t\\t\\t\\t\\t<String ID=\"string_219\" HPOS=\"2045\" VPOS=\"1307\" WIDTH=\"75\" HEIGHT=\"18\" WC=\"0.92\" CONTENT=\"Value:\"/><SP WIDTH=\"34\" VPOS=\"1307\" HPOS=\"2120\"/>\\n\\t\\t\\t\\t\\t\\t\\t<String ID=\"string_220\" HPOS=\"2154\" VPOS=\"1305\" WIDTH=\"145\" HEIGHT=\"20\" WC=\"0.90\" CONTENT=\"2596825.98\"/>\\n\\t\\t\\t\\t\\t\\t</TextLine>\\n\\t\\t\\t\\t\\t</TextBlock>\\n\\t\\t\\t\\t</ComposedBlock>\\n\\t\\t\\t\\t<ComposedBlock ID=\"cblock_24\" HPOS=\"316\" VPOS=\"1318\" WIDTH=\"1130\" HEIGHT=\"23\">\\n\\t\\t\\t\\t\\t<TextBlock ID=\"block_1\" HPOS=\"316\" VPOS=\"1318\" WIDTH=\"1130\" HEIGHT=\"23\">\\n\\t\\t\\t\\t\\t\\t<TextLine ID=\"line_23\" HPOS=\"316\" VPOS=\"1318\" WIDTH=\"1130\" HEIGHT=\"23\">\\n\\t\\t\\t\\t\\t\\t\\t<String ID=\"string_221\" HPOS=\"316\" VPOS=\"1318\" WIDTH=\"79\" HEIGHT=\"23\" WC=\"0.95\" CONTENT=\"Twenty\"/><SP WIDTH=\"17\" VPOS=\"1318\" HPOS=\"395\"/>\\n\\t\\t\\t\\t\\t\\t\\t<String ID=\"string_222\" HPOS=\"412\" VPOS=\"1318\" WIDTH=\"44\" HEIGHT=\"18\" WC=\"0.95\" CONTENT=\"Five\"/><SP WIDTH=\"9\" VPOS=\"1318\" HPOS=\"456\"/>\\n\\t\\t\\t\\t\\t\\t\\t<String ID=\"string_223\" HPOS=\"465\" VPOS=\"1318\" WIDTH=\"51\" HEIGHT=\"18\" WC=\"0.96\" CONTENT=\"Lakh\"/><SP WIDTH=\"11\" VPOS=\"1318\" HPOS=\"516\"/>\\n\\t\\t\\t\\t\\t\\t\\t<String ID=\"string_224\" HPOS=\"527\" VPOS=\"1318\" WIDTH=\"68\" HEIGHT=\"23\" WC=\"0.96\" CONTENT=\"Ninety\"/><SP WIDTH=\"16\" VPOS=\"1318\" HPOS=\"595\"/>\\n\\t\\t\\t\\t\\t\\t\\t<String ID=\"string_225\" HPOS=\"611\" VPOS=\"1318\" WIDTH=\"33\" HEIGHT=\"18\" WC=\"0.96\" CONTENT=\"Six\"/><SP WIDTH=\"8\" VPOS=\"1318\" HPOS=\"644\"/>\\n\\t\\t\\t\\t\\t\\t\\t<String ID=\"string_226\" HPOS=\"652\" VPOS=\"1318\" WIDTH=\"109\" HEIGHT=\"18\" WC=\"0.96\" CONTENT=\"Thousand\"/><SP WIDTH=\"10\" VPOS=\"1318\" HPOS=\"761\"/>\\n\\t\\t\\t\\t\\t\\t\\t<String ID=\"string_227\" HPOS=\"771\" VPOS=\"1318\" WIDTH=\"55\" HEIGHT=\"23\" WC=\"0.96\" CONTENT=\"Eight\"/><SP WIDTH=\"9\" VPOS=\"1318\" HPOS=\"826\"/>\\n\\t\\t\\t\\t\\t\\t\\t<String ID=\"string_228\" HPOS=\"835\" VPOS=\"1318\" WIDTH=\"93\" HEIGHT=\"18\" WC=\"0.95\" CONTENT=\"Hundred\"/><SP WIDTH=\"9\" VPOS=\"1318\" HPOS=\"928\"/>\\n\\t\\t\\t\\t\\t\\t\\t<String ID=\"string_229\" HPOS=\"937\" VPOS=\"1318\" WIDTH=\"79\" HEIGHT=\"23\" WC=\"0.96\" CONTENT=\"Twenty\"/><SP WIDTH=\"17\" VPOS=\"1318\" HPOS=\"1016\"/>\\n\\t\\t\\t\\t\\t\\t\\t<String ID=\"string_230\" HPOS=\"1033\" VPOS=\"1318\" WIDTH=\"44\" HEIGHT=\"18\" WC=\"0.96\" CONTENT=\"Five\"/><SP WIDTH=\"22\" VPOS=\"1318\" HPOS=\"1077\"/>\\n\\t\\t\\t\\t\\t\\t\\t<String ID=\"string_231\" HPOS=\"1099\" VPOS=\"1318\" WIDTH=\"43\" HEIGHT=\"18\" WC=\"0.95\" CONTENT=\"And\"/><SP WIDTH=\"24\" VPOS=\"1318\" HPOS=\"1142\"/>\\n\\t\\t\\t\\t\\t\\t\\t<String ID=\"string_232\" HPOS=\"1166\" VPOS=\"1318\" WIDTH=\"69\" HEIGHT=\"23\" WC=\"0.95\" CONTENT=\"Ninety\"/><SP WIDTH=\"16\" VPOS=\"1318\" HPOS=\"1235\"/>\\n\\t\\t\\t\\t\\t\\t\\t<String ID=\"string_233\" HPOS=\"1251\" VPOS=\"1318\" WIDTH=\"55\" HEIGHT=\"23\" WC=\"0.93\" CONTENT=\"Eight\"/><SP WIDTH=\"16\" VPOS=\"1318\" HPOS=\"1306\"/>\\n\\t\\t\\t\\t\\t\\t\\t<String ID=\"string_234\" HPOS=\"1322\" VPOS=\"1318\" WIDTH=\"59\" HEIGHT=\"18\" WC=\"0.92\" CONTENT=\"Paise\"/><SP WIDTH=\"9\" VPOS=\"1318\" HPOS=\"1381\"/>\\n\\t\\t\\t\\t\\t\\t\\t<String ID=\"string_235\" HPOS=\"1390\" VPOS=\"1318\" WIDTH=\"56\" HEIGHT=\"23\" WC=\"0.95\" CONTENT=\"Only.\"/>\\n\\t\\t\\t\\t\\t\\t</TextLine>\\n\\t\\t\\t\\t\\t</TextBlock>\\n\\t\\t\\t\\t</ComposedBlock>\\n\\t\\t\\t\\t<ComposedBlock ID=\"cblock_25\" HPOS=\"34\" VPOS=\"1373\" WIDTH=\"1220\" HEIGHT=\"46\">\\n\\t\\t\\t\\t\\t<TextBlock ID=\"block_2\" HPOS=\"34\" VPOS=\"1373\" WIDTH=\"1220\" HEIGHT=\"46\">\\n\\t\\t\\t\\t\\t\\t<TextLine ID=\"line_24\" HPOS=\"34\" VPOS=\"1373\" WIDTH=\"1220\" HEIGHT=\"21\">\\n\\t\\t\\t\\t\\t\\t\\t<String ID=\"string_236\" HPOS=\"34\" VPOS=\"1373\" WIDTH=\"36\" HEIGHT=\"16\" WC=\"0.96\" CONTENT=\"Our\"/><SP WIDTH=\"8\" VPOS=\"1373\" HPOS=\"70\"/>\\n\\t\\t\\t\\t\\t\\t\\t<String ID=\"string_237\" HPOS=\"78\" VPOS=\"1373\" WIDTH=\"49\" HEIGHT=\"16\" WC=\"0.96\" CONTENT=\"Bank\"/><SP WIDTH=\"7\" VPOS=\"1373\" HPOS=\"127\"/>\\n\\t\\t\\t\\t\\t\\t\\t<String ID=\"string_238\" HPOS=\"134\" VPOS=\"1373\" WIDTH=\"63\" HEIGHT=\"16\" WC=\"0.96\" CONTENT=\"details\"/><SP WIDTH=\"7\" VPOS=\"1373\" HPOS=\"197\"/>\\n\\t\\t\\t\\t\\t\\t\\t<String ID=\"string_239\" HPOS=\"204\" VPOS=\"1373\" WIDTH=\"26\" HEIGHT=\"16\" WC=\"0.96\" CONTENT=\"for\"/><SP WIDTH=\"13\" VPOS=\"1373\" HPOS=\"230\"/>\\n\\t\\t\\t\\t\\t\\t\\t<String ID=\"string_240\" HPOS=\"243\" VPOS=\"1374\" WIDTH=\"84\" HEIGHT=\"20\" WC=\"0.91\" CONTENT=\"payment\"/><SP WIDTH=\"10\" VPOS=\"1374\" HPOS=\"327\"/>\\n\\t\\t\\t\\t\\t\\t\\t<String ID=\"string_241\" HPOS=\"337\" VPOS=\"1377\" WIDTH=\"1\" HEIGHT=\"12\" WC=\"0.91\" CONTENT=\":\"/><SP WIDTH=\"4\" VPOS=\"1377\" HPOS=\"338\"/>\\n\\t\\t\\t\\t\\t\\t\\t<String ID=\"string_242\" HPOS=\"342\" VPOS=\"1374\" WIDTH=\"48\" HEIGHT=\"19\" WC=\"0.96\" CONTENT=\"YES,\"/><SP WIDTH=\"10\" VPOS=\"1374\" HPOS=\"390\"/>\\n\\t\\t\\t\\t\\t\\t\\t<String ID=\"string_243\" HPOS=\"400\" VPOS=\"1374\" WIDTH=\"63\" HEIGHT=\"19\" WC=\"0.95\" CONTENT=\"BANK,\"/><SP WIDTH=\"9\" VPOS=\"1374\" HPOS=\"463\"/>\\n\\t\\t\\t\\t\\t\\t\\t<String ID=\"string_244\" HPOS=\"472\" VPOS=\"1374\" WIDTH=\"37\" HEIGHT=\"16\" WC=\"0.95\" CONTENT=\"GR.\"/><SP WIDTH=\"10\" VPOS=\"1374\" HPOS=\"509\"/>\\n\\t\\t\\t\\t\\t\\t\\t<String ID=\"string_245\" HPOS=\"519\" VPOS=\"1374\" WIDTH=\"74\" HEIGHT=\"16\" WC=\"0.93\" CONTENT=\"FLOOR\"/><SP WIDTH=\"8\" VPOS=\"1374\" HPOS=\"593\"/>\\n\\t\\t\\t\\t\\t\\t\\t<String ID=\"string_246\" HPOS=\"601\" VPOS=\"1374\" WIDTH=\"13\" HEIGHT=\"16\" WC=\"0.93\" CONTENT=\"&amp;\"/><SP WIDTH=\"8\" VPOS=\"1374\" HPOS=\"614\"/>\\n\\t\\t\\t\\t\\t\\t\\t<String ID=\"string_247\" HPOS=\"622\" VPOS=\"1374\" WIDTH=\"93\" HEIGHT=\"16\" WC=\"0.96\" CONTENT=\"SECOND\"/><SP WIDTH=\"9\" VPOS=\"1374\" HPOS=\"715\"/>\\n\\t\\t\\t\\t\\t\\t\\t<String ID=\"string_248\" HPOS=\"724\" VPOS=\"1374\" WIDTH=\"79\" HEIGHT=\"19\" WC=\"0.93\" CONTENT=\"FLOOR,\"/><SP WIDTH=\"9\" VPOS=\"1374\" HPOS=\"803\"/>\\n\\t\\t\\t\\t\\t\\t\\t<String ID=\"string_249\" HPOS=\"812\" VPOS=\"1374\" WIDTH=\"71\" HEIGHT=\"19\" WC=\"0.92\" CONTENT=\"SCO-4,\"/><SP WIDTH=\"9\" VPOS=\"1374\" HPOS=\"883\"/>\\n\\t\\t\\t\\t\\t\\t\\t<String ID=\"string_250\" HPOS=\"892\" VPOS=\"1374\" WIDTH=\"91\" HEIGHT=\"16\" WC=\"0.90\" CONTENT=\"SECTOR\"/><SP WIDTH=\"7\" VPOS=\"1374\" HPOS=\"983\"/>\\n\\t\\t\\t\\t\\t\\t\\t<String ID=\"string_251\" HPOS=\"990\" VPOS=\"1374\" WIDTH=\"36\" HEIGHT=\"19\" WC=\"0.90\" CONTENT=\"-16,\"/><SP WIDTH=\"10\" VPOS=\"1374\" HPOS=\"1026\"/>\\n\\t\\t\\t\\t\\t\\t\\t<String ID=\"string_252\" HPOS=\"1036\" VPOS=\"1374\" WIDTH=\"124\" HEIGHT=\"16\" WC=\"0.92\" CONTENT=\"FARIDABAD\"/><SP WIDTH=\"8\" VPOS=\"1374\" HPOS=\"1160\"/>\\n\\t\\t\\t\\t\\t\\t\\t<String ID=\"string_253\" HPOS=\"1168\" VPOS=\"1374\" WIDTH=\"86\" HEIGHT=\"19\" WC=\"0.91\" CONTENT=\"-121002,\"/>\\n\\t\\t\\t\\t\\t\\t</TextLine>\\n\\t\\t\\t\\t\\t\\t<TextLine ID=\"line_25\" HPOS=\"343\" VPOS=\"1400\" WIDTH=\"898\" HEIGHT=\"19\">\\n\\t\\t\\t\\t\\t\\t\\t<String ID=\"string_254\" HPOS=\"343\" VPOS=\"1400\" WIDTH=\"67\" HEIGHT=\"16\" WC=\"0.96\" CONTENT=\"SWIFT\"/><SP WIDTH=\"8\" VPOS=\"1400\" HPOS=\"410\"/>\\n\\t\\t\\t\\t\\t\\t\\t<String ID=\"string_255\" HPOS=\"418\" VPOS=\"1400\" WIDTH=\"67\" HEIGHT=\"16\" WC=\"0.93\" CONTENT=\"CODE:\"/><SP WIDTH=\"9\" VPOS=\"1400\" HPOS=\"485\"/>\\n\\t\\t\\t\\t\\t\\t\\t<String ID=\"string_256\" HPOS=\"494\" VPOS=\"1400\" WIDTH=\"158\" HEIGHT=\"19\" WC=\"0.91\" CONTENT=\"YESBINBBDEL,\"/><SP WIDTH=\"10\" VPOS=\"1400\" HPOS=\"652\"/>\\n\\t\\t\\t\\t\\t\\t\\t<String ID=\"string_257\" HPOS=\"662\" VPOS=\"1400\" WIDTH=\"48\" HEIGHT=\"16\" WC=\"0.93\" CONTENT=\"IFSC\"/><SP WIDTH=\"8\" VPOS=\"1400\" HPOS=\"710\"/>\\n\\t\\t\\t\\t\\t\\t\\t<String ID=\"string_258\" HPOS=\"718\" VPOS=\"1400\" WIDTH=\"70\" HEIGHT=\"16\" WC=\"0.92\" CONTENT=\"CODE-\"/><SP WIDTH=\"7\" VPOS=\"1400\" HPOS=\"788\"/>\\n\\t\\t\\t\\t\\t\\t\\t<String ID=\"string_259\" HPOS=\"795\" VPOS=\"1400\" WIDTH=\"150\" HEIGHT=\"19\" WC=\"0.90\" CONTENT=\"YESB0000020,\"/><SP WIDTH=\"9\" VPOS=\"1400\" HPOS=\"945\"/>\\n\\t\\t\\t\\t\\t\\t\\t<String ID=\"string_260\" HPOS=\"954\" VPOS=\"1400\" WIDTH=\"65\" HEIGHT=\"16\" WC=\"0.90\" CONTENT=\"SHAHI\"/><SP WIDTH=\"10\" VPOS=\"1400\" HPOS=\"1019\"/>\\n\\t\\t\\t\\t\\t\\t\\t<String ID=\"string_261\" HPOS=\"1029\" VPOS=\"1400\" WIDTH=\"103\" HEIGHT=\"16\" WC=\"0.96\" CONTENT=\"EXPORTS\"/><SP WIDTH=\"9\" VPOS=\"1400\" HPOS=\"1132\"/>\\n\\t\\t\\t\\t\\t\\t\\t<String ID=\"string_262\" HPOS=\"1141\" VPOS=\"1400\" WIDTH=\"46\" HEIGHT=\"16\" WC=\"0.96\" CONTENT=\"PVT.\"/><SP WIDTH=\"10\" VPOS=\"1400\" HPOS=\"1187\"/>\\n\\t\\t\\t\\t\\t\\t\\t<String ID=\"string_263\" HPOS=\"1197\" VPOS=\"1400\" WIDTH=\"44\" HEIGHT=\"19\" WC=\"0.96\" CONTENT=\"LTD,\"/>\\n\\t\\t\\t\\t\\t\\t</TextLine>\\n\\t\\t\\t\\t\\t</TextBlock>\\n\\t\\t\\t\\t</ComposedBlock>\\n\\t\\t\\t\\t<ComposedBlock ID=\"cblock_26\" HPOS=\"344\" VPOS=\"1434\" WIDTH=\"370\" HEIGHT=\"16\">\\n\\t\\t\\t\\t\\t<TextBlock ID=\"block_3\" HPOS=\"344\" VPOS=\"1434\" WIDTH=\"370\" HEIGHT=\"16\">\\n\\t\\t\\t\\t\\t\\t<TextLine ID=\"line_26\" HPOS=\"344\" VPOS=\"1434\" WIDTH=\"370\" HEIGHT=\"16\">\\n\\t\\t\\t\\t\\t\\t\\t<String ID=\"string_264\" HPOS=\"344\" VPOS=\"1434\" WIDTH=\"80\" HEIGHT=\"16\" WC=\"0.92\" CONTENT=\"Account\"/><SP WIDTH=\"15\" VPOS=\"1434\" HPOS=\"424\"/>\\n\\t\\t\\t\\t\\t\\t\\t<String ID=\"string_265\" HPOS=\"439\" VPOS=\"1434\" WIDTH=\"84\" HEIGHT=\"16\" WC=\"0.92\" CONTENT=\"Number-\"/><SP WIDTH=\"7\" VPOS=\"1434\" HPOS=\"523\"/>\\n\\t\\t\\t\\t\\t\\t\\t<String ID=\"string_266\" HPOS=\"530\" VPOS=\"1434\" WIDTH=\"184\" HEIGHT=\"16\" WC=\"0.92\" CONTENT=\"002081400000088\"/>\\n\\t\\t\\t\\t\\t\\t</TextLine>\\n\\t\\t\\t\\t\\t</TextBlock>\\n\\t\\t\\t\\t</ComposedBlock>\\n\\t\\t\\t\\t<ComposedBlock ID=\"cblock_27\" HPOS=\"35\" VPOS=\"1482\" WIDTH=\"505\" HEIGHT=\"59\">\\n\\t\\t\\t\\t\\t<TextBlock ID=\"block_4\" HPOS=\"35\" VPOS=\"1482\" WIDTH=\"505\" HEIGHT=\"59\">\\n\\t\\t\\t\\t\\t\\t<TextLine ID=\"line_27\" HPOS=\"35\" VPOS=\"1482\" WIDTH=\"136\" HEIGHT=\"18\">\\n\\t\\t\\t\\t\\t\\t\\t<String ID=\"string_267\" HPOS=\"35\" VPOS=\"1482\" WIDTH=\"123\" HEIGHT=\"18\" WC=\"0.93\" CONTENT=\"Declaration\"/><SP WIDTH=\"11\" VPOS=\"1482\" HPOS=\"158\"/>\\n\\t\\t\\t\\t\\t\\t\\t<String ID=\"string_268\" HPOS=\"169\" VPOS=\"1487\" WIDTH=\"2\" HEIGHT=\"13\" WC=\"0.92\" CONTENT=\":\"/>\\n\\t\\t\\t\\t\\t\\t</TextLine>\\n\\t\\t\\t\\t\\t\\t<TextLine ID=\"line_28\" HPOS=\"198\" VPOS=\"1520\" WIDTH=\"342\" HEIGHT=\"21\">\\n\\t\\t\\t\\t\\t\\t\\t<String ID=\"string_269\" HPOS=\"198\" VPOS=\"1520\" WIDTH=\"16\" HEIGHT=\"16\" WC=\"0.96\" CONTENT=\"2.\"/><SP WIDTH=\"16\" VPOS=\"1520\" HPOS=\"214\"/>\\n\\t\\t\\t\\t\\t\\t\\t<String ID=\"string_270\" HPOS=\"230\" VPOS=\"1520\" WIDTH=\"80\" HEIGHT=\"16\" WC=\"0.96\" CONTENT=\"Reverse\"/><SP WIDTH=\"8\" VPOS=\"1520\" HPOS=\"310\"/>\\n\\t\\t\\t\\t\\t\\t\\t<String ID=\"string_271\" HPOS=\"318\" VPOS=\"1520\" WIDTH=\"66\" HEIGHT=\"21\" WC=\"0.96\" CONTENT=\"charge\"/><SP WIDTH=\"8\" VPOS=\"1520\" HPOS=\"384\"/>\\n\\t\\t\\t\\t\\t\\t\\t<String ID=\"string_272\" HPOS=\"392\" VPOS=\"1520\" WIDTH=\"98\" HEIGHT=\"21\" WC=\"0.92\" CONTENT=\"applicable\"/><SP WIDTH=\"9\" VPOS=\"1520\" HPOS=\"490\"/>\\n\\t\\t\\t\\t\\t\\t\\t<String ID=\"string_273\" HPOS=\"499\" VPOS=\"1524\" WIDTH=\"3\" HEIGHT=\"12\" WC=\"0.92\" CONTENT=\":\"/><SP WIDTH=\"9\" VPOS=\"1524\" HPOS=\"502\"/>\\n\\t\\t\\t\\t\\t\\t\\t<String ID=\"string_274\" HPOS=\"511\" VPOS=\"1520\" WIDTH=\"29\" HEIGHT=\"16\" WC=\"0.96\" CONTENT=\"NA\"/>\\n\\t\\t\\t\\t\\t\\t</TextLine>\\n\\t\\t\\t\\t\\t</TextBlock>\\n\\t\\t\\t\\t</ComposedBlock>\\n\\t\\t\\t\\t<ComposedBlock ID=\"cblock_28\" HPOS=\"199\" VPOS=\"1482\" WIDTH=\"836\" HEIGHT=\"21\">\\n\\t\\t\\t\\t\\t<TextBlock ID=\"block_5\" HPOS=\"199\" VPOS=\"1482\" WIDTH=\"836\" HEIGHT=\"21\">\\n\\t\\t\\t\\t\\t\\t<TextLine ID=\"line_29\" HPOS=\"199\" VPOS=\"1482\" WIDTH=\"836\" HEIGHT=\"21\">\\n\\t\\t\\t\\t\\t\\t\\t<String ID=\"string_275\" HPOS=\"199\" VPOS=\"1482\" WIDTH=\"15\" HEIGHT=\"16\" WC=\"0.95\" CONTENT=\"1.\"/><SP WIDTH=\"8\" VPOS=\"1482\" HPOS=\"214\"/>\\n\\t\\t\\t\\t\\t\\t\\t<String ID=\"string_276\" HPOS=\"222\" VPOS=\"1482\" WIDTH=\"32\" HEIGHT=\"16\" WC=\"0.96\" CONTENT=\"We\"/><SP WIDTH=\"8\" VPOS=\"1482\" HPOS=\"254\"/>\\n\\t\\t\\t\\t\\t\\t\\t<String ID=\"string_277\" HPOS=\"262\" VPOS=\"1482\" WIDTH=\"71\" HEIGHT=\"16\" WC=\"0.94\" CONTENT=\"declare\"/><SP WIDTH=\"8\" VPOS=\"1482\" HPOS=\"333\"/>\\n\\t\\t\\t\\t\\t\\t\\t<String ID=\"string_278\" HPOS=\"341\" VPOS=\"1482\" WIDTH=\"36\" HEIGHT=\"16\" WC=\"0.96\" CONTENT=\"that\"/><SP WIDTH=\"7\" VPOS=\"1482\" HPOS=\"377\"/>\\n\\t\\t\\t\\t\\t\\t\\t<String ID=\"string_279\" HPOS=\"384\" VPOS=\"1482\" WIDTH=\"33\" HEIGHT=\"16\" WC=\"0.96\" CONTENT=\"this\"/><SP WIDTH=\"9\" VPOS=\"1482\" HPOS=\"417\"/>\\n\\t\\t\\t\\t\\t\\t\\t<String ID=\"string_280\" HPOS=\"426\" VPOS=\"1482\" WIDTH=\"67\" HEIGHT=\"16\" WC=\"0.96\" CONTENT=\"invoice\"/><SP WIDTH=\"8\" VPOS=\"1482\" HPOS=\"493\"/>\\n\\t\\t\\t\\t\\t\\t\\t<String ID=\"string_281\" HPOS=\"501\" VPOS=\"1482\" WIDTH=\"61\" HEIGHT=\"16\" WC=\"0.96\" CONTENT=\"shows\"/><SP WIDTH=\"7\" VPOS=\"1482\" HPOS=\"562\"/>\\n\\t\\t\\t\\t\\t\\t\\t<String ID=\"string_282\" HPOS=\"569\" VPOS=\"1482\" WIDTH=\"30\" HEIGHT=\"16\" WC=\"0.96\" CONTENT=\"the\"/><SP WIDTH=\"8\" VPOS=\"1482\" HPOS=\"599\"/>\\n\\t\\t\\t\\t\\t\\t\\t<String ID=\"string_283\" HPOS=\"607\" VPOS=\"1482\" WIDTH=\"57\" HEIGHT=\"16\" WC=\"0.97\" CONTENT=\"actual\"/><SP WIDTH=\"9\" VPOS=\"1482\" HPOS=\"664\"/>\\n\\t\\t\\t\\t\\t\\t\\t<String ID=\"string_284\" HPOS=\"673\" VPOS=\"1482\" WIDTH=\"46\" HEIGHT=\"20\" WC=\"0.97\" CONTENT=\"price\"/><SP WIDTH=\"7\" VPOS=\"1482\" HPOS=\"719\"/>\\n\\t\\t\\t\\t\\t\\t\\t<String ID=\"string_285\" HPOS=\"726\" VPOS=\"1482\" WIDTH=\"19\" HEIGHT=\"16\" WC=\"0.97\" CONTENT=\"of\"/><SP WIDTH=\"6\" VPOS=\"1482\" HPOS=\"745\"/>\\n\\t\\t\\t\\t\\t\\t\\t<String ID=\"string_286\" HPOS=\"751\" VPOS=\"1482\" WIDTH=\"59\" HEIGHT=\"21\" WC=\"0.96\" CONTENT=\"goods\"/><SP WIDTH=\"8\" VPOS=\"1482\" HPOS=\"810\"/>\\n\\t\\t\\t\\t\\t\\t\\t<String ID=\"string_287\" HPOS=\"818\" VPOS=\"1482\" WIDTH=\"94\" HEIGHT=\"16\" WC=\"0.96\" CONTENT=\"described\"/><SP WIDTH=\"9\" VPOS=\"1482\" HPOS=\"912\"/>\\n\\t\\t\\t\\t\\t\\t\\t<String ID=\"string_288\" HPOS=\"921\" VPOS=\"1482\" WIDTH=\"34\" HEIGHT=\"16\" WC=\"0.96\" CONTENT=\"and\"/><SP WIDTH=\"9\" VPOS=\"1482\" HPOS=\"955\"/>\\n\\t\\t\\t\\t\\t\\t\\t<String ID=\"string_289\" HPOS=\"964\" VPOS=\"1483\" WIDTH=\"71\" HEIGHT=\"15\" WC=\"0.96\" CONTENT=\"correct.\"/>\\n\\t\\t\\t\\t\\t\\t</TextLine>\\n\\t\\t\\t\\t\\t</TextBlock>\\n\\t\\t\\t\\t</ComposedBlock>\\n\\t\\t\\t\\t<ComposedBlock ID=\"cblock_29\" HPOS=\"1973\" VPOS=\"1443\" WIDTH=\"213\" HEIGHT=\"23\">\\n\\t\\t\\t\\t\\t<TextBlock ID=\"block_6\" HPOS=\"1973\" VPOS=\"1443\" WIDTH=\"213\" HEIGHT=\"23\">\\n\\t\\t\\t\\t\\t\\t<TextLine ID=\"line_30\" HPOS=\"1973\" VPOS=\"1443\" WIDTH=\"213\" HEIGHT=\"23\">\\n\\t\\t\\t\\t\\t\\t\\t<String ID=\"string_290\" HPOS=\"1973\" VPOS=\"1443\" WIDTH=\"105\" HEIGHT=\"23\" WC=\"0.96\" CONTENT=\"Signature\"/><SP WIDTH=\"9\" VPOS=\"1443\" HPOS=\"2078\"/>\\n\\t\\t\\t\\t\\t\\t\\t<String ID=\"string_291\" HPOS=\"2087\" VPOS=\"1443\" WIDTH=\"39\" HEIGHT=\"18\" WC=\"0.96\" CONTENT=\"and\"/><SP WIDTH=\"11\" VPOS=\"1443\" HPOS=\"2126\"/>\\n\\t\\t\\t\\t\\t\\t\\t<String ID=\"string_292\" HPOS=\"2137\" VPOS=\"1443\" WIDTH=\"49\" HEIGHT=\"18\" WC=\"0.96\" CONTENT=\"Date\"/>\\n\\t\\t\\t\\t\\t\\t</TextLine>\\n\\t\\t\\t\\t\\t</TextBlock>\\n\\t\\t\\t\\t</ComposedBlock>\\n\\t\\t\\t\\t<ComposedBlock ID=\"cblock_30\" HPOS=\"1913\" VPOS=\"1535\" WIDTH=\"368\" HEIGHT=\"18\">\\n\\t\\t\\t\\t\\t<TextBlock ID=\"block_7\" HPOS=\"1913\" VPOS=\"1535\" WIDTH=\"368\" HEIGHT=\"18\">\\n\\t\\t\\t\\t\\t\\t<TextLine ID=\"line_31\" HPOS=\"1913\" VPOS=\"1535\" WIDTH=\"368\" HEIGHT=\"18\">\\n\\t\\t\\t\\t\\t\\t\\t<String ID=\"string_293\" HPOS=\"1913\" VPOS=\"1535\" WIDTH=\"36\" HEIGHT=\"18\" WC=\"0.92\" CONTENT=\"For\"/><SP WIDTH=\"22\" VPOS=\"1535\" HPOS=\"1949\"/>\\n\\t\\t\\t\\t\\t\\t\\t<String ID=\"string_294\" HPOS=\"1971\" VPOS=\"1535\" WIDTH=\"73\" HEIGHT=\"18\" WC=\"0.85\" CONTENT=\"SHAHI\"/><SP WIDTH=\"11\" VPOS=\"1535\" HPOS=\"2044\"/>\\n\\t\\t\\t\\t\\t\\t\\t<String ID=\"string_295\" HPOS=\"2055\" VPOS=\"1535\" WIDTH=\"116\" HEIGHT=\"18\" WC=\"0.96\" CONTENT=\"EXPORTS\"/><SP WIDTH=\"10\" VPOS=\"1535\" HPOS=\"2171\"/>\\n\\t\\t\\t\\t\\t\\t\\t<String ID=\"string_296\" HPOS=\"2181\" VPOS=\"1535\" WIDTH=\"46\" HEIGHT=\"18\" WC=\"0.95\" CONTENT=\"PVT\"/><SP WIDTH=\"9\" VPOS=\"1535\" HPOS=\"2227\"/>\\n\\t\\t\\t\\t\\t\\t\\t<String ID=\"string_297\" HPOS=\"2236\" VPOS=\"1535\" WIDTH=\"45\" HEIGHT=\"18\" WC=\"0.95\" CONTENT=\"LTD\"/>\\n\\t\\t\\t\\t\\t\\t</TextLine>\\n\\t\\t\\t\\t\\t</TextBlock>\\n\\t\\t\\t\\t</ComposedBlock>\\n\\t\\t\\t\\t<GraphicalElement ID=\"cblock_31\" HPOS=\"2317\" VPOS=\"14\" WIDTH=\"17\" HEIGHT=\"1556\"></GraphicalElement >\\n\\t\\t\\t\\t<GraphicalElement ID=\"cblock_32\" HPOS=\"2317\" VPOS=\"14\" WIDTH=\"17\" HEIGHT=\"1556\"></GraphicalElement >\\n\\t\\t\\t\\t<GraphicalElement ID=\"cblock_33\" HPOS=\"2317\" VPOS=\"14\" WIDTH=\"17\" HEIGHT=\"1556\"></GraphicalElement >\\n\\t\\t\\t\\t<GraphicalElement ID=\"cblock_34\" HPOS=\"2317\" VPOS=\"14\" WIDTH=\"17\" HEIGHT=\"1556\"></GraphicalElement >\\n\\t\\t\\t\\t<GraphicalElement ID=\"cblock_35\" HPOS=\"2317\" VPOS=\"14\" WIDTH=\"17\" HEIGHT=\"1556\"></GraphicalElement >\\n\\t\\t\\t\\t<GraphicalElement ID=\"cblock_36\" HPOS=\"14\" VPOS=\"1556\" WIDTH=\"2312\" HEIGHT=\"27\"></GraphicalElement >\\n\\t\\t\\t</PrintSpace>\\n\\t\\t</Page>\\n\\t</Layout>\\n</alto>\\n'\n"
     ]
    }
   ],
   "source": [
    "print(pytesseract.image_to_alto_xml(img))"
   ]
  },
  {
   "cell_type": "code",
   "execution_count": 77,
   "metadata": {},
   "outputs": [],
   "source": [
    "data=pytesseract.image_to_data(img, output_type=Output.DICT)"
   ]
  },
  {
   "cell_type": "code",
   "execution_count": 78,
   "metadata": {},
   "outputs": [
    {
     "data": {
      "text/plain": [
       "dict_keys(['level', 'page_num', 'block_num', 'par_num', 'line_num', 'word_num', 'left', 'top', 'width', 'height', 'conf', 'text'])"
      ]
     },
     "execution_count": 78,
     "metadata": {},
     "output_type": "execute_result"
    }
   ],
   "source": [
    "data.keys()"
   ]
  },
  {
   "cell_type": "code",
   "execution_count": 79,
   "metadata": {},
   "outputs": [
    {
     "data": {
      "text/plain": [
       "['',\n",
       " '',\n",
       " '',\n",
       " '',\n",
       " ' ',\n",
       " '',\n",
       " '',\n",
       " '',\n",
       " ' ',\n",
       " '',\n",
       " '',\n",
       " '',\n",
       " ' ',\n",
       " '',\n",
       " '',\n",
       " '',\n",
       " ' ',\n",
       " '',\n",
       " '',\n",
       " '',\n",
       " ' ',\n",
       " '',\n",
       " '',\n",
       " '',\n",
       " ' ',\n",
       " '',\n",
       " '',\n",
       " '',\n",
       " ' ',\n",
       " '',\n",
       " '',\n",
       " '',\n",
       " ' ',\n",
       " '',\n",
       " '',\n",
       " '',\n",
       " ' ',\n",
       " '',\n",
       " '',\n",
       " '',\n",
       " ' ',\n",
       " '',\n",
       " '',\n",
       " '',\n",
       " ' ',\n",
       " '',\n",
       " '',\n",
       " '',\n",
       " ' ',\n",
       " '',\n",
       " '',\n",
       " '',\n",
       " ' ',\n",
       " '',\n",
       " '',\n",
       " '',\n",
       " ' ',\n",
       " '',\n",
       " '',\n",
       " '',\n",
       " ' ',\n",
       " '',\n",
       " '',\n",
       " '',\n",
       " ' ',\n",
       " '',\n",
       " '',\n",
       " '',\n",
       " ' ',\n",
       " '',\n",
       " '',\n",
       " '',\n",
       " ' ',\n",
       " '',\n",
       " '',\n",
       " '',\n",
       " ' ',\n",
       " '',\n",
       " '',\n",
       " '',\n",
       " ' ',\n",
       " '',\n",
       " '',\n",
       " '',\n",
       " ' ',\n",
       " '',\n",
       " '',\n",
       " '',\n",
       " ' ',\n",
       " '',\n",
       " '',\n",
       " '',\n",
       " ' ',\n",
       " '',\n",
       " '',\n",
       " '',\n",
       " 'TAX',\n",
       " 'INVOICE',\n",
       " 'ORIGINAL',\n",
       " 'FOR',\n",
       " 'BUYER',\n",
       " 'WB:',\n",
       " '“5232125',\n",
       " '',\n",
       " 'Manufacturer:',\n",
       " 'Shahi',\n",
       " 'Exports',\n",
       " 'Pvt.',\n",
       " 'Ltd.',\n",
       " 'Transport',\n",
       " 'Mode:',\n",
       " 'SEA',\n",
       " '',\n",
       " 'Ambalipura,',\n",
       " 'Belandur',\n",
       " 'Gate,',\n",
       " 'Sarjapura',\n",
       " 'Main',\n",
       " 'Road,Bangalore,',\n",
       " 'Invoice',\n",
       " 'No:',\n",
       " '1291908241',\n",
       " 'Vehicle',\n",
       " 'No',\n",
       " ':',\n",
       " '',\n",
       " 'Bengaluru',\n",
       " 'Urban,',\n",
       " 'Karnataka',\n",
       " '-',\n",
       " '560102',\n",
       " '',\n",
       " 'Invoice',\n",
       " 'Date',\n",
       " ':',\n",
       " '21/01/2020',\n",
       " 'Buyer',\n",
       " 'Order',\n",
       " 'No:',\n",
       " '750557186',\n",
       " '',\n",
       " 'STATE',\n",
       " ':',\n",
       " 'KARNATAKA',\n",
       " 'PAN',\n",
       " ':',\n",
       " 'AAJCS1175L',\n",
       " 'Payment',\n",
       " 'Tem:',\n",
       " '“TT',\n",
       " 'PAYMENT',\n",
       " '',\n",
       " 'GSTIN',\n",
       " ':',\n",
       " '29AAJCS1175L1ZU',\n",
       " 'State',\n",
       " 'Code:',\n",
       " '29',\n",
       " '60',\n",
       " 'DAYS',\n",
       " 'FROM',\n",
       " 'SHIPMENT',\n",
       " 'BY',\n",
       " 'RGTS/NEFT',\n",
       " '',\n",
       " 'Ship',\n",
       " 'To',\n",
       " 'DECATHLON',\n",
       " 'SPORTS',\n",
       " 'INDIA',\n",
       " 'PRIVATE',\n",
       " 'LTD',\n",
       " 'Bill',\n",
       " 'To',\n",
       " ':',\n",
       " 'DECATHLON',\n",
       " 'SPORTS',\n",
       " 'INDIA',\n",
       " 'PVT',\n",
       " 'LTD',\n",
       " '',\n",
       " 'C/o',\n",
       " 'DHL',\n",
       " 'Supply',\n",
       " 'Chain',\n",
       " 'india',\n",
       " 'Pvt',\n",
       " 'Ltd,',\n",
       " 'Survey#',\n",
       " '41/2;',\n",
       " 'Oblapura',\n",
       " 'Survey',\n",
       " 'Number-',\n",
       " '78/10,A2',\n",
       " 'Bellary',\n",
       " 'Road',\n",
       " 'Chikkajala',\n",
       " '',\n",
       " 'Village;',\n",
       " 'Anugondonahalli,',\n",
       " 'Hosakote',\n",
       " 'Taluk;',\n",
       " 'Bangalore',\n",
       " '-',\n",
       " '560',\n",
       " 'Village,Bengaluru,',\n",
       " 'Karnataka',\n",
       " '562157',\n",
       " 'TIN',\n",
       " '-',\n",
       " '29640215582,',\n",
       " '',\n",
       " '067',\n",
       " 'Karnataka',\n",
       " 'PAN',\n",
       " '-',\n",
       " 'AAACL9861H',\n",
       " '',\n",
       " 'State',\n",
       " ':',\n",
       " 'KARNATAKA',\n",
       " '',\n",
       " 'GSTIN:',\n",
       " '29AAACL9861H1Z2',\n",
       " 'State',\n",
       " 'Code:',\n",
       " '29',\n",
       " 'GSTIN:',\n",
       " '|',\n",
       " '29AAACL9861H1Z2',\n",
       " 'State',\n",
       " 'Code',\n",
       " '29',\n",
       " 'State',\n",
       " ':KARNATAKA',\n",
       " '',\n",
       " 'Sl#',\n",
       " 'Description',\n",
       " 'of',\n",
       " 'Goods',\n",
       " 'HSN',\n",
       " 'Code',\n",
       " 'Qty',\n",
       " 'UOM',\n",
       " 'Rate',\n",
       " 'Amount]',\n",
       " 'Discount|',\n",
       " 'UP',\n",
       " 'Taxable',\n",
       " 'CGST',\n",
       " 'SGST',\n",
       " 'IGST',\n",
       " 'Total',\n",
       " 'Value',\n",
       " '',\n",
       " '(GST)',\n",
       " '(INR)',\n",
       " 'Charges',\n",
       " 'Value)',\n",
       " '%',\n",
       " 'Amount]',\n",
       " '%',\n",
       " 'Amount]',\n",
       " '%',\n",
       " 'Amount',\n",
       " '',\n",
       " '1',\n",
       " 'READYMADE',\n",
       " 'GARMENTS',\n",
       " '(100%',\n",
       " 'POLYESTER',\n",
       " 'MENS',\n",
       " '62033300',\n",
       " '4806',\n",
       " 'PCS',\n",
       " '514.60',\n",
       " '2473167.60',\n",
       " '0.00}',\n",
       " '0.00',\n",
       " '|',\n",
       " '2473167.60)',\n",
       " '2.50',\n",
       " '61829.19|',\n",
       " '2.50',\n",
       " '61829.19]',\n",
       " '0.00',\n",
       " '0.00',\n",
       " '2596825.98',\n",
       " '',\n",
       " 'JACKETS',\n",
       " 'WITH',\n",
       " 'LINING',\n",
       " 'AND',\n",
       " 'PADDING',\n",
       " ')',\n",
       " '',\n",
       " 'ITEM',\n",
       " '#',\n",
       " '2121844',\n",
       " '-',\n",
       " '1200',\n",
       " 'PCS,',\n",
       " '',\n",
       " '2121845-',\n",
       " '1890',\n",
       " 'PCS,',\n",
       " '',\n",
       " '2121846-',\n",
       " '1200',\n",
       " 'PCS,',\n",
       " '',\n",
       " '2121847',\n",
       " '-516',\n",
       " 'PCS',\n",
       " '',\n",
       " 'Net',\n",
       " 'Net',\n",
       " 'Weight:',\n",
       " '0.000',\n",
       " 'TOTAL',\n",
       " '#',\n",
       " '2473167.60',\n",
       " '0.00',\n",
       " '0.00]',\n",
       " '2473167.',\n",
       " '61829.19',\n",
       " '61829.19',\n",
       " '0.00',\n",
       " '2596825.98',\n",
       " '',\n",
       " 'Values',\n",
       " 'in',\n",
       " 'Words',\n",
       " '(INR)',\n",
       " ':',\n",
       " 'Total',\n",
       " 'Invoice',\n",
       " 'Value:',\n",
       " '2596825.98',\n",
       " '',\n",
       " '',\n",
       " '',\n",
       " 'Twenty',\n",
       " 'Five',\n",
       " 'Lakh',\n",
       " 'Ninety',\n",
       " 'Six',\n",
       " 'Thousand',\n",
       " 'Eight',\n",
       " 'Hundred',\n",
       " 'Twenty',\n",
       " 'Five',\n",
       " 'And',\n",
       " 'Ninety',\n",
       " 'Eight',\n",
       " 'Paise',\n",
       " 'Only.',\n",
       " '',\n",
       " '',\n",
       " '',\n",
       " 'Our',\n",
       " 'Bank',\n",
       " 'details',\n",
       " 'for',\n",
       " 'payment',\n",
       " ':',\n",
       " 'YES,',\n",
       " 'BANK,',\n",
       " 'GR.',\n",
       " 'FLOOR',\n",
       " '&',\n",
       " 'SECOND',\n",
       " 'FLOOR,',\n",
       " 'SCO-4,',\n",
       " 'SECTOR',\n",
       " '-16,',\n",
       " 'FARIDABAD',\n",
       " '-121002,',\n",
       " '',\n",
       " 'SWIFT',\n",
       " 'CODE:',\n",
       " 'YESBINBBDEL,',\n",
       " 'IFSC',\n",
       " 'CODE-',\n",
       " 'YESB0000020,',\n",
       " 'SHAHI',\n",
       " 'EXPORTS',\n",
       " 'PVT.',\n",
       " 'LTD,',\n",
       " '',\n",
       " '',\n",
       " '',\n",
       " 'Account',\n",
       " 'Number-',\n",
       " '002081400000088',\n",
       " '',\n",
       " '',\n",
       " '',\n",
       " 'Declaration',\n",
       " ':',\n",
       " '',\n",
       " '2.',\n",
       " 'Reverse',\n",
       " 'charge',\n",
       " 'applicable',\n",
       " ':',\n",
       " 'NA',\n",
       " '',\n",
       " '',\n",
       " '',\n",
       " '1.',\n",
       " 'We',\n",
       " 'declare',\n",
       " 'that',\n",
       " 'this',\n",
       " 'invoice',\n",
       " 'shows',\n",
       " 'the',\n",
       " 'actual',\n",
       " 'price',\n",
       " 'of',\n",
       " 'goods',\n",
       " 'described',\n",
       " 'and',\n",
       " 'correct.',\n",
       " '',\n",
       " '',\n",
       " '',\n",
       " 'Signature',\n",
       " 'and',\n",
       " 'Date',\n",
       " '',\n",
       " '',\n",
       " '',\n",
       " 'For',\n",
       " 'SHAHI',\n",
       " 'EXPORTS',\n",
       " 'PVT',\n",
       " 'LTD',\n",
       " '',\n",
       " '',\n",
       " '',\n",
       " ' ',\n",
       " '',\n",
       " '',\n",
       " '',\n",
       " ' ',\n",
       " '',\n",
       " '',\n",
       " '',\n",
       " ' ',\n",
       " '',\n",
       " '',\n",
       " '',\n",
       " ' ',\n",
       " '',\n",
       " '',\n",
       " '',\n",
       " ' ',\n",
       " '',\n",
       " '',\n",
       " '',\n",
       " '']"
      ]
     },
     "execution_count": 79,
     "metadata": {},
     "output_type": "execute_result"
    }
   ],
   "source": [
    "data['text']"
   ]
  },
  {
   "cell_type": "code",
   "execution_count": 80,
   "metadata": {},
   "outputs": [
    {
     "data": {
      "text/html": [
       "<div>\n",
       "<style scoped>\n",
       "    .dataframe tbody tr th:only-of-type {\n",
       "        vertical-align: middle;\n",
       "    }\n",
       "\n",
       "    .dataframe tbody tr th {\n",
       "        vertical-align: top;\n",
       "    }\n",
       "\n",
       "    .dataframe thead th {\n",
       "        text-align: right;\n",
       "    }\n",
       "</style>\n",
       "<table border=\"1\" class=\"dataframe\">\n",
       "  <thead>\n",
       "    <tr style=\"text-align: right;\">\n",
       "      <th></th>\n",
       "      <th>level</th>\n",
       "      <th>page_num</th>\n",
       "      <th>block_num</th>\n",
       "      <th>par_num</th>\n",
       "      <th>line_num</th>\n",
       "      <th>word_num</th>\n",
       "      <th>left</th>\n",
       "      <th>top</th>\n",
       "      <th>width</th>\n",
       "      <th>height</th>\n",
       "      <th>conf</th>\n",
       "      <th>text</th>\n",
       "    </tr>\n",
       "  </thead>\n",
       "  <tbody>\n",
       "    <tr>\n",
       "      <th>0</th>\n",
       "      <td>1</td>\n",
       "      <td>1</td>\n",
       "      <td>0</td>\n",
       "      <td>0</td>\n",
       "      <td>0</td>\n",
       "      <td>0</td>\n",
       "      <td>0</td>\n",
       "      <td>0</td>\n",
       "      <td>2339</td>\n",
       "      <td>1584</td>\n",
       "      <td>-1</td>\n",
       "      <td></td>\n",
       "    </tr>\n",
       "    <tr>\n",
       "      <th>1</th>\n",
       "      <td>2</td>\n",
       "      <td>1</td>\n",
       "      <td>1</td>\n",
       "      <td>0</td>\n",
       "      <td>0</td>\n",
       "      <td>0</td>\n",
       "      <td>14</td>\n",
       "      <td>1</td>\n",
       "      <td>2312</td>\n",
       "      <td>27</td>\n",
       "      <td>-1</td>\n",
       "      <td></td>\n",
       "    </tr>\n",
       "    <tr>\n",
       "      <th>2</th>\n",
       "      <td>3</td>\n",
       "      <td>1</td>\n",
       "      <td>1</td>\n",
       "      <td>1</td>\n",
       "      <td>0</td>\n",
       "      <td>0</td>\n",
       "      <td>14</td>\n",
       "      <td>1</td>\n",
       "      <td>2312</td>\n",
       "      <td>27</td>\n",
       "      <td>-1</td>\n",
       "      <td></td>\n",
       "    </tr>\n",
       "    <tr>\n",
       "      <th>3</th>\n",
       "      <td>4</td>\n",
       "      <td>1</td>\n",
       "      <td>1</td>\n",
       "      <td>1</td>\n",
       "      <td>1</td>\n",
       "      <td>0</td>\n",
       "      <td>14</td>\n",
       "      <td>1</td>\n",
       "      <td>2312</td>\n",
       "      <td>27</td>\n",
       "      <td>-1</td>\n",
       "      <td></td>\n",
       "    </tr>\n",
       "    <tr>\n",
       "      <th>4</th>\n",
       "      <td>5</td>\n",
       "      <td>1</td>\n",
       "      <td>1</td>\n",
       "      <td>1</td>\n",
       "      <td>1</td>\n",
       "      <td>1</td>\n",
       "      <td>14</td>\n",
       "      <td>1</td>\n",
       "      <td>2312</td>\n",
       "      <td>27</td>\n",
       "      <td>95.000000</td>\n",
       "      <td></td>\n",
       "    </tr>\n",
       "  </tbody>\n",
       "</table>\n",
       "</div>"
      ],
      "text/plain": [
       "   level  page_num  block_num  par_num  line_num  word_num  left  top  width  \\\n",
       "0      1         1          0        0         0         0     0    0   2339   \n",
       "1      2         1          1        0         0         0    14    1   2312   \n",
       "2      3         1          1        1         0         0    14    1   2312   \n",
       "3      4         1          1        1         1         0    14    1   2312   \n",
       "4      5         1          1        1         1         1    14    1   2312   \n",
       "\n",
       "   height       conf text  \n",
       "0    1584         -1       \n",
       "1      27         -1       \n",
       "2      27         -1       \n",
       "3      27         -1       \n",
       "4      27  95.000000       "
      ]
     },
     "execution_count": 80,
     "metadata": {},
     "output_type": "execute_result"
    }
   ],
   "source": [
    "data_df = pd.DataFrame(data)\n",
    "data_df.head()"
   ]
  },
  {
   "cell_type": "code",
   "execution_count": 81,
   "metadata": {},
   "outputs": [],
   "source": [
    "clean_df = data_df[~((data_df['text'] == '') | (data_df['text'] == ' ') | (data_df['text'] == ':'))]"
   ]
  },
  {
   "cell_type": "code",
   "execution_count": 82,
   "metadata": {},
   "outputs": [],
   "source": [
    "clean_df.reset_index(inplace= True)"
   ]
  },
  {
   "cell_type": "code",
   "execution_count": 83,
   "metadata": {},
   "outputs": [
    {
     "name": "stderr",
     "output_type": "stream",
     "text": [
      "C:\\Users\\HP\\AppData\\Local\\Temp/ipykernel_11632/1619329374.py:1: SettingWithCopyWarning: \n",
      "A value is trying to be set on a copy of a slice from a DataFrame\n",
      "\n",
      "See the caveats in the documentation: https://pandas.pydata.org/pandas-docs/stable/user_guide/indexing.html#returning-a-view-versus-a-copy\n",
      "  clean_df.drop('index', inplace= True, axis = 1)\n"
     ]
    }
   ],
   "source": [
    "clean_df.drop('index', inplace= True, axis = 1)"
   ]
  },
  {
   "cell_type": "code",
   "execution_count": 84,
   "metadata": {},
   "outputs": [
    {
     "name": "stderr",
     "output_type": "stream",
     "text": [
      "C:\\Users\\HP\\AppData\\Local\\Temp/ipykernel_11632/2487650934.py:1: SettingWithCopyWarning: \n",
      "A value is trying to be set on a copy of a slice from a DataFrame.\n",
      "Try using .loc[row_indexer,col_indexer] = value instead\n",
      "\n",
      "See the caveats in the documentation: https://pandas.pydata.org/pandas-docs/stable/user_guide/indexing.html#returning-a-view-versus-a-copy\n",
      "  clean_df['text'] = clean_df['text'].map(lambda x: x.lower())\n"
     ]
    }
   ],
   "source": [
    "clean_df['text'] = clean_df['text'].map(lambda x: x.lower())"
   ]
  },
  {
   "cell_type": "code",
   "execution_count": 85,
   "metadata": {},
   "outputs": [
    {
     "data": {
      "text/plain": [
       "level                5\n",
       "page_num             1\n",
       "block_num           24\n",
       "par_num              1\n",
       "line_num             3\n",
       "word_num             7\n",
       "left               988\n",
       "top                110\n",
       "width               76\n",
       "height              18\n",
       "conf         95.964699\n",
       "text           invoice\n",
       "Name: 21, dtype: object"
      ]
     },
     "execution_count": 85,
     "metadata": {},
     "output_type": "execute_result"
    }
   ],
   "source": [
    "clean_df.iloc[21]"
   ]
  },
  {
   "cell_type": "code",
   "execution_count": 86,
   "metadata": {},
   "outputs": [
    {
     "data": {
      "text/plain": [
       "0         NaN\n",
       "1        23.0\n",
       "2        23.0\n",
       "3        28.0\n",
       "4        28.0\n",
       "        ...  \n",
       "282    1443.0\n",
       "283    1535.0\n",
       "284    1535.0\n",
       "285    1535.0\n",
       "286    1535.0\n",
       "Name: top, Length: 287, dtype: float64"
      ]
     },
     "execution_count": 86,
     "metadata": {},
     "output_type": "execute_result"
    }
   ],
   "source": [
    "clean_df['top'].shift(1)"
   ]
  },
  {
   "cell_type": "code",
   "execution_count": 87,
   "metadata": {},
   "outputs": [
    {
     "name": "stderr",
     "output_type": "stream",
     "text": [
      "C:\\Users\\HP\\AppData\\Local\\Temp/ipykernel_11632/3556586213.py:1: SettingWithCopyWarning: \n",
      "A value is trying to be set on a copy of a slice from a DataFrame.\n",
      "Try using .loc[row_indexer,col_indexer] = value instead\n",
      "\n",
      "See the caveats in the documentation: https://pandas.pydata.org/pandas-docs/stable/user_guide/indexing.html#returning-a-view-versus-a-copy\n",
      "  clean_df['vertical_gap']=clean_df['top']+clean_df['height']- (clean_df['top'].shift(1)+clean_df['height'].shift(1))\n"
     ]
    }
   ],
   "source": [
    "clean_df['vertical_gap']=clean_df['top']+clean_df['height']- (clean_df['top'].shift(1)+clean_df['height'].shift(1))"
   ]
  },
  {
   "cell_type": "code",
   "execution_count": 88,
   "metadata": {},
   "outputs": [
    {
     "name": "stderr",
     "output_type": "stream",
     "text": [
      "C:\\Users\\HP\\AppData\\Local\\Temp/ipykernel_11632/3656322888.py:1: SettingWithCopyWarning: \n",
      "A value is trying to be set on a copy of a slice from a DataFrame.\n",
      "Try using .loc[row_indexer,col_indexer] = value instead\n",
      "\n",
      "See the caveats in the documentation: https://pandas.pydata.org/pandas-docs/stable/user_guide/indexing.html#returning-a-view-versus-a-copy\n",
      "  clean_df['horizontal_gap'] = clean_df['left'] - (clean_df['left'].shift(1)+clean_df['width'].shift(1, ))\n"
     ]
    }
   ],
   "source": [
    "clean_df['horizontal_gap'] = clean_df['left'] - (clean_df['left'].shift(1)+clean_df['width'].shift(1, ))"
   ]
  },
  {
   "cell_type": "code",
   "execution_count": 89,
   "metadata": {},
   "outputs": [
    {
     "name": "stderr",
     "output_type": "stream",
     "text": [
      "C:\\Users\\HP\\AppData\\Local\\Temp/ipykernel_11632/2206179724.py:1: SettingWithCopyWarning: \n",
      "A value is trying to be set on a copy of a slice from a DataFrame.\n",
      "Try using .loc[row_indexer,col_indexer] = value instead\n",
      "\n",
      "See the caveats in the documentation: https://pandas.pydata.org/pandas-docs/stable/user_guide/indexing.html#returning-a-view-versus-a-copy\n",
      "  clean_df['X_2'] = clean_df['left']+clean_df['width']\n",
      "C:\\Users\\HP\\AppData\\Local\\Temp/ipykernel_11632/2206179724.py:2: SettingWithCopyWarning: \n",
      "A value is trying to be set on a copy of a slice from a DataFrame.\n",
      "Try using .loc[row_indexer,col_indexer] = value instead\n",
      "\n",
      "See the caveats in the documentation: https://pandas.pydata.org/pandas-docs/stable/user_guide/indexing.html#returning-a-view-versus-a-copy\n",
      "  clean_df['Y_2'] = clean_df['top']+clean_df['height']\n"
     ]
    }
   ],
   "source": [
    "clean_df['X_2'] = clean_df['left']+clean_df['width']\n",
    "clean_df['Y_2'] = clean_df['top']+clean_df['height']"
   ]
  },
  {
   "cell_type": "code",
   "execution_count": 90,
   "metadata": {},
   "outputs": [
    {
     "data": {
      "text/html": [
       "<div>\n",
       "<style scoped>\n",
       "    .dataframe tbody tr th:only-of-type {\n",
       "        vertical-align: middle;\n",
       "    }\n",
       "\n",
       "    .dataframe tbody tr th {\n",
       "        vertical-align: top;\n",
       "    }\n",
       "\n",
       "    .dataframe thead th {\n",
       "        text-align: right;\n",
       "    }\n",
       "</style>\n",
       "<table border=\"1\" class=\"dataframe\">\n",
       "  <thead>\n",
       "    <tr style=\"text-align: right;\">\n",
       "      <th></th>\n",
       "      <th>level</th>\n",
       "      <th>page_num</th>\n",
       "      <th>block_num</th>\n",
       "      <th>par_num</th>\n",
       "      <th>line_num</th>\n",
       "      <th>word_num</th>\n",
       "      <th>left</th>\n",
       "      <th>top</th>\n",
       "      <th>width</th>\n",
       "      <th>height</th>\n",
       "      <th>conf</th>\n",
       "      <th>text</th>\n",
       "      <th>vertical_gap</th>\n",
       "      <th>horizontal_gap</th>\n",
       "      <th>X_2</th>\n",
       "      <th>Y_2</th>\n",
       "    </tr>\n",
       "  </thead>\n",
       "  <tbody>\n",
       "    <tr>\n",
       "      <th>0</th>\n",
       "      <td>5</td>\n",
       "      <td>1</td>\n",
       "      <td>24</td>\n",
       "      <td>1</td>\n",
       "      <td>1</td>\n",
       "      <td>1</td>\n",
       "      <td>1056</td>\n",
       "      <td>23</td>\n",
       "      <td>64</td>\n",
       "      <td>24</td>\n",
       "      <td>95.966629</td>\n",
       "      <td>tax</td>\n",
       "      <td>NaN</td>\n",
       "      <td>NaN</td>\n",
       "      <td>1120</td>\n",
       "      <td>47</td>\n",
       "    </tr>\n",
       "    <tr>\n",
       "      <th>1</th>\n",
       "      <td>5</td>\n",
       "      <td>1</td>\n",
       "      <td>24</td>\n",
       "      <td>1</td>\n",
       "      <td>1</td>\n",
       "      <td>2</td>\n",
       "      <td>1133</td>\n",
       "      <td>23</td>\n",
       "      <td>132</td>\n",
       "      <td>24</td>\n",
       "      <td>95.966629</td>\n",
       "      <td>invoice</td>\n",
       "      <td>0.0</td>\n",
       "      <td>13.0</td>\n",
       "      <td>1265</td>\n",
       "      <td>47</td>\n",
       "    </tr>\n",
       "    <tr>\n",
       "      <th>2</th>\n",
       "      <td>5</td>\n",
       "      <td>1</td>\n",
       "      <td>24</td>\n",
       "      <td>1</td>\n",
       "      <td>1</td>\n",
       "      <td>3</td>\n",
       "      <td>1707</td>\n",
       "      <td>28</td>\n",
       "      <td>143</td>\n",
       "      <td>22</td>\n",
       "      <td>96.330345</td>\n",
       "      <td>original</td>\n",
       "      <td>3.0</td>\n",
       "      <td>442.0</td>\n",
       "      <td>1850</td>\n",
       "      <td>50</td>\n",
       "    </tr>\n",
       "    <tr>\n",
       "      <th>3</th>\n",
       "      <td>5</td>\n",
       "      <td>1</td>\n",
       "      <td>24</td>\n",
       "      <td>1</td>\n",
       "      <td>1</td>\n",
       "      <td>4</td>\n",
       "      <td>1862</td>\n",
       "      <td>28</td>\n",
       "      <td>62</td>\n",
       "      <td>22</td>\n",
       "      <td>96.913445</td>\n",
       "      <td>for</td>\n",
       "      <td>0.0</td>\n",
       "      <td>12.0</td>\n",
       "      <td>1924</td>\n",
       "      <td>50</td>\n",
       "    </tr>\n",
       "    <tr>\n",
       "      <th>4</th>\n",
       "      <td>5</td>\n",
       "      <td>1</td>\n",
       "      <td>24</td>\n",
       "      <td>1</td>\n",
       "      <td>1</td>\n",
       "      <td>5</td>\n",
       "      <td>1935</td>\n",
       "      <td>28</td>\n",
       "      <td>103</td>\n",
       "      <td>22</td>\n",
       "      <td>96.324173</td>\n",
       "      <td>buyer</td>\n",
       "      <td>0.0</td>\n",
       "      <td>11.0</td>\n",
       "      <td>2038</td>\n",
       "      <td>50</td>\n",
       "    </tr>\n",
       "  </tbody>\n",
       "</table>\n",
       "</div>"
      ],
      "text/plain": [
       "   level  page_num  block_num  par_num  line_num  word_num  left  top  width  \\\n",
       "0      5         1         24        1         1         1  1056   23     64   \n",
       "1      5         1         24        1         1         2  1133   23    132   \n",
       "2      5         1         24        1         1         3  1707   28    143   \n",
       "3      5         1         24        1         1         4  1862   28     62   \n",
       "4      5         1         24        1         1         5  1935   28    103   \n",
       "\n",
       "   height       conf      text  vertical_gap  horizontal_gap   X_2  Y_2  \n",
       "0      24  95.966629       tax           NaN             NaN  1120   47  \n",
       "1      24  95.966629   invoice           0.0            13.0  1265   47  \n",
       "2      22  96.330345  original           3.0           442.0  1850   50  \n",
       "3      22  96.913445       for           0.0            12.0  1924   50  \n",
       "4      22  96.324173     buyer           0.0            11.0  2038   50  "
      ]
     },
     "execution_count": 90,
     "metadata": {},
     "output_type": "execute_result"
    }
   ],
   "source": [
    "clean_df.head()"
   ]
  },
  {
   "cell_type": "code",
   "execution_count": 91,
   "metadata": {},
   "outputs": [
    {
     "data": {
      "text/plain": [
       "<AxesSubplot:ylabel='horizontal_gap'>"
      ]
     },
     "execution_count": 91,
     "metadata": {},
     "output_type": "execute_result"
    },
    {
     "data": {
      "image/png": "[encoded data removed]",
      "text/plain": [
       "<Figure size 432x288 with 1 Axes>"
      ]
     },
     "metadata": {
      "needs_background": "light"
     },
     "output_type": "display_data"
    }
   ],
   "source": [
    "sns.boxplot(data = clean_df, y = 'horizontal_gap')"
   ]
  },
  {
   "cell_type": "code",
   "execution_count": 92,
   "metadata": {},
   "outputs": [
    {
     "data": {
      "text/html": [
       "<div>\n",
       "<style scoped>\n",
       "    .dataframe tbody tr th:only-of-type {\n",
       "        vertical-align: middle;\n",
       "    }\n",
       "\n",
       "    .dataframe tbody tr th {\n",
       "        vertical-align: top;\n",
       "    }\n",
       "\n",
       "    .dataframe thead th {\n",
       "        text-align: right;\n",
       "    }\n",
       "</style>\n",
       "<table border=\"1\" class=\"dataframe\">\n",
       "  <thead>\n",
       "    <tr style=\"text-align: right;\">\n",
       "      <th></th>\n",
       "      <th>count</th>\n",
       "      <th>mean</th>\n",
       "      <th>std</th>\n",
       "      <th>min</th>\n",
       "      <th>25%</th>\n",
       "      <th>50%</th>\n",
       "      <th>75%</th>\n",
       "      <th>max</th>\n",
       "    </tr>\n",
       "  </thead>\n",
       "  <tbody>\n",
       "    <tr>\n",
       "      <th>level</th>\n",
       "      <td>287.0</td>\n",
       "      <td>5.000000</td>\n",
       "      <td>0.000000</td>\n",
       "      <td>5.0</td>\n",
       "      <td>5.0</td>\n",
       "      <td>5.0</td>\n",
       "      <td>5.0</td>\n",
       "      <td>5.0</td>\n",
       "    </tr>\n",
       "    <tr>\n",
       "      <th>page_num</th>\n",
       "      <td>287.0</td>\n",
       "      <td>1.000000</td>\n",
       "      <td>0.000000</td>\n",
       "      <td>1.0</td>\n",
       "      <td>1.0</td>\n",
       "      <td>1.0</td>\n",
       "      <td>1.0</td>\n",
       "      <td>1.0</td>\n",
       "    </tr>\n",
       "    <tr>\n",
       "      <th>block_num</th>\n",
       "      <td>287.0</td>\n",
       "      <td>24.801394</td>\n",
       "      <td>1.661661</td>\n",
       "      <td>24.0</td>\n",
       "      <td>24.0</td>\n",
       "      <td>24.0</td>\n",
       "      <td>25.0</td>\n",
       "      <td>31.0</td>\n",
       "    </tr>\n",
       "    <tr>\n",
       "      <th>par_num</th>\n",
       "      <td>287.0</td>\n",
       "      <td>1.000000</td>\n",
       "      <td>0.000000</td>\n",
       "      <td>1.0</td>\n",
       "      <td>1.0</td>\n",
       "      <td>1.0</td>\n",
       "      <td>1.0</td>\n",
       "      <td>1.0</td>\n",
       "    </tr>\n",
       "    <tr>\n",
       "      <th>line_num</th>\n",
       "      <td>287.0</td>\n",
       "      <td>9.041812</td>\n",
       "      <td>7.036244</td>\n",
       "      <td>1.0</td>\n",
       "      <td>2.0</td>\n",
       "      <td>8.0</td>\n",
       "      <td>15.0</td>\n",
       "      <td>23.0</td>\n",
       "    </tr>\n",
       "    <tr>\n",
       "      <th>word_num</th>\n",
       "      <td>287.0</td>\n",
       "      <td>6.749129</td>\n",
       "      <td>4.672467</td>\n",
       "      <td>1.0</td>\n",
       "      <td>3.0</td>\n",
       "      <td>6.0</td>\n",
       "      <td>10.0</td>\n",
       "      <td>22.0</td>\n",
       "    </tr>\n",
       "    <tr>\n",
       "      <th>left</th>\n",
       "      <td>287.0</td>\n",
       "      <td>897.634146</td>\n",
       "      <td>643.895744</td>\n",
       "      <td>23.0</td>\n",
       "      <td>318.0</td>\n",
       "      <td>726.0</td>\n",
       "      <td>1424.5</td>\n",
       "      <td>2236.0</td>\n",
       "    </tr>\n",
       "    <tr>\n",
       "      <th>top</th>\n",
       "      <td>287.0</td>\n",
       "      <td>720.829268</td>\n",
       "      <td>503.199076</td>\n",
       "      <td>18.0</td>\n",
       "      <td>316.0</td>\n",
       "      <td>534.0</td>\n",
       "      <td>1318.0</td>\n",
       "      <td>1535.0</td>\n",
       "    </tr>\n",
       "    <tr>\n",
       "      <th>width</th>\n",
       "      <td>287.0</td>\n",
       "      <td>66.540070</td>\n",
       "      <td>36.733747</td>\n",
       "      <td>4.0</td>\n",
       "      <td>41.5</td>\n",
       "      <td>58.0</td>\n",
       "      <td>86.0</td>\n",
       "      <td>200.0</td>\n",
       "    </tr>\n",
       "    <tr>\n",
       "      <th>height</th>\n",
       "      <td>287.0</td>\n",
       "      <td>17.275261</td>\n",
       "      <td>3.698069</td>\n",
       "      <td>2.0</td>\n",
       "      <td>16.0</td>\n",
       "      <td>16.0</td>\n",
       "      <td>18.0</td>\n",
       "      <td>33.0</td>\n",
       "    </tr>\n",
       "    <tr>\n",
       "      <th>vertical_gap</th>\n",
       "      <td>286.0</td>\n",
       "      <td>5.265734</td>\n",
       "      <td>26.059972</td>\n",
       "      <td>-38.0</td>\n",
       "      <td>0.0</td>\n",
       "      <td>0.0</td>\n",
       "      <td>3.0</td>\n",
       "      <td>305.0</td>\n",
       "    </tr>\n",
       "    <tr>\n",
       "      <th>horizontal_gap</th>\n",
       "      <td>286.0</td>\n",
       "      <td>-62.489510</td>\n",
       "      <td>479.561757</td>\n",
       "      <td>-2292.0</td>\n",
       "      <td>8.0</td>\n",
       "      <td>9.0</td>\n",
       "      <td>25.0</td>\n",
       "      <td>1621.0</td>\n",
       "    </tr>\n",
       "    <tr>\n",
       "      <th>X_2</th>\n",
       "      <td>287.0</td>\n",
       "      <td>964.174216</td>\n",
       "      <td>645.211147</td>\n",
       "      <td>59.0</td>\n",
       "      <td>392.5</td>\n",
       "      <td>803.0</td>\n",
       "      <td>1470.0</td>\n",
       "      <td>2316.0</td>\n",
       "    </tr>\n",
       "    <tr>\n",
       "      <th>Y_2</th>\n",
       "      <td>287.0</td>\n",
       "      <td>738.104530</td>\n",
       "      <td>503.488262</td>\n",
       "      <td>34.0</td>\n",
       "      <td>332.0</td>\n",
       "      <td>551.0</td>\n",
       "      <td>1336.0</td>\n",
       "      <td>1553.0</td>\n",
       "    </tr>\n",
       "  </tbody>\n",
       "</table>\n",
       "</div>"
      ],
      "text/plain": [
       "                count        mean         std     min    25%    50%     75%  \\\n",
       "level           287.0    5.000000    0.000000     5.0    5.0    5.0     5.0   \n",
       "page_num        287.0    1.000000    0.000000     1.0    1.0    1.0     1.0   \n",
       "block_num       287.0   24.801394    1.661661    24.0   24.0   24.0    25.0   \n",
       "par_num         287.0    1.000000    0.000000     1.0    1.0    1.0     1.0   \n",
       "line_num        287.0    9.041812    7.036244     1.0    2.0    8.0    15.0   \n",
       "word_num        287.0    6.749129    4.672467     1.0    3.0    6.0    10.0   \n",
       "left            287.0  897.634146  643.895744    23.0  318.0  726.0  1424.5   \n",
       "top             287.0  720.829268  503.199076    18.0  316.0  534.0  1318.0   \n",
       "width           287.0   66.540070   36.733747     4.0   41.5   58.0    86.0   \n",
       "height          287.0   17.275261    3.698069     2.0   16.0   16.0    18.0   \n",
       "vertical_gap    286.0    5.265734   26.059972   -38.0    0.0    0.0     3.0   \n",
       "horizontal_gap  286.0  -62.489510  479.561757 -2292.0    8.0    9.0    25.0   \n",
       "X_2             287.0  964.174216  645.211147    59.0  392.5  803.0  1470.0   \n",
       "Y_2             287.0  738.104530  503.488262    34.0  332.0  551.0  1336.0   \n",
       "\n",
       "                   max  \n",
       "level              5.0  \n",
       "page_num           1.0  \n",
       "block_num         31.0  \n",
       "par_num            1.0  \n",
       "line_num          23.0  \n",
       "word_num          22.0  \n",
       "left            2236.0  \n",
       "top             1535.0  \n",
       "width            200.0  \n",
       "height            33.0  \n",
       "vertical_gap     305.0  \n",
       "horizontal_gap  1621.0  \n",
       "X_2             2316.0  \n",
       "Y_2             1553.0  "
      ]
     },
     "execution_count": 92,
     "metadata": {},
     "output_type": "execute_result"
    }
   ],
   "source": [
    "clean_df.describe().transpose()"
   ]
  },
  {
   "cell_type": "code",
   "execution_count": 93,
   "metadata": {},
   "outputs": [],
   "source": [
    "def conditions(X,Y,W,H):\n",
    "    # right side\n",
    "    top_condition = (clean_df['top'] >= (Y-5))\n",
    "    left_condition = (clean_df['left'] >= (X+W))\n",
    "    right_condition = (clean_df['left'] <= (X+W+80))\n",
    "    bottom_condition = (clean_df['top'] <= (Y+(H/2)))\n",
    "\n",
    "    row_condition = (top_condition & bottom_condition & right_condition & left_condition)\n",
    "\n",
    "    # on bottom side\n",
    "    top_condition_bt = (clean_df['top'] >= (Y+H))\n",
    "    left_condition_bt = (clean_df['left'] >= (X-H))\n",
    "    right_condition_bt = (clean_df['left'] <= (X+W+20))\n",
    "    bottom_condition_bt = (clean_df['top'] <= (Y+(2*H)))\n",
    "\n",
    "    column_condition = (top_condition_bt & bottom_condition_bt & right_condition_bt & left_condition_bt)\n",
    "    return row_condition, column_condition"
   ]
  },
  {
   "cell_type": "code",
   "execution_count": 113,
   "metadata": {},
   "outputs": [
    {
     "name": "stdout",
     "output_type": "stream",
     "text": [
      "u\n",
      "no:\n",
      "u\n",
      "u\n",
      "u\n",
      "u\n"
     ]
    }
   ],
   "source": [
    "variable = ['no', 'number']\n",
    "invoice = clean_df[clean_df.text == 'invoice'].index\n",
    "final_idx = []\n",
    "for index in invoice:\n",
    "    X, Y, W, H=clean_df.iloc[index][['left', 'top', 'width', 'height']].to_list()\n",
    "    row_condition, column_condition = conditions(X,Y,W,H)\n",
    "\n",
    "    # clean_df[((980 <= clean_df['left']) & (clean_df['left'] <= (X+W+20))) & (clean_df['width'] >=76) & (clean_df['top'] >= Y)]\n",
    "    no_df = clean_df[(row_condition | column_condition)]\n",
    "\n",
    "    # if no_df.shape[0] == 1 and (clean_df.text[no_df.index].values in ['no:', 'no', 'number']):\n",
    "    #     print(index, no_df.index)\n",
    "    for obs in no_df.index:\n",
    "        re_exp = variable[0]+' {,3}[:-]*|'+variable[1]+' {,2}[:-]*'\n",
    "        if re.match(re_exp,clean_df.text[obs]):\n",
    "        # if clean_df.text[obs] in ['date:', 'date']:\n",
    "            print(clean_df.text[obs])\n",
    "            no_idx = obs\n",
    "            final_idx = [index, obs]\n",
    "            break\n",
    "    # if final_idx is not None:\n",
    "    #     break\n",
    "    print('u')\n",
    "\n",
    "new_df = clean_df.iloc[final_idx]\n",
    "X, Y, W, H =new_df.left.min(), new_df.top.min(), new_df.X_2.max()-new_df.left.min(), new_df.Y_2.max()-new_df.top.min()\n",
    "right_condition, bottom_condition = conditions(X,Y,W,H)\n",
    "no_df = clean_df[right_condition | bottom_condition]\n",
    "\n",
    "target = no_df.text\n",
    "\n",
    "\n",
    "    \n",
    "\n",
    "    # if clean_df.text[index] == 'invoice' and clean_df.text[index+1] in ['no:', 'no :']:\n",
    "    #     print(index)"
   ]
  },
  {
   "cell_type": "code",
   "execution_count": 114,
   "metadata": {},
   "outputs": [
    {
     "data": {
      "text/plain": [
       "[21, 22]"
      ]
     },
     "execution_count": 114,
     "metadata": {},
     "output_type": "execute_result"
    }
   ],
   "source": [
    "final_idx"
   ]
  },
  {
   "cell_type": "code",
   "execution_count": 115,
   "metadata": {},
   "outputs": [
    {
     "data": {
      "text/plain": [
       "23    1291908241\n",
       "Name: text, dtype: object"
      ]
     },
     "execution_count": 115,
     "metadata": {},
     "output_type": "execute_result"
    }
   ],
   "source": [
    "target"
   ]
  },
  {
   "cell_type": "code",
   "execution_count": 52,
   "metadata": {},
   "outputs": [
    {
     "data": {
      "text/plain": [
       "True"
      ]
     },
     "execution_count": 52,
     "metadata": {},
     "output_type": "execute_result"
    }
   ],
   "source": [
    "clean_df.iloc[final_idx]['height'].value_counts().index.shape[0] == 1"
   ]
  },
  {
   "cell_type": "code",
   "execution_count": 97,
   "metadata": {},
   "outputs": [
    {
     "data": {
      "text/html": [
       "<div>\n",
       "<style scoped>\n",
       "    .dataframe tbody tr th:only-of-type {\n",
       "        vertical-align: middle;\n",
       "    }\n",
       "\n",
       "    .dataframe tbody tr th {\n",
       "        vertical-align: top;\n",
       "    }\n",
       "\n",
       "    .dataframe thead th {\n",
       "        text-align: right;\n",
       "    }\n",
       "</style>\n",
       "<table border=\"1\" class=\"dataframe\">\n",
       "  <thead>\n",
       "    <tr style=\"text-align: right;\">\n",
       "      <th></th>\n",
       "      <th>level</th>\n",
       "      <th>page_num</th>\n",
       "      <th>block_num</th>\n",
       "      <th>par_num</th>\n",
       "      <th>line_num</th>\n",
       "      <th>word_num</th>\n",
       "      <th>left</th>\n",
       "      <th>top</th>\n",
       "      <th>width</th>\n",
       "      <th>height</th>\n",
       "      <th>conf</th>\n",
       "      <th>text</th>\n",
       "      <th>vertical_gap</th>\n",
       "      <th>horizontal_gap</th>\n",
       "      <th>X_2</th>\n",
       "      <th>Y_2</th>\n",
       "    </tr>\n",
       "  </thead>\n",
       "  <tbody>\n",
       "    <tr>\n",
       "      <th>31</th>\n",
       "      <td>5</td>\n",
       "      <td>1</td>\n",
       "      <td>24</td>\n",
       "      <td>1</td>\n",
       "      <td>5</td>\n",
       "      <td>1</td>\n",
       "      <td>988</td>\n",
       "      <td>165</td>\n",
       "      <td>76</td>\n",
       "      <td>18</td>\n",
       "      <td>96.947563</td>\n",
       "      <td>invoice</td>\n",
       "      <td>34.0</td>\n",
       "      <td>491.0</td>\n",
       "      <td>1064</td>\n",
       "      <td>183</td>\n",
       "    </tr>\n",
       "    <tr>\n",
       "      <th>32</th>\n",
       "      <td>5</td>\n",
       "      <td>1</td>\n",
       "      <td>24</td>\n",
       "      <td>1</td>\n",
       "      <td>5</td>\n",
       "      <td>2</td>\n",
       "      <td>1074</td>\n",
       "      <td>165</td>\n",
       "      <td>50</td>\n",
       "      <td>18</td>\n",
       "      <td>93.210594</td>\n",
       "      <td>date</td>\n",
       "      <td>0.0</td>\n",
       "      <td>10.0</td>\n",
       "      <td>1124</td>\n",
       "      <td>183</td>\n",
       "    </tr>\n",
       "  </tbody>\n",
       "</table>\n",
       "</div>"
      ],
      "text/plain": [
       "    level  page_num  block_num  par_num  line_num  word_num  left  top  width  \\\n",
       "31      5         1         24        1         5         1   988  165     76   \n",
       "32      5         1         24        1         5         2  1074  165     50   \n",
       "\n",
       "    height       conf     text  vertical_gap  horizontal_gap   X_2  Y_2  \n",
       "31      18  96.947563  invoice          34.0           491.0  1064  183  \n",
       "32      18  93.210594     date           0.0            10.0  1124  183  "
      ]
     },
     "execution_count": 97,
     "metadata": {},
     "output_type": "execute_result"
    }
   ],
   "source": [
    "new_df = clean_df.iloc[final_idx]\n",
    "new_df"
   ]
  },
  {
   "cell_type": "code",
   "execution_count": 98,
   "metadata": {},
   "outputs": [],
   "source": [
    "X, Y, W, H =new_df.left.min(), new_df.top.min(), new_df.X_2.max()-new_df.left.min(), new_df.Y_2.max()-new_df.top.min()"
   ]
  },
  {
   "cell_type": "code",
   "execution_count": 99,
   "metadata": {},
   "outputs": [],
   "source": [
    "top_condition = (clean_df['top'] >= (Y-5))\n",
    "left_condition = (clean_df['left'] >= (X+W))\n",
    "right_condition = (clean_df['left'] <= (X+W+20))\n",
    "bottom_condition = (clean_df['top'] <= (Y+(H/2)))\n",
    "\n",
    "row_condition = (top_condition & bottom_condition & right_condition & left_condition)\n",
    "\n",
    "# on bottom side\n",
    "top_condition_bt = (clean_df['top'] >= (Y+H))\n",
    "left_condition_bt = (clean_df['left'] >= (X-H))\n",
    "right_condition_bt = (clean_df['left'] <= (X+W+20))\n",
    "bottom_condition_bt = (clean_df['top'] <= (Y+(2*H)))"
   ]
  },
  {
   "cell_type": "code",
   "execution_count": 100,
   "metadata": {},
   "outputs": [
    {
     "data": {
      "text/plain": [
       "(988, 165, 136, 18)"
      ]
     },
     "execution_count": 100,
     "metadata": {},
     "output_type": "execute_result"
    }
   ],
   "source": [
    "X,Y,W,H"
   ]
  },
  {
   "cell_type": "code",
   "execution_count": 101,
   "metadata": {},
   "outputs": [],
   "source": [
    "right_condition, bottom_condition = conditions(X,Y,W,H)"
   ]
  },
  {
   "cell_type": "code",
   "execution_count": 102,
   "metadata": {},
   "outputs": [
    {
     "data": {
      "text/html": [
       "<div>\n",
       "<style scoped>\n",
       "    .dataframe tbody tr th:only-of-type {\n",
       "        vertical-align: middle;\n",
       "    }\n",
       "\n",
       "    .dataframe tbody tr th {\n",
       "        vertical-align: top;\n",
       "    }\n",
       "\n",
       "    .dataframe thead th {\n",
       "        text-align: right;\n",
       "    }\n",
       "</style>\n",
       "<table border=\"1\" class=\"dataframe\">\n",
       "  <thead>\n",
       "    <tr style=\"text-align: right;\">\n",
       "      <th></th>\n",
       "      <th>level</th>\n",
       "      <th>page_num</th>\n",
       "      <th>block_num</th>\n",
       "      <th>par_num</th>\n",
       "      <th>line_num</th>\n",
       "      <th>word_num</th>\n",
       "      <th>left</th>\n",
       "      <th>top</th>\n",
       "      <th>width</th>\n",
       "      <th>height</th>\n",
       "      <th>conf</th>\n",
       "      <th>text</th>\n",
       "      <th>vertical_gap</th>\n",
       "      <th>horizontal_gap</th>\n",
       "      <th>X_2</th>\n",
       "      <th>Y_2</th>\n",
       "    </tr>\n",
       "  </thead>\n",
       "  <tbody>\n",
       "    <tr>\n",
       "      <th>33</th>\n",
       "      <td>5</td>\n",
       "      <td>1</td>\n",
       "      <td>24</td>\n",
       "      <td>1</td>\n",
       "      <td>5</td>\n",
       "      <td>4</td>\n",
       "      <td>1198</td>\n",
       "      <td>165</td>\n",
       "      <td>123</td>\n",
       "      <td>18</td>\n",
       "      <td>96.443863</td>\n",
       "      <td>21/01/2020</td>\n",
       "      <td>0.0</td>\n",
       "      <td>74.0</td>\n",
       "      <td>1321</td>\n",
       "      <td>183</td>\n",
       "    </tr>\n",
       "  </tbody>\n",
       "</table>\n",
       "</div>"
      ],
      "text/plain": [
       "    level  page_num  block_num  par_num  line_num  word_num  left  top  width  \\\n",
       "33      5         1         24        1         5         4  1198  165    123   \n",
       "\n",
       "    height       conf        text  vertical_gap  horizontal_gap   X_2  Y_2  \n",
       "33      18  96.443863  21/01/2020           0.0            74.0  1321  183  "
      ]
     },
     "execution_count": 102,
     "metadata": {},
     "output_type": "execute_result"
    }
   ],
   "source": [
    "clean_df[right_condition|bottom_condition]"
   ]
  },
  {
   "cell_type": "code",
   "execution_count": null,
   "metadata": {},
   "outputs": [],
   "source": []
  },
  {
   "cell_type": "code",
   "execution_count": 103,
   "metadata": {},
   "outputs": [
    {
     "data": {
      "text/html": [
       "<div>\n",
       "<style scoped>\n",
       "    .dataframe tbody tr th:only-of-type {\n",
       "        vertical-align: middle;\n",
       "    }\n",
       "\n",
       "    .dataframe tbody tr th {\n",
       "        vertical-align: top;\n",
       "    }\n",
       "\n",
       "    .dataframe thead th {\n",
       "        text-align: right;\n",
       "    }\n",
       "</style>\n",
       "<table border=\"1\" class=\"dataframe\">\n",
       "  <thead>\n",
       "    <tr style=\"text-align: right;\">\n",
       "      <th></th>\n",
       "      <th>level</th>\n",
       "      <th>page_num</th>\n",
       "      <th>block_num</th>\n",
       "      <th>par_num</th>\n",
       "      <th>line_num</th>\n",
       "      <th>word_num</th>\n",
       "      <th>left</th>\n",
       "      <th>top</th>\n",
       "      <th>width</th>\n",
       "      <th>height</th>\n",
       "      <th>conf</th>\n",
       "      <th>text</th>\n",
       "      <th>vertical_gap</th>\n",
       "      <th>horizontal_gap</th>\n",
       "      <th>X_2</th>\n",
       "      <th>Y_2</th>\n",
       "    </tr>\n",
       "  </thead>\n",
       "  <tbody>\n",
       "  </tbody>\n",
       "</table>\n",
       "</div>"
      ],
      "text/plain": [
       "Empty DataFrame\n",
       "Columns: [level, page_num, block_num, par_num, line_num, word_num, left, top, width, height, conf, text, vertical_gap, horizontal_gap, X_2, Y_2]\n",
       "Index: []"
      ]
     },
     "execution_count": 103,
     "metadata": {},
     "output_type": "execute_result"
    }
   ],
   "source": [
    "clean_df[row_condition]"
   ]
  },
  {
   "cell_type": "code",
   "execution_count": 104,
   "metadata": {},
   "outputs": [
    {
     "data": {
      "text/html": [
       "<div>\n",
       "<style scoped>\n",
       "    .dataframe tbody tr th:only-of-type {\n",
       "        vertical-align: middle;\n",
       "    }\n",
       "\n",
       "    .dataframe tbody tr th {\n",
       "        vertical-align: top;\n",
       "    }\n",
       "\n",
       "    .dataframe thead th {\n",
       "        text-align: right;\n",
       "    }\n",
       "</style>\n",
       "<table border=\"1\" class=\"dataframe\">\n",
       "  <thead>\n",
       "    <tr style=\"text-align: right;\">\n",
       "      <th></th>\n",
       "      <th>level</th>\n",
       "      <th>page_num</th>\n",
       "      <th>block_num</th>\n",
       "      <th>par_num</th>\n",
       "      <th>line_num</th>\n",
       "      <th>word_num</th>\n",
       "      <th>left</th>\n",
       "      <th>top</th>\n",
       "      <th>width</th>\n",
       "      <th>height</th>\n",
       "      <th>conf</th>\n",
       "      <th>text</th>\n",
       "      <th>vertical_gap</th>\n",
       "      <th>horizontal_gap</th>\n",
       "      <th>X_2</th>\n",
       "      <th>Y_2</th>\n",
       "    </tr>\n",
       "  </thead>\n",
       "  <tbody>\n",
       "    <tr>\n",
       "      <th>33</th>\n",
       "      <td>5</td>\n",
       "      <td>1</td>\n",
       "      <td>24</td>\n",
       "      <td>1</td>\n",
       "      <td>5</td>\n",
       "      <td>4</td>\n",
       "      <td>1198</td>\n",
       "      <td>165</td>\n",
       "      <td>123</td>\n",
       "      <td>18</td>\n",
       "      <td>96.443863</td>\n",
       "      <td>21/01/2020</td>\n",
       "      <td>0.0</td>\n",
       "      <td>74.0</td>\n",
       "      <td>1321</td>\n",
       "      <td>183</td>\n",
       "    </tr>\n",
       "  </tbody>\n",
       "</table>\n",
       "</div>"
      ],
      "text/plain": [
       "    level  page_num  block_num  par_num  line_num  word_num  left  top  width  \\\n",
       "33      5         1         24        1         5         4  1198  165    123   \n",
       "\n",
       "    height       conf        text  vertical_gap  horizontal_gap   X_2  Y_2  \n",
       "33      18  96.443863  21/01/2020           0.0            74.0  1321  183  "
      ]
     },
     "execution_count": 104,
     "metadata": {},
     "output_type": "execute_result"
    }
   ],
   "source": [
    "no_df"
   ]
  },
  {
   "cell_type": "code",
   "execution_count": 105,
   "metadata": {},
   "outputs": [
    {
     "data": {
      "text/plain": [
       "level                     5\n",
       "page_num                  1\n",
       "block_num                24\n",
       "par_num                   1\n",
       "line_num                  5\n",
       "word_num                  1\n",
       "left                    988\n",
       "top                     165\n",
       "width                    50\n",
       "height                   18\n",
       "conf              93.210594\n",
       "text                   date\n",
       "vertical_gap            0.0\n",
       "horizontal_gap         10.0\n",
       "X_2                    1064\n",
       "Y_2                     183\n",
       "dtype: object"
      ]
     },
     "execution_count": 105,
     "metadata": {},
     "output_type": "execute_result"
    }
   ],
   "source": [
    "clean_df.iloc[final_idx].min()"
   ]
  },
  {
   "cell_type": "code",
   "execution_count": 106,
   "metadata": {},
   "outputs": [
    {
     "data": {
      "text/plain": [
       "(988, 110, 76, 18)"
      ]
     },
     "execution_count": 106,
     "metadata": {},
     "output_type": "execute_result"
    }
   ],
   "source": [
    "X, Y, W, H=clean_df.iloc[21][['left', 'top', 'width', 'height']].to_list()\n",
    "X,Y,W,H"
   ]
  },
  {
   "cell_type": "code",
   "execution_count": 107,
   "metadata": {},
   "outputs": [],
   "source": [
    "multi=clean_df[((980 <= clean_df['left'])) & (clean_df['width'] >=76) & (clean_df['top'] >= Y)]"
   ]
  },
  {
   "cell_type": "code",
   "execution_count": 108,
   "metadata": {},
   "outputs": [
    {
     "data": {
      "text/html": [
       "<div>\n",
       "<style scoped>\n",
       "    .dataframe tbody tr th:only-of-type {\n",
       "        vertical-align: middle;\n",
       "    }\n",
       "\n",
       "    .dataframe tbody tr th {\n",
       "        vertical-align: top;\n",
       "    }\n",
       "\n",
       "    .dataframe thead th {\n",
       "        text-align: right;\n",
       "    }\n",
       "</style>\n",
       "<table border=\"1\" class=\"dataframe\">\n",
       "  <thead>\n",
       "    <tr style=\"text-align: right;\">\n",
       "      <th></th>\n",
       "      <th>level</th>\n",
       "      <th>page_num</th>\n",
       "      <th>block_num</th>\n",
       "      <th>par_num</th>\n",
       "      <th>line_num</th>\n",
       "      <th>word_num</th>\n",
       "      <th>left</th>\n",
       "      <th>top</th>\n",
       "      <th>width</th>\n",
       "      <th>height</th>\n",
       "      <th>conf</th>\n",
       "      <th>text</th>\n",
       "      <th>vertical_gap</th>\n",
       "      <th>horizontal_gap</th>\n",
       "      <th>X_2</th>\n",
       "      <th>Y_2</th>\n",
       "    </tr>\n",
       "  </thead>\n",
       "  <tbody>\n",
       "    <tr>\n",
       "      <th>21</th>\n",
       "      <td>5</td>\n",
       "      <td>1</td>\n",
       "      <td>24</td>\n",
       "      <td>1</td>\n",
       "      <td>3</td>\n",
       "      <td>7</td>\n",
       "      <td>988</td>\n",
       "      <td>110</td>\n",
       "      <td>76</td>\n",
       "      <td>18</td>\n",
       "      <td>95.964699</td>\n",
       "      <td>invoice</td>\n",
       "      <td>-2.0</td>\n",
       "      <td>292.0</td>\n",
       "      <td>1064</td>\n",
       "      <td>128</td>\n",
       "    </tr>\n",
       "    <tr>\n",
       "      <th>23</th>\n",
       "      <td>5</td>\n",
       "      <td>1</td>\n",
       "      <td>24</td>\n",
       "      <td>1</td>\n",
       "      <td>3</td>\n",
       "      <td>9</td>\n",
       "      <td>1194</td>\n",
       "      <td>110</td>\n",
       "      <td>132</td>\n",
       "      <td>18</td>\n",
       "      <td>96.744980</td>\n",
       "      <td>1291908241</td>\n",
       "      <td>0.0</td>\n",
       "      <td>78.0</td>\n",
       "      <td>1326</td>\n",
       "      <td>128</td>\n",
       "    </tr>\n",
       "    <tr>\n",
       "      <th>31</th>\n",
       "      <td>5</td>\n",
       "      <td>1</td>\n",
       "      <td>24</td>\n",
       "      <td>1</td>\n",
       "      <td>5</td>\n",
       "      <td>1</td>\n",
       "      <td>988</td>\n",
       "      <td>165</td>\n",
       "      <td>76</td>\n",
       "      <td>18</td>\n",
       "      <td>96.947563</td>\n",
       "      <td>invoice</td>\n",
       "      <td>34.0</td>\n",
       "      <td>491.0</td>\n",
       "      <td>1064</td>\n",
       "      <td>183</td>\n",
       "    </tr>\n",
       "    <tr>\n",
       "      <th>33</th>\n",
       "      <td>5</td>\n",
       "      <td>1</td>\n",
       "      <td>24</td>\n",
       "      <td>1</td>\n",
       "      <td>5</td>\n",
       "      <td>4</td>\n",
       "      <td>1198</td>\n",
       "      <td>165</td>\n",
       "      <td>123</td>\n",
       "      <td>18</td>\n",
       "      <td>96.443863</td>\n",
       "      <td>21/01/2020</td>\n",
       "      <td>0.0</td>\n",
       "      <td>74.0</td>\n",
       "      <td>1321</td>\n",
       "      <td>183</td>\n",
       "    </tr>\n",
       "    <tr>\n",
       "      <th>37</th>\n",
       "      <td>5</td>\n",
       "      <td>1</td>\n",
       "      <td>24</td>\n",
       "      <td>1</td>\n",
       "      <td>5</td>\n",
       "      <td>8</td>\n",
       "      <td>1765</td>\n",
       "      <td>159</td>\n",
       "      <td>109</td>\n",
       "      <td>16</td>\n",
       "      <td>44.741089</td>\n",
       "      <td>750557186</td>\n",
       "      <td>0.0</td>\n",
       "      <td>38.0</td>\n",
       "      <td>1874</td>\n",
       "      <td>175</td>\n",
       "    </tr>\n",
       "    <tr>\n",
       "      <th>42</th>\n",
       "      <td>5</td>\n",
       "      <td>1</td>\n",
       "      <td>24</td>\n",
       "      <td>1</td>\n",
       "      <td>6</td>\n",
       "      <td>7</td>\n",
       "      <td>1568</td>\n",
       "      <td>209</td>\n",
       "      <td>86</td>\n",
       "      <td>21</td>\n",
       "      <td>0.000000</td>\n",
       "      <td>payment</td>\n",
       "      <td>-6.0</td>\n",
       "      <td>810.0</td>\n",
       "      <td>1654</td>\n",
       "      <td>230</td>\n",
       "    </tr>\n",
       "    <tr>\n",
       "      <th>45</th>\n",
       "      <td>5</td>\n",
       "      <td>1</td>\n",
       "      <td>24</td>\n",
       "      <td>1</td>\n",
       "      <td>6</td>\n",
       "      <td>10</td>\n",
       "      <td>1802</td>\n",
       "      <td>209</td>\n",
       "      <td>105</td>\n",
       "      <td>16</td>\n",
       "      <td>83.120430</td>\n",
       "      <td>payment</td>\n",
       "      <td>0.0</td>\n",
       "      <td>9.0</td>\n",
       "      <td>1907</td>\n",
       "      <td>225</td>\n",
       "    </tr>\n",
       "    <tr>\n",
       "      <th>54</th>\n",
       "      <td>5</td>\n",
       "      <td>1</td>\n",
       "      <td>24</td>\n",
       "      <td>1</td>\n",
       "      <td>7</td>\n",
       "      <td>10</td>\n",
       "      <td>1937</td>\n",
       "      <td>243</td>\n",
       "      <td>113</td>\n",
       "      <td>16</td>\n",
       "      <td>96.257294</td>\n",
       "      <td>shipment</td>\n",
       "      <td>0.0</td>\n",
       "      <td>9.0</td>\n",
       "      <td>2050</td>\n",
       "      <td>259</td>\n",
       "    </tr>\n",
       "    <tr>\n",
       "      <th>56</th>\n",
       "      <td>5</td>\n",
       "      <td>1</td>\n",
       "      <td>24</td>\n",
       "      <td>1</td>\n",
       "      <td>7</td>\n",
       "      <td>12</td>\n",
       "      <td>2094</td>\n",
       "      <td>243</td>\n",
       "      <td>124</td>\n",
       "      <td>16</td>\n",
       "      <td>91.849030</td>\n",
       "      <td>rgts/neft</td>\n",
       "      <td>0.0</td>\n",
       "      <td>8.0</td>\n",
       "      <td>2218</td>\n",
       "      <td>259</td>\n",
       "    </tr>\n",
       "    <tr>\n",
       "      <th>66</th>\n",
       "      <td>5</td>\n",
       "      <td>1</td>\n",
       "      <td>24</td>\n",
       "      <td>1</td>\n",
       "      <td>8</td>\n",
       "      <td>11</td>\n",
       "      <td>1077</td>\n",
       "      <td>287</td>\n",
       "      <td>133</td>\n",
       "      <td>16</td>\n",
       "      <td>96.442863</td>\n",
       "      <td>decathlon</td>\n",
       "      <td>3.0</td>\n",
       "      <td>96.0</td>\n",
       "      <td>1210</td>\n",
       "      <td>303</td>\n",
       "    </tr>\n",
       "    <tr>\n",
       "      <th>67</th>\n",
       "      <td>5</td>\n",
       "      <td>1</td>\n",
       "      <td>24</td>\n",
       "      <td>1</td>\n",
       "      <td>8</td>\n",
       "      <td>12</td>\n",
       "      <td>1219</td>\n",
       "      <td>287</td>\n",
       "      <td>89</td>\n",
       "      <td>16</td>\n",
       "      <td>96.285034</td>\n",
       "      <td>sports</td>\n",
       "      <td>0.0</td>\n",
       "      <td>9.0</td>\n",
       "      <td>1308</td>\n",
       "      <td>303</td>\n",
       "    </tr>\n",
       "    <tr>\n",
       "      <th>82</th>\n",
       "      <td>5</td>\n",
       "      <td>1</td>\n",
       "      <td>24</td>\n",
       "      <td>1</td>\n",
       "      <td>9</td>\n",
       "      <td>12</td>\n",
       "      <td>1157</td>\n",
       "      <td>321</td>\n",
       "      <td>84</td>\n",
       "      <td>16</td>\n",
       "      <td>91.405380</td>\n",
       "      <td>number-</td>\n",
       "      <td>-5.0</td>\n",
       "      <td>8.0</td>\n",
       "      <td>1241</td>\n",
       "      <td>337</td>\n",
       "    </tr>\n",
       "    <tr>\n",
       "      <th>83</th>\n",
       "      <td>5</td>\n",
       "      <td>1</td>\n",
       "      <td>24</td>\n",
       "      <td>1</td>\n",
       "      <td>9</td>\n",
       "      <td>13</td>\n",
       "      <td>1249</td>\n",
       "      <td>321</td>\n",
       "      <td>87</td>\n",
       "      <td>19</td>\n",
       "      <td>92.916618</td>\n",
       "      <td>78/10,a2</td>\n",
       "      <td>3.0</td>\n",
       "      <td>8.0</td>\n",
       "      <td>1336</td>\n",
       "      <td>340</td>\n",
       "    </tr>\n",
       "    <tr>\n",
       "      <th>86</th>\n",
       "      <td>5</td>\n",
       "      <td>1</td>\n",
       "      <td>24</td>\n",
       "      <td>1</td>\n",
       "      <td>9</td>\n",
       "      <td>16</td>\n",
       "      <td>1484</td>\n",
       "      <td>321</td>\n",
       "      <td>100</td>\n",
       "      <td>21</td>\n",
       "      <td>78.287094</td>\n",
       "      <td>chikkajala</td>\n",
       "      <td>5.0</td>\n",
       "      <td>15.0</td>\n",
       "      <td>1584</td>\n",
       "      <td>342</td>\n",
       "    </tr>\n",
       "    <tr>\n",
       "      <th>94</th>\n",
       "      <td>5</td>\n",
       "      <td>1</td>\n",
       "      <td>24</td>\n",
       "      <td>1</td>\n",
       "      <td>10</td>\n",
       "      <td>8</td>\n",
       "      <td>1081</td>\n",
       "      <td>347</td>\n",
       "      <td>178</td>\n",
       "      <td>21</td>\n",
       "      <td>90.332062</td>\n",
       "      <td>village,bengaluru,</td>\n",
       "      <td>11.0</td>\n",
       "      <td>327.0</td>\n",
       "      <td>1259</td>\n",
       "      <td>368</td>\n",
       "    </tr>\n",
       "    <tr>\n",
       "      <th>95</th>\n",
       "      <td>5</td>\n",
       "      <td>1</td>\n",
       "      <td>24</td>\n",
       "      <td>1</td>\n",
       "      <td>10</td>\n",
       "      <td>9</td>\n",
       "      <td>1275</td>\n",
       "      <td>347</td>\n",
       "      <td>98</td>\n",
       "      <td>16</td>\n",
       "      <td>96.867294</td>\n",
       "      <td>karnataka</td>\n",
       "      <td>-5.0</td>\n",
       "      <td>16.0</td>\n",
       "      <td>1373</td>\n",
       "      <td>363</td>\n",
       "    </tr>\n",
       "    <tr>\n",
       "      <th>99</th>\n",
       "      <td>5</td>\n",
       "      <td>1</td>\n",
       "      <td>24</td>\n",
       "      <td>1</td>\n",
       "      <td>10</td>\n",
       "      <td>13</td>\n",
       "      <td>1517</td>\n",
       "      <td>347</td>\n",
       "      <td>140</td>\n",
       "      <td>19</td>\n",
       "      <td>96.752373</td>\n",
       "      <td>29640215582,</td>\n",
       "      <td>8.0</td>\n",
       "      <td>7.0</td>\n",
       "      <td>1657</td>\n",
       "      <td>366</td>\n",
       "    </tr>\n",
       "    <tr>\n",
       "      <th>104</th>\n",
       "      <td>5</td>\n",
       "      <td>1</td>\n",
       "      <td>24</td>\n",
       "      <td>1</td>\n",
       "      <td>11</td>\n",
       "      <td>5</td>\n",
       "      <td>1146</td>\n",
       "      <td>373</td>\n",
       "      <td>137</td>\n",
       "      <td>16</td>\n",
       "      <td>92.214973</td>\n",
       "      <td>aaacl9861h</td>\n",
       "      <td>5.0</td>\n",
       "      <td>7.0</td>\n",
       "      <td>1283</td>\n",
       "      <td>389</td>\n",
       "    </tr>\n",
       "    <tr>\n",
       "      <th>114</th>\n",
       "      <td>5</td>\n",
       "      <td>1</td>\n",
       "      <td>24</td>\n",
       "      <td>1</td>\n",
       "      <td>13</td>\n",
       "      <td>8</td>\n",
       "      <td>1081</td>\n",
       "      <td>454</td>\n",
       "      <td>200</td>\n",
       "      <td>16</td>\n",
       "      <td>11.262497</td>\n",
       "      <td>29aaacl9861h1z2</td>\n",
       "      <td>-9.0</td>\n",
       "      <td>7.0</td>\n",
       "      <td>1281</td>\n",
       "      <td>470</td>\n",
       "    </tr>\n",
       "    <tr>\n",
       "      <th>119</th>\n",
       "      <td>5</td>\n",
       "      <td>1</td>\n",
       "      <td>24</td>\n",
       "      <td>1</td>\n",
       "      <td>13</td>\n",
       "      <td>13</td>\n",
       "      <td>1738</td>\n",
       "      <td>454</td>\n",
       "      <td>141</td>\n",
       "      <td>16</td>\n",
       "      <td>79.794716</td>\n",
       "      <td>:karnataka</td>\n",
       "      <td>0.0</td>\n",
       "      <td>9.0</td>\n",
       "      <td>1879</td>\n",
       "      <td>470</td>\n",
       "    </tr>\n",
       "    <tr>\n",
       "      <th>129</th>\n",
       "      <td>5</td>\n",
       "      <td>1</td>\n",
       "      <td>24</td>\n",
       "      <td>1</td>\n",
       "      <td>14</td>\n",
       "      <td>10</td>\n",
       "      <td>1132</td>\n",
       "      <td>501</td>\n",
       "      <td>76</td>\n",
       "      <td>16</td>\n",
       "      <td>10.386490</td>\n",
       "      <td>amount]</td>\n",
       "      <td>-9.0</td>\n",
       "      <td>80.0</td>\n",
       "      <td>1208</td>\n",
       "      <td>517</td>\n",
       "    </tr>\n",
       "    <tr>\n",
       "      <th>130</th>\n",
       "      <td>5</td>\n",
       "      <td>1</td>\n",
       "      <td>24</td>\n",
       "      <td>1</td>\n",
       "      <td>14</td>\n",
       "      <td>11</td>\n",
       "      <td>1226</td>\n",
       "      <td>501</td>\n",
       "      <td>85</td>\n",
       "      <td>16</td>\n",
       "      <td>89.248932</td>\n",
       "      <td>discount|</td>\n",
       "      <td>0.0</td>\n",
       "      <td>18.0</td>\n",
       "      <td>1311</td>\n",
       "      <td>517</td>\n",
       "    </tr>\n",
       "    <tr>\n",
       "      <th>132</th>\n",
       "      <td>5</td>\n",
       "      <td>1</td>\n",
       "      <td>24</td>\n",
       "      <td>1</td>\n",
       "      <td>14</td>\n",
       "      <td>13</td>\n",
       "      <td>1455</td>\n",
       "      <td>493</td>\n",
       "      <td>77</td>\n",
       "      <td>33</td>\n",
       "      <td>95.922867</td>\n",
       "      <td>taxable</td>\n",
       "      <td>5.0</td>\n",
       "      <td>53.0</td>\n",
       "      <td>1532</td>\n",
       "      <td>526</td>\n",
       "    </tr>\n",
       "    <tr>\n",
       "      <th>140</th>\n",
       "      <td>5</td>\n",
       "      <td>1</td>\n",
       "      <td>24</td>\n",
       "      <td>1</td>\n",
       "      <td>15</td>\n",
       "      <td>3</td>\n",
       "      <td>1320</td>\n",
       "      <td>526</td>\n",
       "      <td>82</td>\n",
       "      <td>33</td>\n",
       "      <td>96.758774</td>\n",
       "      <td>charges</td>\n",
       "      <td>8.0</td>\n",
       "      <td>268.0</td>\n",
       "      <td>1402</td>\n",
       "      <td>559</td>\n",
       "    </tr>\n",
       "    <tr>\n",
       "      <th>143</th>\n",
       "      <td>5</td>\n",
       "      <td>1</td>\n",
       "      <td>24</td>\n",
       "      <td>1</td>\n",
       "      <td>15</td>\n",
       "      <td>6</td>\n",
       "      <td>1660</td>\n",
       "      <td>534</td>\n",
       "      <td>76</td>\n",
       "      <td>16</td>\n",
       "      <td>80.180733</td>\n",
       "      <td>amount]</td>\n",
       "      <td>-1.0</td>\n",
       "      <td>86.0</td>\n",
       "      <td>1736</td>\n",
       "      <td>550</td>\n",
       "    </tr>\n",
       "    <tr>\n",
       "      <th>145</th>\n",
       "      <td>5</td>\n",
       "      <td>1</td>\n",
       "      <td>24</td>\n",
       "      <td>1</td>\n",
       "      <td>15</td>\n",
       "      <td>8</td>\n",
       "      <td>1857</td>\n",
       "      <td>534</td>\n",
       "      <td>76</td>\n",
       "      <td>16</td>\n",
       "      <td>58.010033</td>\n",
       "      <td>amount]</td>\n",
       "      <td>-1.0</td>\n",
       "      <td>81.0</td>\n",
       "      <td>1933</td>\n",
       "      <td>550</td>\n",
       "    </tr>\n",
       "    <tr>\n",
       "      <th>147</th>\n",
       "      <td>5</td>\n",
       "      <td>1</td>\n",
       "      <td>24</td>\n",
       "      <td>1</td>\n",
       "      <td>15</td>\n",
       "      <td>10</td>\n",
       "      <td>2060</td>\n",
       "      <td>534</td>\n",
       "      <td>76</td>\n",
       "      <td>16</td>\n",
       "      <td>96.969376</td>\n",
       "      <td>amount</td>\n",
       "      <td>-1.0</td>\n",
       "      <td>86.0</td>\n",
       "      <td>2136</td>\n",
       "      <td>550</td>\n",
       "    </tr>\n",
       "    <tr>\n",
       "      <th>158</th>\n",
       "      <td>5</td>\n",
       "      <td>1</td>\n",
       "      <td>24</td>\n",
       "      <td>1</td>\n",
       "      <td>16</td>\n",
       "      <td>11</td>\n",
       "      <td>1106</td>\n",
       "      <td>573</td>\n",
       "      <td>101</td>\n",
       "      <td>14</td>\n",
       "      <td>91.057961</td>\n",
       "      <td>2473167.60</td>\n",
       "      <td>0.0</td>\n",
       "      <td>54.0</td>\n",
       "      <td>1207</td>\n",
       "      <td>587</td>\n",
       "    </tr>\n",
       "    <tr>\n",
       "      <th>162</th>\n",
       "      <td>5</td>\n",
       "      <td>1</td>\n",
       "      <td>24</td>\n",
       "      <td>1</td>\n",
       "      <td>16</td>\n",
       "      <td>15</td>\n",
       "      <td>1431</td>\n",
       "      <td>573</td>\n",
       "      <td>101</td>\n",
       "      <td>14</td>\n",
       "      <td>86.976692</td>\n",
       "      <td>2473167.60)</td>\n",
       "      <td>-8.0</td>\n",
       "      <td>10.0</td>\n",
       "      <td>1532</td>\n",
       "      <td>587</td>\n",
       "    </tr>\n",
       "    <tr>\n",
       "      <th>164</th>\n",
       "      <td>5</td>\n",
       "      <td>1</td>\n",
       "      <td>24</td>\n",
       "      <td>1</td>\n",
       "      <td>16</td>\n",
       "      <td>17</td>\n",
       "      <td>1656</td>\n",
       "      <td>573</td>\n",
       "      <td>79</td>\n",
       "      <td>14</td>\n",
       "      <td>71.911789</td>\n",
       "      <td>61829.19|</td>\n",
       "      <td>0.0</td>\n",
       "      <td>70.0</td>\n",
       "      <td>1735</td>\n",
       "      <td>587</td>\n",
       "    </tr>\n",
       "    <tr>\n",
       "      <th>166</th>\n",
       "      <td>5</td>\n",
       "      <td>1</td>\n",
       "      <td>24</td>\n",
       "      <td>1</td>\n",
       "      <td>16</td>\n",
       "      <td>19</td>\n",
       "      <td>1853</td>\n",
       "      <td>573</td>\n",
       "      <td>80</td>\n",
       "      <td>14</td>\n",
       "      <td>78.820786</td>\n",
       "      <td>61829.19]</td>\n",
       "      <td>0.0</td>\n",
       "      <td>62.0</td>\n",
       "      <td>1933</td>\n",
       "      <td>587</td>\n",
       "    </tr>\n",
       "    <tr>\n",
       "      <th>169</th>\n",
       "      <td>5</td>\n",
       "      <td>1</td>\n",
       "      <td>24</td>\n",
       "      <td>1</td>\n",
       "      <td>16</td>\n",
       "      <td>22</td>\n",
       "      <td>2187</td>\n",
       "      <td>573</td>\n",
       "      <td>101</td>\n",
       "      <td>14</td>\n",
       "      <td>92.579338</td>\n",
       "      <td>2596825.98</td>\n",
       "      <td>0.0</td>\n",
       "      <td>57.0</td>\n",
       "      <td>2288</td>\n",
       "      <td>587</td>\n",
       "    </tr>\n",
       "    <tr>\n",
       "      <th>197</th>\n",
       "      <td>5</td>\n",
       "      <td>1</td>\n",
       "      <td>24</td>\n",
       "      <td>1</td>\n",
       "      <td>22</td>\n",
       "      <td>7</td>\n",
       "      <td>1088</td>\n",
       "      <td>1187</td>\n",
       "      <td>114</td>\n",
       "      <td>16</td>\n",
       "      <td>45.648571</td>\n",
       "      <td>2473167.60</td>\n",
       "      <td>-1.0</td>\n",
       "      <td>148.0</td>\n",
       "      <td>1202</td>\n",
       "      <td>1203</td>\n",
       "    </tr>\n",
       "    <tr>\n",
       "      <th>200</th>\n",
       "      <td>5</td>\n",
       "      <td>1</td>\n",
       "      <td>24</td>\n",
       "      <td>1</td>\n",
       "      <td>22</td>\n",
       "      <td>10</td>\n",
       "      <td>1430</td>\n",
       "      <td>1188</td>\n",
       "      <td>90</td>\n",
       "      <td>16</td>\n",
       "      <td>93.537369</td>\n",
       "      <td>2473167.</td>\n",
       "      <td>1.0</td>\n",
       "      <td>26.0</td>\n",
       "      <td>1520</td>\n",
       "      <td>1204</td>\n",
       "    </tr>\n",
       "    <tr>\n",
       "      <th>201</th>\n",
       "      <td>5</td>\n",
       "      <td>1</td>\n",
       "      <td>24</td>\n",
       "      <td>1</td>\n",
       "      <td>22</td>\n",
       "      <td>11</td>\n",
       "      <td>1622</td>\n",
       "      <td>1187</td>\n",
       "      <td>91</td>\n",
       "      <td>16</td>\n",
       "      <td>92.637207</td>\n",
       "      <td>61829.19</td>\n",
       "      <td>-1.0</td>\n",
       "      <td>102.0</td>\n",
       "      <td>1713</td>\n",
       "      <td>1203</td>\n",
       "    </tr>\n",
       "    <tr>\n",
       "      <th>202</th>\n",
       "      <td>5</td>\n",
       "      <td>1</td>\n",
       "      <td>24</td>\n",
       "      <td>1</td>\n",
       "      <td>22</td>\n",
       "      <td>12</td>\n",
       "      <td>1830</td>\n",
       "      <td>1187</td>\n",
       "      <td>91</td>\n",
       "      <td>16</td>\n",
       "      <td>90.772942</td>\n",
       "      <td>61829.19</td>\n",
       "      <td>0.0</td>\n",
       "      <td>117.0</td>\n",
       "      <td>1921</td>\n",
       "      <td>1203</td>\n",
       "    </tr>\n",
       "    <tr>\n",
       "      <th>204</th>\n",
       "      <td>5</td>\n",
       "      <td>1</td>\n",
       "      <td>24</td>\n",
       "      <td>1</td>\n",
       "      <td>22</td>\n",
       "      <td>14</td>\n",
       "      <td>2175</td>\n",
       "      <td>1187</td>\n",
       "      <td>116</td>\n",
       "      <td>16</td>\n",
       "      <td>91.315125</td>\n",
       "      <td>2596825.98</td>\n",
       "      <td>0.0</td>\n",
       "      <td>71.0</td>\n",
       "      <td>2291</td>\n",
       "      <td>1203</td>\n",
       "    </tr>\n",
       "    <tr>\n",
       "      <th>210</th>\n",
       "      <td>5</td>\n",
       "      <td>1</td>\n",
       "      <td>24</td>\n",
       "      <td>1</td>\n",
       "      <td>23</td>\n",
       "      <td>7</td>\n",
       "      <td>1960</td>\n",
       "      <td>1307</td>\n",
       "      <td>76</td>\n",
       "      <td>18</td>\n",
       "      <td>96.186592</td>\n",
       "      <td>invoice</td>\n",
       "      <td>0.0</td>\n",
       "      <td>11.0</td>\n",
       "      <td>2036</td>\n",
       "      <td>1325</td>\n",
       "    </tr>\n",
       "    <tr>\n",
       "      <th>212</th>\n",
       "      <td>5</td>\n",
       "      <td>1</td>\n",
       "      <td>24</td>\n",
       "      <td>1</td>\n",
       "      <td>23</td>\n",
       "      <td>9</td>\n",
       "      <td>2154</td>\n",
       "      <td>1305</td>\n",
       "      <td>145</td>\n",
       "      <td>20</td>\n",
       "      <td>90.086189</td>\n",
       "      <td>2596825.98</td>\n",
       "      <td>0.0</td>\n",
       "      <td>34.0</td>\n",
       "      <td>2299</td>\n",
       "      <td>1325</td>\n",
       "    </tr>\n",
       "    <tr>\n",
       "      <th>243</th>\n",
       "      <td>5</td>\n",
       "      <td>1</td>\n",
       "      <td>26</td>\n",
       "      <td>1</td>\n",
       "      <td>1</td>\n",
       "      <td>17</td>\n",
       "      <td>1036</td>\n",
       "      <td>1374</td>\n",
       "      <td>124</td>\n",
       "      <td>16</td>\n",
       "      <td>92.195381</td>\n",
       "      <td>faridabad</td>\n",
       "      <td>-3.0</td>\n",
       "      <td>10.0</td>\n",
       "      <td>1160</td>\n",
       "      <td>1390</td>\n",
       "    </tr>\n",
       "    <tr>\n",
       "      <th>244</th>\n",
       "      <td>5</td>\n",
       "      <td>1</td>\n",
       "      <td>26</td>\n",
       "      <td>1</td>\n",
       "      <td>1</td>\n",
       "      <td>18</td>\n",
       "      <td>1168</td>\n",
       "      <td>1374</td>\n",
       "      <td>86</td>\n",
       "      <td>19</td>\n",
       "      <td>91.768417</td>\n",
       "      <td>-121002,</td>\n",
       "      <td>3.0</td>\n",
       "      <td>8.0</td>\n",
       "      <td>1254</td>\n",
       "      <td>1393</td>\n",
       "    </tr>\n",
       "    <tr>\n",
       "      <th>252</th>\n",
       "      <td>5</td>\n",
       "      <td>1</td>\n",
       "      <td>26</td>\n",
       "      <td>1</td>\n",
       "      <td>2</td>\n",
       "      <td>8</td>\n",
       "      <td>1029</td>\n",
       "      <td>1400</td>\n",
       "      <td>103</td>\n",
       "      <td>16</td>\n",
       "      <td>96.158928</td>\n",
       "      <td>exports</td>\n",
       "      <td>0.0</td>\n",
       "      <td>10.0</td>\n",
       "      <td>1132</td>\n",
       "      <td>1416</td>\n",
       "    </tr>\n",
       "    <tr>\n",
       "      <th>279</th>\n",
       "      <td>5</td>\n",
       "      <td>1</td>\n",
       "      <td>30</td>\n",
       "      <td>1</td>\n",
       "      <td>1</td>\n",
       "      <td>1</td>\n",
       "      <td>1973</td>\n",
       "      <td>1443</td>\n",
       "      <td>105</td>\n",
       "      <td>23</td>\n",
       "      <td>96.243492</td>\n",
       "      <td>signature</td>\n",
       "      <td>-32.0</td>\n",
       "      <td>938.0</td>\n",
       "      <td>2078</td>\n",
       "      <td>1466</td>\n",
       "    </tr>\n",
       "    <tr>\n",
       "      <th>284</th>\n",
       "      <td>5</td>\n",
       "      <td>1</td>\n",
       "      <td>31</td>\n",
       "      <td>1</td>\n",
       "      <td>1</td>\n",
       "      <td>3</td>\n",
       "      <td>2055</td>\n",
       "      <td>1535</td>\n",
       "      <td>116</td>\n",
       "      <td>18</td>\n",
       "      <td>96.175728</td>\n",
       "      <td>exports</td>\n",
       "      <td>0.0</td>\n",
       "      <td>11.0</td>\n",
       "      <td>2171</td>\n",
       "      <td>1553</td>\n",
       "    </tr>\n",
       "  </tbody>\n",
       "</table>\n",
       "</div>"
      ],
      "text/plain": [
       "     level  page_num  block_num  par_num  line_num  word_num  left   top  \\\n",
       "21       5         1         24        1         3         7   988   110   \n",
       "23       5         1         24        1         3         9  1194   110   \n",
       "31       5         1         24        1         5         1   988   165   \n",
       "33       5         1         24        1         5         4  1198   165   \n",
       "37       5         1         24        1         5         8  1765   159   \n",
       "42       5         1         24        1         6         7  1568   209   \n",
       "45       5         1         24        1         6        10  1802   209   \n",
       "54       5         1         24        1         7        10  1937   243   \n",
       "56       5         1         24        1         7        12  2094   243   \n",
       "66       5         1         24        1         8        11  1077   287   \n",
       "67       5         1         24        1         8        12  1219   287   \n",
       "82       5         1         24        1         9        12  1157   321   \n",
       "83       5         1         24        1         9        13  1249   321   \n",
       "86       5         1         24        1         9        16  1484   321   \n",
       "94       5         1         24        1        10         8  1081   347   \n",
       "95       5         1         24        1        10         9  1275   347   \n",
       "99       5         1         24        1        10        13  1517   347   \n",
       "104      5         1         24        1        11         5  1146   373   \n",
       "114      5         1         24        1        13         8  1081   454   \n",
       "119      5         1         24        1        13        13  1738   454   \n",
       "129      5         1         24        1        14        10  1132   501   \n",
       "130      5         1         24        1        14        11  1226   501   \n",
       "132      5         1         24        1        14        13  1455   493   \n",
       "140      5         1         24        1        15         3  1320   526   \n",
       "143      5         1         24        1        15         6  1660   534   \n",
       "145      5         1         24        1        15         8  1857   534   \n",
       "147      5         1         24        1        15        10  2060   534   \n",
       "158      5         1         24        1        16        11  1106   573   \n",
       "162      5         1         24        1        16        15  1431   573   \n",
       "164      5         1         24        1        16        17  1656   573   \n",
       "166      5         1         24        1        16        19  1853   573   \n",
       "169      5         1         24        1        16        22  2187   573   \n",
       "197      5         1         24        1        22         7  1088  1187   \n",
       "200      5         1         24        1        22        10  1430  1188   \n",
       "201      5         1         24        1        22        11  1622  1187   \n",
       "202      5         1         24        1        22        12  1830  1187   \n",
       "204      5         1         24        1        22        14  2175  1187   \n",
       "210      5         1         24        1        23         7  1960  1307   \n",
       "212      5         1         24        1        23         9  2154  1305   \n",
       "243      5         1         26        1         1        17  1036  1374   \n",
       "244      5         1         26        1         1        18  1168  1374   \n",
       "252      5         1         26        1         2         8  1029  1400   \n",
       "279      5         1         30        1         1         1  1973  1443   \n",
       "284      5         1         31        1         1         3  2055  1535   \n",
       "\n",
       "     width  height       conf                text  vertical_gap  \\\n",
       "21      76      18  95.964699             invoice          -2.0   \n",
       "23     132      18  96.744980          1291908241           0.0   \n",
       "31      76      18  96.947563             invoice          34.0   \n",
       "33     123      18  96.443863          21/01/2020           0.0   \n",
       "37     109      16  44.741089           750557186           0.0   \n",
       "42      86      21   0.000000             payment          -6.0   \n",
       "45     105      16  83.120430             payment           0.0   \n",
       "54     113      16  96.257294            shipment           0.0   \n",
       "56     124      16  91.849030           rgts/neft           0.0   \n",
       "66     133      16  96.442863           decathlon           3.0   \n",
       "67      89      16  96.285034              sports           0.0   \n",
       "82      84      16  91.405380             number-          -5.0   \n",
       "83      87      19  92.916618            78/10,a2           3.0   \n",
       "86     100      21  78.287094          chikkajala           5.0   \n",
       "94     178      21  90.332062  village,bengaluru,          11.0   \n",
       "95      98      16  96.867294           karnataka          -5.0   \n",
       "99     140      19  96.752373        29640215582,           8.0   \n",
       "104    137      16  92.214973          aaacl9861h           5.0   \n",
       "114    200      16  11.262497     29aaacl9861h1z2          -9.0   \n",
       "119    141      16  79.794716          :karnataka           0.0   \n",
       "129     76      16  10.386490             amount]          -9.0   \n",
       "130     85      16  89.248932           discount|           0.0   \n",
       "132     77      33  95.922867             taxable           5.0   \n",
       "140     82      33  96.758774             charges           8.0   \n",
       "143     76      16  80.180733             amount]          -1.0   \n",
       "145     76      16  58.010033             amount]          -1.0   \n",
       "147     76      16  96.969376              amount          -1.0   \n",
       "158    101      14  91.057961          2473167.60           0.0   \n",
       "162    101      14  86.976692         2473167.60)          -8.0   \n",
       "164     79      14  71.911789           61829.19|           0.0   \n",
       "166     80      14  78.820786           61829.19]           0.0   \n",
       "169    101      14  92.579338          2596825.98           0.0   \n",
       "197    114      16  45.648571          2473167.60          -1.0   \n",
       "200     90      16  93.537369            2473167.           1.0   \n",
       "201     91      16  92.637207            61829.19          -1.0   \n",
       "202     91      16  90.772942            61829.19           0.0   \n",
       "204    116      16  91.315125          2596825.98           0.0   \n",
       "210     76      18  96.186592             invoice           0.0   \n",
       "212    145      20  90.086189          2596825.98           0.0   \n",
       "243    124      16  92.195381           faridabad          -3.0   \n",
       "244     86      19  91.768417            -121002,           3.0   \n",
       "252    103      16  96.158928             exports           0.0   \n",
       "279    105      23  96.243492           signature         -32.0   \n",
       "284    116      18  96.175728             exports           0.0   \n",
       "\n",
       "     horizontal_gap   X_2   Y_2  \n",
       "21            292.0  1064   128  \n",
       "23             78.0  1326   128  \n",
       "31            491.0  1064   183  \n",
       "33             74.0  1321   183  \n",
       "37             38.0  1874   175  \n",
       "42            810.0  1654   230  \n",
       "45              9.0  1907   225  \n",
       "54              9.0  2050   259  \n",
       "56              8.0  2218   259  \n",
       "66             96.0  1210   303  \n",
       "67              9.0  1308   303  \n",
       "82              8.0  1241   337  \n",
       "83              8.0  1336   340  \n",
       "86             15.0  1584   342  \n",
       "94            327.0  1259   368  \n",
       "95             16.0  1373   363  \n",
       "99              7.0  1657   366  \n",
       "104             7.0  1283   389  \n",
       "114             7.0  1281   470  \n",
       "119             9.0  1879   470  \n",
       "129            80.0  1208   517  \n",
       "130            18.0  1311   517  \n",
       "132            53.0  1532   526  \n",
       "140           268.0  1402   559  \n",
       "143            86.0  1736   550  \n",
       "145            81.0  1933   550  \n",
       "147            86.0  2136   550  \n",
       "158            54.0  1207   587  \n",
       "162            10.0  1532   587  \n",
       "164            70.0  1735   587  \n",
       "166            62.0  1933   587  \n",
       "169            57.0  2288   587  \n",
       "197           148.0  1202  1203  \n",
       "200            26.0  1520  1204  \n",
       "201           102.0  1713  1203  \n",
       "202           117.0  1921  1203  \n",
       "204            71.0  2291  1203  \n",
       "210            11.0  2036  1325  \n",
       "212            34.0  2299  1325  \n",
       "243            10.0  1160  1390  \n",
       "244             8.0  1254  1393  \n",
       "252            10.0  1132  1416  \n",
       "279           938.0  2078  1466  \n",
       "284            11.0  2171  1553  "
      ]
     },
     "execution_count": 108,
     "metadata": {},
     "output_type": "execute_result"
    }
   ],
   "source": [
    "multi"
   ]
  },
  {
   "cell_type": "code",
   "execution_count": 112,
   "metadata": {},
   "outputs": [
    {
     "data": {
      "text/plain": [
       "<re.Match object; span=(0, 9), match='invoice :'>"
      ]
     },
     "execution_count": 112,
     "metadata": {},
     "output_type": "execute_result"
    }
   ],
   "source": [
    "txt = 'invoice'\n",
    "re_str = re.escape(txt) + ' {,3}[:-]*'\n",
    "re.match(re_str, 'invoice :')"
   ]
  },
  {
   "cell_type": "code",
   "execution_count": 110,
   "metadata": {},
   "outputs": [
    {
     "name": "stdout",
     "output_type": "stream",
     "text": [
      "yes 21\n",
      "yes 31\n",
      "yes 210\n"
     ]
    }
   ],
   "source": [
    "for i in multi.index:\n",
    "    if clean_df.text[i] in ['invoice']:\n",
    "        print('yes', i)"
   ]
  },
  {
   "cell_type": "code",
   "execution_count": null,
   "metadata": {},
   "outputs": [],
   "source": [
    "# on left side\n",
    "top_condition = (clean_df['top'] >= (Y-5))\n",
    "left_condition = (clean_df['left'] >= (X+W))\n",
    "right_condition = (clean_df['left'] <= (X+W+20))\n",
    "bottom_condition = (clean_df['top'] <= (Y+(H/2)))\n",
    "\n",
    "row_condition = (top_condition & bottom_condition & right_condition & left_condition)\n",
    "\n",
    "# on bottom side\n",
    "top_condition_bt = (clean_df['top'] >= (Y+H))\n",
    "left_condition_bt = (clean_df['left'] >= (X-H))\n",
    "right_condition_bt = (clean_df['left'] <= (X+W+20))\n",
    "bottom_condition_bt = (clean_df['top'] <= (Y+(2*H)))\n",
    "\n",
    "column_condition = (top_condition_bt & bottom_condition_bt & right_condition_bt & left_condition_bt)\n",
    "\n",
    "# clean_df[((980 <= clean_df['left']) & (clean_df['left'] <= (X+W+20))) & (clean_df['width'] >=76) & (clean_df['top'] >= Y)]\n",
    "no_df = clean_df[(row_condition | column_condition)]"
   ]
  },
  {
   "cell_type": "code",
   "execution_count": null,
   "metadata": {},
   "outputs": [],
   "source": [
    "re.match('no {,3}[:-]*|number {,2}[:-]*',)"
   ]
  },
  {
   "cell_type": "code",
   "execution_count": null,
   "metadata": {},
   "outputs": [],
   "source": [
    "if no_df.shape[0] == 1 and (clean_df.text[no_df.index].values in ['no:', 'no', 'number']):\n",
    "    print('yrd')"
   ]
  },
  {
   "cell_type": "code",
   "execution_count": null,
   "metadata": {},
   "outputs": [],
   "source": [
    "no_df.shape"
   ]
  },
  {
   "cell_type": "code",
   "execution_count": null,
   "metadata": {},
   "outputs": [],
   "source": []
  },
  {
   "cell_type": "code",
   "execution_count": null,
   "metadata": {},
   "outputs": [],
   "source": []
  },
  {
   "cell_type": "code",
   "execution_count": null,
   "metadata": {},
   "outputs": [],
   "source": [
    "invoice_df = clean_df.iloc[21:21+3]\n",
    "invoice_df"
   ]
  },
  {
   "cell_type": "code",
   "execution_count": null,
   "metadata": {},
   "outputs": [],
   "source": [
    "clean_df.to_csv('df.csv')"
   ]
  },
  {
   "cell_type": "code",
   "execution_count": null,
   "metadata": {},
   "outputs": [],
   "source": []
  }
 ],
 "metadata": {
  "interpreter": {
   "hash": "f4e04f42c045def5aa7d79311fcd976240163128e37e7a373751b42951a60e82"
  },
  "kernelspec": {
   "display_name": "Python 3.9.7",
   "language": "python",
   "name": "python3"
  },
  "language_info": {
   "codemirror_mode": {
    "name": "ipython",
    "version": 3
   },
   "file_extension": ".py",
   "mimetype": "text/x-python",
   "name": "python",
   "nbconvert_exporter": "python",
   "pygments_lexer": "ipython3",
   "version": "3.9.7"
  },
  "orig_nbformat": 4
 },
 "nbformat": 4,
 "nbformat_minor": 2
}
